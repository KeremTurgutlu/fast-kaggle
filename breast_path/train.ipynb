{
 "cells": [
  {
   "cell_type": "markdown",
   "metadata": {},
   "source": [
    "https://www.kaggle.com/c/siim-acr-pneumothorax-segmentation/discussion/108308#latest-628454"
   ]
  },
  {
   "cell_type": "code",
   "execution_count": 1,
   "metadata": {},
   "outputs": [],
   "source": [
    "import fastai; fastai.__version__\n",
    "from fastai.vision import *"
   ]
  },
  {
   "cell_type": "code",
   "execution_count": 2,
   "metadata": {},
   "outputs": [],
   "source": [
    "import sys; sys.path.append(\"../dev\")\n",
    "from local.script import run_command\n",
    "from local.segmentation.losses import *"
   ]
  },
  {
   "cell_type": "code",
   "execution_count": 3,
   "metadata": {},
   "outputs": [],
   "source": [
    "PATH = Path(\"/home/turgutluk/data/breast_path/\")\n",
    "IMAGES, MASKS, CODES, TRAIN, TEST, suffix = \\\n",
    "    \"images\", \"labels\", \"codes.txt\", \"train.txt\", \"test.txt\", \".tif\""
   ]
  },
  {
   "cell_type": "code",
   "execution_count": 7,
   "metadata": {},
   "outputs": [],
   "source": [
    "bs = 4\n",
    "size = 320\n",
    "epochs = 10\n",
    "VALID = 0.3\n",
    "sample_size = None\n",
    "max_lr = 3e-3\n",
    "loss_function = \"cross_entropy\""
   ]
  },
  {
   "cell_type": "code",
   "execution_count": 8,
   "metadata": {},
   "outputs": [],
   "source": [
    "EXPERIMENT_NO = 2\n",
    "EXPERIMENT = Path(f\"./experiment_exports/experiment{EXPERIMENT_NO}/\")\n",
    "if EXPERIMENT.exists(): shutil.rmtree(str(EXPERIMENT))"
   ]
  },
  {
   "cell_type": "code",
   "execution_count": null,
   "metadata": {
    "scrolled": false
   },
   "outputs": [
    {
     "name": "stdout",
     "output_type": "stream",
     "text": [
      "To use this log_lamb_rs, please run 'pip install tensorboardx'. Also you must have Tensorboard running to see results\n",
      "Print args here:\n",
      "Training with arch: <function resnet34 at 0x7f770e17c268>\n",
      "Tracking metric: <function dice at 0x7f76168658c8>\n",
      "Training with loss: FlattenedLoss of CrossEntropyLoss()\n",
      "Starting training with max_lr: 0.003\n",
      "Training with transfer learning\n",
      "epoch     train_loss  valid_loss  dice      time\n",
      "Initializing self.best\n",
      "0         0.714019    0.717576    0.450762  00:07\n",
      "Better model found at epoch 0 with dice value: 0.45076194405555725.\n",
      "1         0.680025    0.729330    0.394070  00:02\n",
      "2         0.634820    0.454141    0.849685  00:02\n",
      "Better model found at epoch 2 with dice value: 0.8496851921081543.\n",
      "3         0.585044    0.319561    0.906318  00:02\n",
      "Better model found at epoch 3 with dice value: 0.9063180088996887.\n",
      "4         0.561024    0.321745    0.874219  00:02\n",
      "5         0.564306    0.437402    0.737134  00:02\n",
      "6         0.515052    0.310404    0.862716  00:02\n",
      "7         0.514148    0.226402    0.915950  00:02\n",
      "Better model found at epoch 7 with dice value: 0.9159502387046814.\n",
      "8         0.503475    0.234315    0.927937  00:02\n",
      "Better model found at epoch 8 with dice value: 0.927937388420105.\n",
      "9         0.490004    0.236814    0.926811  00:02\n",
      "Total time: 00:35\n",
      "epoch     train_loss  valid_loss  dice      time\n"
     ]
    }
   ],
   "source": [
    "# single gpu\n",
    "run_command(f\"\"\"\n",
    "python /home/turgutluk/git/fast-kaggle/dev/segmentation_training.py \\\n",
    "--PATH={PATH} \\\n",
    "--IMAGES={IMAGES} \\\n",
    "--MASKS={MASKS} \\\n",
    "--CODES={CODES} \\\n",
    "--TRAIN={TRAIN} \\\n",
    "--VALID={VALID} \\\n",
    "--TEST={TEST} \\\n",
    "--suffix={suffix} \\\n",
    "--bs={bs} \\\n",
    "--size={size} \\\n",
    "--imagenet_pretrained=1 \\\n",
    "--max_lr={max_lr} \\\n",
    "--model_name=bestmodel \\\n",
    "--epochs={epochs} \\\n",
    "--tracking_metric=dice \\\n",
    "--void_name=Void \\\n",
    "--loss_function={loss_function} \\\n",
    "--opt=radam\n",
    "--EXPORT_PATH={str(EXPERIMENT)}\n",
    "\"\"\", logfn=f\"{str(EXPERIMENT)}/cli_log.json\")"
   ]
  },
  {
   "cell_type": "code",
   "execution_count": null,
   "metadata": {},
   "outputs": [],
   "source": []
  },
  {
   "cell_type": "code",
   "execution_count": null,
   "metadata": {},
   "outputs": [],
   "source": []
  }
 ],
 "metadata": {
  "kernelspec": {
   "display_name": "Python 3",
   "language": "python",
   "name": "python3"
  },
  "language_info": {
   "codemirror_mode": {
    "name": "ipython",
    "version": 3
   },
   "file_extension": ".py",
   "mimetype": "text/x-python",
   "name": "python",
   "nbconvert_exporter": "python",
   "pygments_lexer": "ipython3",
   "version": "3.7.2"
  }
 },
 "nbformat": 4,
 "nbformat_minor": 2
}
