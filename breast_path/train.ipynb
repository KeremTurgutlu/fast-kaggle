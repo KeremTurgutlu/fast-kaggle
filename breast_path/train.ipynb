{
 "cells": [
  {
   "cell_type": "code",
   "execution_count": 1,
   "metadata": {},
   "outputs": [],
   "source": [
    "import fastai; fastai.__version__\n",
    "from fastai.vision import *"
   ]
  },
  {
   "cell_type": "code",
   "execution_count": 2,
   "metadata": {},
   "outputs": [],
   "source": [
    "import sys; sys.path.append(\"../dev\")\n",
    "from local.script import run_command\n",
    "from local.segmentation.losses import *"
   ]
  },
  {
   "cell_type": "code",
   "execution_count": 3,
   "metadata": {},
   "outputs": [],
   "source": [
    "PATH = Path(\"/home/turgutluk/data/breast_path/\")\n",
    "IMAGES, MASKS, CODES, TRAIN, TEST, suffix = \\\n",
    "    \"images\", \"labels\", \"codes.txt\", \"train.txt\", \"test.txt\", \".tif\""
   ]
  },
  {
   "cell_type": "code",
   "execution_count": 22,
   "metadata": {},
   "outputs": [],
   "source": [
    "bs = 4\n",
    "size = 320\n",
    "epochs = 10\n",
    "VALID = 0.3\n",
    "sample_size = None\n",
    "max_lr = 0.005\n",
    "loss_function = \"lovasz_softmax\""
   ]
  },
  {
   "cell_type": "code",
   "execution_count": 23,
   "metadata": {},
   "outputs": [],
   "source": [
    "EXPERIMENT_NO = 2\n",
    "EXPERIMENT = Path(f\"./experiment_exports/experiment{EXPERIMENT_NO}/\")\n",
    "if EXPERIMENT.exists(): shutil.rmtree(str(EXPERIMENT))"
   ]
  },
  {
   "cell_type": "code",
   "execution_count": null,
   "metadata": {
    "scrolled": false
   },
   "outputs": [
    {
     "name": "stdout",
     "output_type": "stream",
     "text": [
      "To use this log_lamb_rs, please run 'pip install tensorboardx'. Also you must have Tensorboard running to see results\n",
      "Print args here:\n",
      "Training with arch: <function resnet34 at 0x7f7fc178f268>\n",
      "Tracking metric: <function dice at 0x7f7ec9e7b8c8>\n",
      "Training with loss: <function lovasz_softmax at 0x7f7fb8a8d840>\n",
      "Starting training with max_lr: 0.005\n",
      "Training with transfer learning\n",
      "epoch     train_loss  valid_loss  dice      time\n",
      "Initializing self.best\n",
      "0         0.758736    0.709362    0.000049  00:07\n",
      "Better model found at epoch 0 with dice value: 4.918294507660903e-05.\n",
      "1         0.716677    0.746148    0.640097  00:02\n",
      "Better model found at epoch 1 with dice value: 0.6400970816612244.\n",
      "2         0.726165    0.753224    0.640692  00:02\n",
      "Better model found at epoch 2 with dice value: 0.6406918168067932.\n",
      "3         0.727953    0.753229    0.640692  00:02\n",
      "4         0.730084    0.753229    0.640692  00:02\n",
      "5         0.728623    0.753229    0.640692  00:02\n",
      "6         0.729866    0.753229    0.640692  00:02\n",
      "7         0.731146    0.753229    0.640692  00:02\n",
      "8         0.729825    0.753229    0.640692  00:02\n",
      "9         0.730385    0.753229    0.640692  00:02\n",
      "Total time: 00:33\n",
      "epoch     train_loss  valid_loss  dice      time\n",
      "0         0.734422    0.753229    0.640692  00:02\n",
      "1         0.738011    0.753229    0.640692  00:02\n",
      "2         0.733741    0.753229    0.640692  00:02\n",
      "3         0.733988    0.753229    0.640692  00:02\n",
      "4         0.734389    0.753229    0.640692  00:03\n",
      "5         0.735925    0.753229    0.640692  00:03\n",
      "6         0.737379    0.753229    0.640692  00:02\n",
      "7         0.738797    0.753229    0.640692  00:02\n",
      "8         0.736878    0.753229    0.640692  00:02\n",
      "9         0.736728    0.753229    0.640692  00:02\n",
      "Total time: 00:27\n",
      "epoch     train_loss  valid_loss  dice      time\n",
      "0         0.726813    0.753229    0.640692  00:02\n",
      "1         0.728290    0.753229    0.640692  00:02\n",
      "2         0.726061    0.753229    0.640692  00:02\n",
      "3         0.725443    0.753229    0.640692  00:02\n",
      "4         0.725617    0.753229    0.640692  00:02\n",
      "5         0.727122    0.753229    0.640692  00:02\n",
      "6         0.729657    0.753229    0.640692  00:02\n",
      "7         0.730053    0.753229    0.640692  00:02\n",
      "8         0.730517    0.753229    0.640692  00:02\n"
     ]
    }
   ],
   "source": [
    "# single gpu\n",
    "run_command(f\"\"\"\n",
    "python /home/turgutluk/git/fast-kaggle/dev/segmentation_training.py \\\n",
    "--PATH={PATH} \\\n",
    "--IMAGES={IMAGES} \\\n",
    "--MASKS={MASKS} \\\n",
    "--CODES={CODES} \\\n",
    "--TRAIN={TRAIN} \\\n",
    "--VALID={VALID} \\\n",
    "--TEST={TEST} \\\n",
    "--suffix={suffix} \\\n",
    "--bs={bs} \\\n",
    "--size={size} \\\n",
    "--imagenet_pretrained=1 \\\n",
    "--max_lr={max_lr} \\\n",
    "--model_name=bestmodel \\\n",
    "--epochs={epochs} \\\n",
    "--tracking_metric=dice \\\n",
    "--void_name=Void \\\n",
    "--loss_function={loss_function} \\\n",
    "--opt=radam\n",
    "--EXPORT_PATH={str(EXPERIMENT)}\n",
    "\"\"\", logfn=f\"{str(EXPERIMENT)}/cli_log.json\")"
   ]
  },
  {
   "cell_type": "code",
   "execution_count": 9,
   "metadata": {},
   "outputs": [],
   "source": [
    "from local.segmentation import losses"
   ]
  },
  {
   "cell_type": "code",
   "execution_count": 11,
   "metadata": {},
   "outputs": [
    {
     "ename": "AttributeError",
     "evalue": "module 'local.segmentation.losses' has no attribute 'crossentropy'",
     "output_type": "error",
     "traceback": [
      "\u001b[0;31m---------------------------------------------------------------------------\u001b[0m",
      "\u001b[0;31mAttributeError\u001b[0m                            Traceback (most recent call last)",
      "\u001b[0;32m<ipython-input-11-684c4e60bcf0>\u001b[0m in \u001b[0;36m<module>\u001b[0;34m\u001b[0m\n\u001b[0;32m----> 1\u001b[0;31m \u001b[0mgetattr\u001b[0m\u001b[0;34m(\u001b[0m\u001b[0mlosses\u001b[0m\u001b[0;34m,\u001b[0m \u001b[0;34m\"crossentropy\"\u001b[0m\u001b[0;34m)\u001b[0m\u001b[0;34m\u001b[0m\u001b[0;34m\u001b[0m\u001b[0m\n\u001b[0m",
      "\u001b[0;31mAttributeError\u001b[0m: module 'local.segmentation.losses' has no attribute 'crossentropy'"
     ]
    }
   ],
   "source": [
    "getattr(losses, \"crossentropy\")"
   ]
  },
  {
   "cell_type": "code",
   "execution_count": null,
   "metadata": {},
   "outputs": [],
   "source": []
  },
  {
   "cell_type": "code",
   "execution_count": null,
   "metadata": {},
   "outputs": [],
   "source": []
  }
 ],
 "metadata": {
  "kernelspec": {
   "display_name": "Python 3",
   "language": "python",
   "name": "python3"
  },
  "language_info": {
   "codemirror_mode": {
    "name": "ipython",
    "version": 3
   },
   "file_extension": ".py",
   "mimetype": "text/x-python",
   "name": "python",
   "nbconvert_exporter": "python",
   "pygments_lexer": "ipython3",
   "version": "3.7.2"
  }
 },
 "nbformat": 4,
 "nbformat_minor": 2
}
