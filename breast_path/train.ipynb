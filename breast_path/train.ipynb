{
 "cells": [
  {
   "cell_type": "code",
   "execution_count": 1,
   "metadata": {},
   "outputs": [],
   "source": [
    "import fastai; fastai.__version__\n",
    "from fastai.vision import *"
   ]
  },
  {
   "cell_type": "code",
   "execution_count": 2,
   "metadata": {},
   "outputs": [],
   "source": [
    "import sys; sys.path.append(\"../dev\")\n",
    "from local.script import run_command\n",
    "from local.segmentation.losses_multilabel import *\n",
    "from local.segmentation.losses_binary import *"
   ]
  },
  {
   "cell_type": "code",
   "execution_count": 3,
   "metadata": {},
   "outputs": [
    {
     "data": {
      "text/plain": [
       "[PosixPath('/home/turgutluk/data/breast_path/labels'),\n",
       " PosixPath('/home/turgutluk/data/breast_path/Images'),\n",
       " PosixPath('/home/turgutluk/data/breast_path/test.txt'),\n",
       " PosixPath('/home/turgutluk/data/breast_path/Test_Image'),\n",
       " PosixPath('/home/turgutluk/data/breast_path/images'),\n",
       " PosixPath('/home/turgutluk/data/breast_path/train.txt'),\n",
       " PosixPath('/home/turgutluk/data/breast_path/codes.txt'),\n",
       " PosixPath('/home/turgutluk/data/breast_path/Validation_Image')]"
      ]
     },
     "execution_count": 3,
     "metadata": {},
     "output_type": "execute_result"
    }
   ],
   "source": [
    "PATH = Path(\"/home/turgutluk/data/breast_path/\"); PATH.ls()"
   ]
  },
  {
   "cell_type": "code",
   "execution_count": 4,
   "metadata": {},
   "outputs": [],
   "source": [
    "IMAGES, MASKS, CODES, TRAIN, TEST, suffix = \\\n",
    "    \"images\", \"labels\", \"codes.txt\", \"train.txt\", \"test.txt\", \".tif\""
   ]
  },
  {
   "cell_type": "code",
   "execution_count": 12,
   "metadata": {},
   "outputs": [],
   "source": [
    "bs = 8\n",
    "size = 320\n",
    "imagenet_pretrained = 1\n",
    "sample_size = None\n",
    "modelname = \"resdunet18\"\n",
    "modelconfig = \"{}\"\n",
    "loss_function = \"cross_entropy\"\n",
    "tracking_metric = \"dice\" \n",
    "max_lr = 1e-3\n",
    "epochs = 10\n",
    "opt = \"adamw\"\n",
    "VALID = 0.1"
   ]
  },
  {
   "cell_type": "code",
   "execution_count": 13,
   "metadata": {},
   "outputs": [],
   "source": [
    "EXPERIMENT_EXPORT = Path(\"./experiment_exports/\")"
   ]
  },
  {
   "cell_type": "code",
   "execution_count": 14,
   "metadata": {},
   "outputs": [
    {
     "data": {
      "text/plain": [
       "[PosixPath('experiment_exports/experiment3'),\n",
       " PosixPath('experiment_exports/experiment_dummy'),\n",
       " PosixPath('experiment_exports/experiment2'),\n",
       " PosixPath('experiment_exports/experiment1'),\n",
       " PosixPath('experiment_exports/experiment4')]"
      ]
     },
     "execution_count": 14,
     "metadata": {},
     "output_type": "execute_result"
    }
   ],
   "source": [
    "EXPERIMENT_EXPORT.ls()"
   ]
  },
  {
   "cell_type": "code",
   "execution_count": 15,
   "metadata": {},
   "outputs": [],
   "source": [
    "EXPERIMENT_NO = \"_dummy\"\n",
    "EXPERIMENT = Path(EXPERIMENT_EXPORT/f\"experiment{EXPERIMENT_NO}/\")\n",
    "# if EXPERIMENT.exists(): shutil.rmtree(str(EXPERIMENT))"
   ]
  },
  {
   "cell_type": "code",
   "execution_count": 16,
   "metadata": {
    "scrolled": false
   },
   "outputs": [],
   "source": [
    "# # multi gpu\n",
    "# run_command(f\"\"\"\n",
    "# python {Path(fastai.__file__).parent}/launch.py --gpus=07 \\\n",
    "# /home/turgutluk/git/fast-kaggle/dev/segmentation_training.py \\\n",
    "# --PATH={PATH} \\\n",
    "# --IMAGES={IMAGES} \\\n",
    "# --MASKS={MASKS} \\\n",
    "# --CODES={CODES} \\\n",
    "# --TRAIN={TRAIN} \\\n",
    "# --VALID={VALID} \\\n",
    "# --TEST={TEST} \\\n",
    "# --suffix={suffix} \\\n",
    "# --bs={bs} \\\n",
    "# --size={size} \\\n",
    "# --max_lr={max_lr} \\\n",
    "# --modelname={modelname} \\\n",
    "# --modelconfig={modelconfig} \\\n",
    "# --epochs={epochs} \\\n",
    "# --tracking_metric={tracking_metric} \\\n",
    "# --loss_function={loss_function} \\\n",
    "# --max_lr={max_lr} \\\n",
    "# --epochs={epochs} \\\n",
    "# --opt={opt}\n",
    "# --EXPORT_PATH={str(EXPERIMENT)}\n",
    "# \"\"\", logfn=f\"{str(EXPERIMENT)}/cli_log.json\")"
   ]
  },
  {
   "cell_type": "code",
   "execution_count": 17,
   "metadata": {
    "scrolled": false
   },
   "outputs": [
    {
     "name": "stdout",
     "output_type": "stream",
     "text": [
      "To use this log_lamb_rs, please run 'pip install tensorboardx'. Also you must have Tensorboard running to see results\n",
      "Print args here:\n",
      "Training with model: resdunet18 and config: {'pretrained': True, 'blur': False, 'blur_final': True, 'self_attention': False, 'y_range': None, 'norm_type': <enum 'NormType'>, 'last_cross': True, 'bottle': False}\n",
      "Training with loss: FlattenedLoss of CrossEntropyLoss()\n",
      "Training with metric: <function dice at 0x7f7c88b34510>\n",
      "Starting training with opt_func: functools.partial(<class 'local.optimizers.novograd.AdamW'>, betas=(0.99, 0.9), eps=0.0001)\n",
      "Starting training with max_lr: 0.001\n",
      "Training with transfer learning\n",
      "epoch     train_loss  valid_loss  dice      time\n",
      "Initializing self.best\n",
      "0         0.539373    0.646651    0.693410  00:13\n",
      "Better model found at epoch 0 with dice value: 0.6934104561805725.\n",
      "1         4.983930    46.529186   0.630136  00:05\n",
      "2         6.302339    0.529236    0.771280  00:06\n",
      "Better model found at epoch 2 with dice value: 0.7712799310684204.\n",
      "3         4.640726    0.435511    0.859349  00:06\n",
      "Better model found at epoch 3 with dice value: 0.8593494296073914.\n",
      "4         3.612602    0.361615    0.798746  00:08\n",
      "5         2.910844    0.265929    0.881818  00:06\n",
      "Better model found at epoch 5 with dice value: 0.8818175792694092.\n",
      "6         2.406382    0.376250    0.860377  00:06\n",
      "7         2.038277    0.247530    0.890616  00:06\n",
      "Better model found at epoch 7 with dice value: 0.890615701675415.\n",
      "8         1.745602    0.225651    0.905259  00:06\n",
      "Better model found at epoch 8 with dice value: 0.9052587747573853.\n",
      "9         1.513237    0.223388    0.905067  00:06\n",
      "Total time: 01:18\n",
      "epoch     train_loss  valid_loss  dice      time\n",
      "0         0.202827    0.221205    0.906644  00:07\n",
      "Better model found at epoch 0 with dice value: 0.9066442251205444.\n",
      "1         0.205869    0.219498    0.908860  00:06\n",
      "Better model found at epoch 1 with dice value: 0.9088597297668457.\n",
      "2         0.203796    0.219269    0.910445  00:06\n",
      "Better model found at epoch 2 with dice value: 0.9104450345039368.\n",
      "3         0.203510    0.212139    0.913334  00:06\n",
      "Better model found at epoch 3 with dice value: 0.9133341312408447.\n",
      "4         0.203655    0.217769    0.905282  00:06\n",
      "5         0.199891    0.190754    0.920052  00:06\n",
      "Better model found at epoch 5 with dice value: 0.9200516939163208.\n",
      "6         0.202089    0.263698    0.882213  00:06\n",
      "7         0.200332    0.217384    0.909282  00:07\n",
      "8         0.200013    0.211034    0.906449  00:06\n",
      "9         0.197635    0.214411    0.905600  00:07\n",
      "Total time: 01:14\n",
      "epoch     train_loss  valid_loss  dice      time\n",
      "0         0.188214    0.193996    0.915763  00:05\n",
      "1         0.177359    0.188216    0.919982  00:06\n",
      "2         0.173274    0.191205    0.919526  00:05\n",
      "3         0.169771    0.189507    0.919032  00:05\n",
      "4         0.172161    0.187355    0.919657  00:05\n",
      "5         0.170112    0.182917    0.919701  00:07\n",
      "6         0.167248    0.187749    0.919510  00:10\n",
      "7         0.166271    0.192246    0.912876  00:07\n",
      "8         0.162128    0.201801    0.912939  00:07\n",
      "9         0.161380    0.196691    0.915981  00:06\n",
      "Total time: 01:08\n",
      "Generating Raw Predictions for Valid...\n",
      "Done.\n",
      "Generating Raw Predictions for Test...\n",
      "Done.\n",
      "\n"
     ]
    },
    {
     "data": {
      "text/plain": [
       "0"
      ]
     },
     "execution_count": 17,
     "metadata": {},
     "output_type": "execute_result"
    }
   ],
   "source": [
    "# single gpu\n",
    "run_command(f\"\"\"\n",
    "python /home/turgutluk/git/fast-kaggle/dev/segmentation_training.py \\\n",
    "--PATH={PATH} \\\n",
    "--IMAGES={IMAGES} \\\n",
    "--MASKS={MASKS} \\\n",
    "--CODES={CODES} \\\n",
    "--TRAIN={TRAIN} \\\n",
    "--VALID={VALID} \\\n",
    "--TEST={TEST} \\\n",
    "--suffix={suffix} \\\n",
    "--bs={bs} \\\n",
    "--size={size} \\\n",
    "--max_lr={max_lr} \\\n",
    "--modelname={modelname} \\\n",
    "--modelconfig={modelconfig} \\\n",
    "--epochs={epochs} \\\n",
    "--tracking_metric={tracking_metric} \\\n",
    "--loss_function={loss_function} \\\n",
    "--max_lr={max_lr} \\\n",
    "--epochs={epochs} \\\n",
    "--opt={opt}\n",
    "--EXPORT_PATH={str(EXPERIMENT)}\n",
    "\"\"\", logfn=f\"{str(EXPERIMENT)}/cli_log.json\")"
   ]
  },
  {
   "cell_type": "markdown",
   "metadata": {},
   "source": [
    "### fin"
   ]
  }
 ],
 "metadata": {
  "kernelspec": {
   "display_name": "Python 3",
   "language": "python",
   "name": "python3"
  },
  "language_info": {
   "codemirror_mode": {
    "name": "ipython",
    "version": 3
   },
   "file_extension": ".py",
   "mimetype": "text/x-python",
   "name": "python",
   "nbconvert_exporter": "python",
   "pygments_lexer": "ipython3",
   "version": "3.7.2"
  }
 },
 "nbformat": 4,
 "nbformat_minor": 2
}
