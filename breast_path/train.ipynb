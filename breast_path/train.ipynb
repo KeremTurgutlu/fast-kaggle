{
 "cells": [
  {
   "cell_type": "code",
   "execution_count": 1,
   "metadata": {},
   "outputs": [],
   "source": [
    "import fastai; fastai.__version__\n",
    "from fastai.vision import *"
   ]
  },
  {
   "cell_type": "code",
   "execution_count": 13,
   "metadata": {
    "collapsed": true
   },
   "outputs": [],
   "source": [
    "import sys; sys.path.append(\"../dev\")\n",
    "from local.script import run_command\n",
    "from local.segmentation.losses import *"
   ]
  },
  {
   "cell_type": "code",
   "execution_count": 3,
   "metadata": {},
   "outputs": [],
   "source": [
    "PATH = Path(\"/home/turgutluk/data/breast_path/\")\n",
    "IMAGES, MASKS, CODES, TRAIN, TEST, suffix = \\\n",
    "    \"images\", \"labels\", \"codes.txt\", \"train.txt\", \"test.txt\", \".tif\""
   ]
  },
  {
   "cell_type": "code",
   "execution_count": 24,
   "metadata": {},
   "outputs": [],
   "source": [
    "bs = 4\n",
    "size = 320\n",
    "epochs = 10\n",
    "VALID = 0.3\n",
    "sample_size = None\n",
    "max_lr = 0.001\n",
    "loss_function = \"crossent\""
   ]
  },
  {
   "cell_type": "code",
   "execution_count": 25,
   "metadata": {},
   "outputs": [],
   "source": [
    "EXPERIMENT = Path(\"./experiment_exports/experiment1/\")\n",
    "if EXPERIMENT.exists(): shutil.rmtree(str(EXPERIMENT))"
   ]
  },
  {
   "cell_type": "code",
   "execution_count": 26,
   "metadata": {
    "scrolled": true
   },
   "outputs": [
    {
     "name": "stdout",
     "output_type": "stream",
     "text": [
      "To use this log_lamb_rs, please run 'pip install tensorboardx'. Also you must have Tensorboard running to see results\n",
      "Print args here:\n",
      "Training with arch: <function resnet34 at 0x7f6c85742268>\n",
      "Tracking metric: <function dice at 0x7f6b8de2a8c8>\n",
      "Training with loss: FlattenedLoss of CrossEntropyLoss()\n",
      "Starting training with max_lr: 0.001\n",
      "Training with transfer learning\n",
      "epoch     train_loss  valid_loss  dice      time\n",
      "Initializing self.best\n",
      "0         0.737229    0.771604    0.363651  00:10\n",
      "Better model found at epoch 0 with dice value: 0.3636508584022522.\n",
      "1         0.680170    0.529058    0.812091  00:02\n",
      "Better model found at epoch 1 with dice value: 0.8120908737182617.\n",
      "2         0.766911    0.619803    0.615364  00:02\n",
      "3         0.701971    0.523570    0.799238  00:02\n",
      "4         0.649700    0.596152    0.624633  00:02\n",
      "5         0.605367    0.357973    0.864184  00:02\n",
      "Better model found at epoch 5 with dice value: 0.8641838431358337.\n",
      "6         0.579607    0.750688    0.606297  00:02\n",
      "7         0.540284    0.301963    0.904617  00:02\n",
      "Better model found at epoch 7 with dice value: 0.90461665391922.\n",
      "8         0.527260    0.289617    0.915545  00:02\n",
      "Better model found at epoch 8 with dice value: 0.9155445098876953.\n",
      "9         0.497592    0.286803    0.914737  00:02\n",
      "Total time: 00:38\n",
      "epoch     train_loss  valid_loss  dice      time\n",
      "0         0.409283    0.281250    0.916748  00:02\n",
      "Better model found at epoch 0 with dice value: 0.916748046875.\n",
      "1         0.417511    0.277183    0.917294  00:02\n",
      "Better model found at epoch 1 with dice value: 0.9172936677932739.\n",
      "2         0.363408    0.309984    0.891048  00:02\n",
      "3         0.333315    0.371451    0.853338  00:02\n",
      "4         0.358400    0.297846    0.895631  00:02\n",
      "5         0.365499    0.281737    0.914825  00:02\n",
      "6         0.374420    0.254836    0.928432  00:02\n",
      "Better model found at epoch 6 with dice value: 0.9284318089485168.\n",
      "7         0.350787    0.205816    0.938405  00:02\n",
      "Better model found at epoch 7 with dice value: 0.93840491771698.\n",
      "8         0.361460    0.313721    0.887040  00:02\n",
      "9         0.365681    0.293362    0.898420  00:02\n",
      "Total time: 00:32\n",
      "epoch     train_loss  valid_loss  dice      time\n",
      "0         0.362898    0.289409    0.900371  00:02\n",
      "1         0.367187    0.275935    0.907676  00:02\n",
      "2         0.367242    0.231975    0.933241  00:02\n",
      "3         0.360341    0.223218    0.941370  00:02\n",
      "Better model found at epoch 3 with dice value: 0.9413697123527527.\n",
      "4         0.361466    0.238632    0.935235  00:02\n",
      "5         0.359347    0.255548    0.928630  00:02\n",
      "6         0.360962    0.208037    0.944005  00:02\n",
      "Better model found at epoch 6 with dice value: 0.9440054297447205.\n",
      "7         0.360786    0.302827    0.913759  00:02\n",
      "8         0.359175    0.241255    0.942511  00:02\n",
      "9         0.355424    0.237765    0.936451  00:02\n",
      "Total time: 00:30\n",
      "Generating Raw Predictions for Valid...\n",
      "Done.\n",
      "Generating Raw Predictions for Test...\n",
      "Done.\n",
      "\n"
     ]
    },
    {
     "data": {
      "text/plain": [
       "0"
      ]
     },
     "execution_count": 26,
     "metadata": {},
     "output_type": "execute_result"
    }
   ],
   "source": [
    "run_command(f\"\"\"\n",
    "python /home/turgutluk/git/fast-kaggle/dev/segmentation_training.py \\\n",
    "--PATH={PATH} \\\n",
    "--IMAGES={IMAGES} \\\n",
    "--MASKS={MASKS} \\\n",
    "--CODES={CODES} \\\n",
    "--TRAIN={TRAIN} \\\n",
    "--VALID={VALID} \\\n",
    "--TEST={TEST} \\\n",
    "--suffix={suffix} \\\n",
    "--bs={bs} \\\n",
    "--size={size} \\\n",
    "--imagenet_pretrained=1 \\\n",
    "--max_lr={max_lr} \\\n",
    "--model_name=bestmodel \\\n",
    "--epochs={epochs} \\\n",
    "--tracking_metric=dice \\\n",
    "--void_name=Void \\\n",
    "--loss_function={loss_function} \\\n",
    "--opt=radam\n",
    "--EXPORT_PATH={str(EXPERIMENT)}\n",
    "\"\"\", logfn=f\"{str(EXPERIMENT)}/cli_log.json\")"
   ]
  },
  {
   "cell_type": "code",
   "execution_count": null,
   "metadata": {},
   "outputs": [],
   "source": []
  },
  {
   "cell_type": "code",
   "execution_count": null,
   "metadata": {},
   "outputs": [],
   "source": []
  },
  {
   "cell_type": "code",
   "execution_count": null,
   "metadata": {},
   "outputs": [],
   "source": []
  }
 ],
 "metadata": {
  "kernelspec": {
   "display_name": "Python 3",
   "language": "python",
   "name": "python3"
  },
  "language_info": {
   "codemirror_mode": {
    "name": "ipython",
    "version": 3
   },
   "file_extension": ".py",
   "mimetype": "text/x-python",
   "name": "python",
   "nbconvert_exporter": "python",
   "pygments_lexer": "ipython3",
   "version": "3.7.2"
  }
 },
 "nbformat": 4,
 "nbformat_minor": 2
}
