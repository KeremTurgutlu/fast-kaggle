{
 "cells": [
  {
   "cell_type": "markdown",
   "metadata": {},
   "source": [
    "https://www.kaggle.com/c/siim-acr-pneumothorax-segmentation/discussion/108308#latest-628454"
   ]
  },
  {
   "cell_type": "code",
   "execution_count": 7,
   "metadata": {},
   "outputs": [],
   "source": [
    "import fastai; fastai.__version__\n",
    "from fastai.vision import *"
   ]
  },
  {
   "cell_type": "code",
   "execution_count": 8,
   "metadata": {},
   "outputs": [],
   "source": [
    "import sys; sys.path.append(\"../dev\")\n",
    "from local.script import run_command\n",
    "from local.segmentation.losses import *\n",
    "from local.segmentation.losses_v2 import *"
   ]
  },
  {
   "cell_type": "code",
   "execution_count": 9,
   "metadata": {},
   "outputs": [],
   "source": [
    "PATH = Path(\"/home/turgutluk/data/breast_path/\")\n",
    "IMAGES, MASKS, CODES, TRAIN, TEST, suffix = \\\n",
    "    \"images\", \"labels\", \"codes.txt\", \"train.txt\", \"test.txt\", \".tif\""
   ]
  },
  {
   "cell_type": "code",
   "execution_count": 10,
   "metadata": {},
   "outputs": [],
   "source": [
    "bs = 8\n",
    "size = 320\n",
    "epochs = 10\n",
    "VALID = 0.3\n",
    "sample_size = None\n",
    "max_lr = 3e-3\n",
    "loss_function = \"combo_loss\"\n",
    "arch_name = \"resnet18\"\n",
    "opt = \"radam\""
   ]
  },
  {
   "cell_type": "code",
   "execution_count": 11,
   "metadata": {},
   "outputs": [],
   "source": [
    "EXPERIMENT_EXPORT = Path(\"./experiment_exports/\")"
   ]
  },
  {
   "cell_type": "code",
   "execution_count": 16,
   "metadata": {},
   "outputs": [
    {
     "data": {
      "text/plain": [
       "[PosixPath('experiment_exports/experiment3'),\n",
       " PosixPath('experiment_exports/experiment2'),\n",
       " PosixPath('experiment_exports/experiment1'),\n",
       " PosixPath('experiment_exports/experiment4')]"
      ]
     },
     "execution_count": 16,
     "metadata": {},
     "output_type": "execute_result"
    }
   ],
   "source": [
    "EXPERIMENT_EXPORT.ls()"
   ]
  },
  {
   "cell_type": "code",
   "execution_count": 14,
   "metadata": {},
   "outputs": [],
   "source": [
    "EXPERIMENT_NO = 4\n",
    "EXPERIMENT = Path(EXPERIMENT_EXPORT/f\"experiment{EXPERIMENT_NO}/\")\n",
    "# if EXPERIMENT.exists(): shutil.rmtree(str(EXPERIMENT))"
   ]
  },
  {
   "cell_type": "code",
   "execution_count": 15,
   "metadata": {
    "scrolled": false
   },
   "outputs": [
    {
     "name": "stdout",
     "output_type": "stream",
     "text": [
      "To use this log_lamb_rs, please run 'pip install tensorboardx'. Also you must have Tensorboard running to see results\n",
      "Print args here:\n",
      "Training with arch: <function resnet18 at 0x7f4d166aa0d0>\n",
      "Tracking metric: <function dice at 0x7f4c1ed947b8>\n",
      "Training with loss: _ComboLoss(\n",
      "(bce): _StableBCELoss()\n",
      "(dice): _DiceLoss()\n",
      "(jaccard): _JaccardLoss()\n",
      "(lovasz): _LovaszLoss()\n",
      "(lovasz_sigmoid): _LovaszLossSigmoid()\n",
      "(focal): _FocalLoss2d()\n",
      ")\n",
      "Starting training with max_lr: 0.003\n",
      "Training with transfer learning\n",
      "epoch     train_loss  valid_loss  dice      time\n",
      "Initializing self.best\n",
      "0         4.566975    4.307699    0.193741  00:10\n",
      "Better model found at epoch 0 with dice value: 0.19374050199985504.\n",
      "1         4.526195    4.024539    0.603146  00:03\n",
      "Better model found at epoch 1 with dice value: 0.6031460165977478.\n",
      "2         4.126427    3.631067    0.655914  00:03\n",
      "Better model found at epoch 2 with dice value: 0.6559138894081116.\n",
      "3         3.854720    3.415969    0.725096  00:03\n",
      "Better model found at epoch 3 with dice value: 0.7250959873199463.\n",
      "4         3.575623    2.919306    0.791503  00:03\n",
      "Better model found at epoch 4 with dice value: 0.7915032505989075.\n",
      "5         3.561695    2.939994    0.766265  00:03\n",
      "6         3.436775    2.862132    0.818067  00:03\n",
      "Better model found at epoch 6 with dice value: 0.8180668950080872.\n",
      "7         3.332935    2.781696    0.842318  00:03\n",
      "Better model found at epoch 7 with dice value: 0.8423178195953369.\n",
      "8         3.189571    2.759898    0.821264  00:03\n",
      "9         3.107611    2.721273    0.822502  00:03\n",
      "Total time: 00:44\n",
      "epoch     train_loss  valid_loss  dice      time\n",
      "0         2.606338    2.683876    0.827767  00:03\n",
      "1         2.557334    2.658204    0.830976  00:03\n",
      "2         2.578549    2.586720    0.844443  00:03\n",
      "Better model found at epoch 2 with dice value: 0.8444432020187378.\n",
      "3         2.463098    2.478285    0.862273  00:03\n",
      "Better model found at epoch 3 with dice value: 0.8622733354568481.\n",
      "4         2.489859    2.357452    0.872003  00:03\n",
      "Better model found at epoch 4 with dice value: 0.8720031380653381.\n",
      "5         2.485220    2.734229    0.777875  00:03\n",
      "6         2.463263    2.613128    0.808000  00:03\n",
      "7         2.453425    2.502824    0.832706  00:03\n",
      "8         2.407198    2.129054    0.901310  00:03\n",
      "Better model found at epoch 8 with dice value: 0.9013096690177917.\n",
      "9         2.344989    2.133981    0.893693  00:03\n",
      "Total time: 00:36\n",
      "epoch     train_loss  valid_loss  dice      time\n",
      "0         2.357053    2.116609    0.895862  00:03\n",
      "1         2.057634    2.108720    0.896462  00:03\n",
      "2         2.172971    2.089090    0.899221  00:03\n",
      "3         2.195848    2.046874    0.904971  00:03\n",
      "Better model found at epoch 3 with dice value: 0.9049710035324097.\n",
      "4         2.235487    2.099155    0.895154  00:03\n",
      "5         2.261900    2.021097    0.909002  00:03\n",
      "Better model found at epoch 5 with dice value: 0.9090023040771484.\n",
      "6         2.280484    2.009091    0.911701  00:03\n",
      "Better model found at epoch 6 with dice value: 0.9117012023925781.\n",
      "7         2.273157    2.054331    0.904098  00:03\n",
      "8         2.277113    2.041670    0.910270  00:03\n",
      "9         2.273473    2.048314    0.903550  00:03\n",
      "Total time: 00:35\n",
      "Generating Raw Predictions for Valid...\n",
      "Done.\n",
      "Generating Raw Predictions for Test...\n",
      "Done.\n",
      "\n"
     ]
    },
    {
     "data": {
      "text/plain": [
       "0"
      ]
     },
     "execution_count": 15,
     "metadata": {},
     "output_type": "execute_result"
    }
   ],
   "source": [
    "# single gpu\n",
    "run_command(f\"\"\"\n",
    "python /home/turgutluk/git/fast-kaggle/dev/segmentation_training.py \\\n",
    "--PATH={PATH} \\\n",
    "--IMAGES={IMAGES} \\\n",
    "--MASKS={MASKS} \\\n",
    "--CODES={CODES} \\\n",
    "--TRAIN={TRAIN} \\\n",
    "--VALID={VALID} \\\n",
    "--TEST={TEST} \\\n",
    "--suffix={suffix} \\\n",
    "--bs={bs} \\\n",
    "--size={size} \\\n",
    "--imagenet_pretrained=1 \\\n",
    "--max_lr={max_lr} \\\n",
    "--model_name=bestmodel \\\n",
    "--epochs={epochs} \\\n",
    "--tracking_metric=dice \\\n",
    "--void_name=Void \\\n",
    "--loss_function={loss_function} \\\n",
    "--opt={opt}\n",
    "--arch_name={arch_name} \\\n",
    "--EXPORT_PATH={str(EXPERIMENT)}\n",
    "\"\"\", logfn=f\"{str(EXPERIMENT)}/cli_log.json\")"
   ]
  },
  {
   "cell_type": "markdown",
   "metadata": {},
   "source": [
    "### fin"
   ]
  }
 ],
 "metadata": {
  "kernelspec": {
   "display_name": "Python 3",
   "language": "python",
   "name": "python3"
  },
  "language_info": {
   "codemirror_mode": {
    "name": "ipython",
    "version": 3
   },
   "file_extension": ".py",
   "mimetype": "text/x-python",
   "name": "python",
   "nbconvert_exporter": "python",
   "pygments_lexer": "ipython3",
   "version": "3.7.2"
  }
 },
 "nbformat": 4,
 "nbformat_minor": 2
}
