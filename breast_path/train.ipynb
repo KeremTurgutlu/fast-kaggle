{
 "cells": [
  {
   "cell_type": "markdown",
   "metadata": {},
   "source": [
    "https://www.kaggle.com/c/siim-acr-pneumothorax-segmentation/discussion/108308#latest-628454"
   ]
  },
  {
   "cell_type": "code",
   "execution_count": 1,
   "metadata": {},
   "outputs": [],
   "source": [
    "import fastai; fastai.__version__\n",
    "from fastai.vision import *"
   ]
  },
  {
   "cell_type": "code",
   "execution_count": 2,
   "metadata": {},
   "outputs": [],
   "source": [
    "import sys; sys.path.append(\"../dev\")\n",
    "from local.script import run_command\n",
    "from local.segmentation.losses import *\n",
    "from local.segmentation.losses_v2 import *"
   ]
  },
  {
   "cell_type": "code",
   "execution_count": 3,
   "metadata": {},
   "outputs": [],
   "source": [
    "PATH = Path(\"/home/turgutluk/data/breast_path/\")\n",
    "IMAGES, MASKS, CODES, TRAIN, TEST, suffix = \\\n",
    "    \"images\", \"labels\", \"codes.txt\", \"train.txt\", \"test.txt\", \".tif\""
   ]
  },
  {
   "cell_type": "code",
   "execution_count": 4,
   "metadata": {},
   "outputs": [],
   "source": [
    "bs = 8\n",
    "size = 320\n",
    "epochs = 10\n",
    "VALID = 0.3\n",
    "sample_size = None\n",
    "max_lr = 3e-3\n",
    "loss_function = \"combo_loss\"\n",
    "arch_name = \"resnet18\"\n",
    "opt = \"ranger\""
   ]
  },
  {
   "cell_type": "code",
   "execution_count": 5,
   "metadata": {},
   "outputs": [],
   "source": [
    "EXPERIMENT_NO = 3\n",
    "EXPERIMENT = Path(f\"./experiment_exports/experiment{EXPERIMENT_NO}/\")\n",
    "# if EXPERIMENT.exists(): shutil.rmtree(str(EXPERIMENT))"
   ]
  },
  {
   "cell_type": "code",
   "execution_count": null,
   "metadata": {
    "scrolled": false
   },
   "outputs": [
    {
     "name": "stdout",
     "output_type": "stream",
     "text": [
      "To use this log_lamb_rs, please run 'pip install tensorboardx'. Also you must have Tensorboard running to see results\n",
      "Print args here:\n",
      "Training with arch: <function resnet18 at 0x7fef538e91e0>\n",
      "Tracking metric: <function dice at 0x7fee5c0148c8>\n",
      "Training with loss: _ComboLoss(\n",
      "(bce): _StableBCELoss()\n",
      "(dice): _DiceLoss()\n",
      "(jaccard): _JaccardLoss()\n",
      "(lovasz): _LovaszLoss()\n",
      "(lovasz_sigmoid): _LovaszLossSigmoid()\n",
      "(focal): _FocalLoss2d()\n",
      ")\n",
      "Starting training with max_lr: 0.003\n",
      "Training with transfer learning\n",
      "epoch     train_loss  valid_loss  dice      time\n",
      "Initializing self.best\n"
     ]
    }
   ],
   "source": [
    "# single gpu\n",
    "run_command(f\"\"\"\n",
    "python /home/turgutluk/git/fast-kaggle/dev/segmentation_training.py \\\n",
    "--PATH={PATH} \\\n",
    "--IMAGES={IMAGES} \\\n",
    "--MASKS={MASKS} \\\n",
    "--CODES={CODES} \\\n",
    "--TRAIN={TRAIN} \\\n",
    "--VALID={VALID} \\\n",
    "--TEST={TEST} \\\n",
    "--suffix={suffix} \\\n",
    "--bs={bs} \\\n",
    "--size={size} \\\n",
    "--imagenet_pretrained=1 \\\n",
    "--max_lr={max_lr} \\\n",
    "--model_name=bestmodel \\\n",
    "--epochs={epochs} \\\n",
    "--tracking_metric=dice \\\n",
    "--void_name=Void \\\n",
    "--loss_function={loss_function} \\\n",
    "--opt={opt}\n",
    "--arch_name={arch_name} \\\n",
    "--EXPORT_PATH={str(EXPERIMENT)}\n",
    "\"\"\", logfn=f\"{str(EXPERIMENT)}/cli_log.json\")"
   ]
  },
  {
   "cell_type": "code",
   "execution_count": null,
   "metadata": {},
   "outputs": [],
   "source": []
  },
  {
   "cell_type": "code",
   "execution_count": null,
   "metadata": {},
   "outputs": [],
   "source": []
  },
  {
   "cell_type": "code",
   "execution_count": null,
   "metadata": {},
   "outputs": [],
   "source": []
  },
  {
   "cell_type": "code",
   "execution_count": null,
   "metadata": {},
   "outputs": [],
   "source": []
  },
  {
   "cell_type": "code",
   "execution_count": null,
   "metadata": {},
   "outputs": [],
   "source": []
  }
 ],
 "metadata": {
  "kernelspec": {
   "display_name": "Python 3",
   "language": "python",
   "name": "python3"
  },
  "language_info": {
   "codemirror_mode": {
    "name": "ipython",
    "version": 3
   },
   "file_extension": ".py",
   "mimetype": "text/x-python",
   "name": "python",
   "nbconvert_exporter": "python",
   "pygments_lexer": "ipython3",
   "version": "3.7.2"
  }
 },
 "nbformat": 4,
 "nbformat_minor": 2
}
