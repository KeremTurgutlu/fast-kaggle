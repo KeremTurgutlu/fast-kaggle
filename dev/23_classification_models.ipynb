{
 "cells": [
  {
   "cell_type": "code",
   "execution_count": 1,
   "metadata": {},
   "outputs": [],
   "source": [
    "#default_exp classification.models"
   ]
  },
  {
   "cell_type": "code",
   "execution_count": 2,
   "metadata": {
    "scrolled": true
   },
   "outputs": [
    {
     "data": {
      "application/javascript": [
       "IPython.notebook.set_autosave_interval(60000)"
      ]
     },
     "metadata": {},
     "output_type": "display_data"
    },
    {
     "name": "stdout",
     "output_type": "stream",
     "text": [
      "Autosaving every 60 seconds\n",
      "1.0.59.dev0\n"
     ]
    }
   ],
   "source": [
    "%autosave 60 \n",
    "import fastai; print(fastai.__version__)"
   ]
  },
  {
   "cell_type": "code",
   "execution_count": 3,
   "metadata": {},
   "outputs": [],
   "source": [
    "#export\n",
    "from fastai.vision import *"
   ]
  },
  {
   "cell_type": "code",
   "execution_count": 4,
   "metadata": {},
   "outputs": [],
   "source": [
    "torch.cuda.set_device(1)"
   ]
  },
  {
   "cell_type": "markdown",
   "metadata": {},
   "source": [
    "### configs"
   ]
  },
  {
   "cell_type": "code",
   "execution_count": 4,
   "metadata": {},
   "outputs": [],
   "source": [
    "#export\n",
    "default_configs = {}\n",
    "model_funcs = {}\n",
    "splits = {}"
   ]
  },
  {
   "cell_type": "code",
   "execution_count": 5,
   "metadata": {},
   "outputs": [],
   "source": [
    "#export\n",
    "def get_model(name, data, config):\n",
    "    \"Get model given name, data and config. Undefined config is defaulted.\"\n",
    "    conf, copy_conf = default_configs[name].copy(), default_configs[name].copy()\n",
    "    conf.update(config)    \n",
    "    f = model_funcs[name]\n",
    "    model = f(data, conf)\n",
    "    split_fn = splits.get(name)\n",
    "    return model, split_fn, copy_conf"
   ]
  },
  {
   "cell_type": "markdown",
   "metadata": {},
   "source": [
    "### `EfficientNet`"
   ]
  },
  {
   "cell_type": "code",
   "execution_count": 15,
   "metadata": {},
   "outputs": [],
   "source": [
    "#export\n",
    "# https://github.com/lukemelas/EfficientNet-PyTorch\n",
    "from fastai.vision.models.efficientnet import *"
   ]
  },
  {
   "cell_type": "code",
   "execution_count": 16,
   "metadata": {},
   "outputs": [],
   "source": [
    "#export\n",
    "# pretrained\n",
    "def EfficientNetB1(data): return EfficientNet.from_pretrained('efficientnet-b1', num_classes=data.c)\n",
    "def EfficientNetB2(data): return EfficientNet.from_pretrained('efficientnet-b2', num_classes=data.c)\n",
    "def EfficientNetB3(data): return EfficientNet.from_pretrained('efficientnet-b3', num_classes=data.c)\n",
    "def EfficientNetB4(data): return EfficientNet.from_pretrained('efficientnet-b4', num_classes=data.c)\n",
    "def EfficientNetB5(data): return EfficientNet.from_pretrained('efficientnet-b5', num_classes=data.c)\n",
    "def EfficientNetB6(data): return EfficientNet.from_pretrained('efficientnet-b6', num_classes=data.c)\n",
    "def EfficientNetB7(data): return EfficientNet.from_pretrained('efficientnet-b7', num_classes=data.c)"
   ]
  },
  {
   "cell_type": "code",
   "execution_count": 17,
   "metadata": {},
   "outputs": [],
   "source": [
    "#export\n",
    "def _efficientnet_split(m:nn.Module): return (m._blocks[9], m._blocks[17])\n",
    "efficientnet_config = {\"pretrained\":True} "
   ]
  },
  {
   "cell_type": "code",
   "execution_count": 19,
   "metadata": {},
   "outputs": [],
   "source": [
    "#export\n",
    "def efficientnetb1(data, config): return EfficientNetB1(data)\n",
    "model_funcs['efficientnetb1'] = efficientnetb1\n",
    "default_configs['efficientnetb1'] = efficientnet_config\n",
    "splits['efficientnetb1'] = _efficientnet_split\n",
    "\n",
    "def efficientnetb2(data, config): return EfficientNetB2(data)\n",
    "model_funcs['efficientnetb2'] = efficientnetb2\n",
    "default_configs['efficientnetb2'] = efficientnet_config\n",
    "splits['efficientnetb2'] = _efficientnet_split\n",
    "\n",
    "def efficientnetb3(data, config): return EfficientNetB3(data)\n",
    "model_funcs['efficientnetb3'] = efficientnetb3\n",
    "default_configs['efficientnetb3'] = efficientnet_config\n",
    "splits['efficientnetb3'] = _efficientnet_split\n",
    "\n",
    "def efficientnetb4(data, config): return EfficientNetB4(data)\n",
    "model_funcs['efficientnetb4'] = efficientnetb4\n",
    "default_configs['efficientnetb4'] = efficientnet_config\n",
    "splits['efficientnetb4'] = _efficientnet_split\n",
    "\n",
    "def efficientnetb5(data, config): return EfficientNetB5(data)\n",
    "model_funcs['efficientnetb5'] = efficientnetb5\n",
    "default_configs['efficientnetb5'] = efficientnet_config\n",
    "splits['efficientnetb5'] = _efficientnet_split\n",
    "\n",
    "def efficientnetb6(data, config): return EfficientNetB6(data)\n",
    "model_funcs['efficientnetb6'] = efficientnetb6\n",
    "default_configs['efficientnetb6'] = efficientnet_config\n",
    "splits['efficientnetb6'] = _efficientnet_split\n",
    "\n",
    "def efficientnetb7(data, config): return EfficientNetB7(data)\n",
    "model_funcs['efficientnetb7'] = efficientnetb7\n",
    "default_configs['efficientnetb7'] = efficientnet_config\n",
    "splits['efficientnetb7'] = _efficientnet_split"
   ]
  },
  {
   "cell_type": "markdown",
   "metadata": {},
   "source": [
    "### export"
   ]
  },
  {
   "cell_type": "code",
   "execution_count": 20,
   "metadata": {},
   "outputs": [
    {
     "name": "stdout",
     "output_type": "stream",
     "text": [
      "Converted 00_test.ipynb.\n",
      "Converted 01_script.ipynb.\n",
      "Converted 02_scheduler.ipynb.\n",
      "Converted 03_callbacks.ipynb.\n",
      "Converted 04_optimizers_optimizers.ipynb.\n",
      "Converted 10_segmentation_dataset.ipynb.\n",
      "Converted 11_segmentation_losses_mulitlabel.ipynb.\n",
      "Converted 11b_segmentation_losses_binary.ipynb.\n",
      "Converted 12_segmentation_metrics.ipynb.\n",
      "Converted 13_segmentation_models.ipynb.\n",
      "Converted 14_segmentation_postprocess.ipynb.\n",
      "Converted 15_segmentation_tta.ipynb.\n",
      "Converted 16_segmentation_utils.ipynb.\n",
      "Converted 20_classification_dataset.ipynb.\n",
      "Converted 21_classification_losses.ipynb.\n",
      "Converted 23_classification_models.ipynb.\n",
      "Converted Untitled.ipynb.\n",
      "Converted segmentation_training.ipynb.\n"
     ]
    }
   ],
   "source": [
    "from local.notebook.export import notebook2script\n",
    "notebook2script(all_fs=True)"
   ]
  },
  {
   "cell_type": "markdown",
   "metadata": {},
   "source": [
    "### fin"
   ]
  }
 ],
 "metadata": {
  "kernelspec": {
   "display_name": "Python 3",
   "language": "python",
   "name": "python3"
  },
  "language_info": {
   "codemirror_mode": {
    "name": "ipython",
    "version": 3
   },
   "file_extension": ".py",
   "mimetype": "text/x-python",
   "name": "python",
   "nbconvert_exporter": "python",
   "pygments_lexer": "ipython3",
   "version": "3.7.2"
  }
 },
 "nbformat": 4,
 "nbformat_minor": 2
}
