{
 "cells": [
  {
   "cell_type": "code",
   "execution_count": 1,
   "metadata": {},
   "outputs": [],
   "source": [
    "#default_exp segmentation.metrics"
   ]
  },
  {
   "cell_type": "code",
   "execution_count": 2,
   "metadata": {
    "scrolled": true
   },
   "outputs": [
    {
     "data": {
      "application/javascript": [
       "IPython.notebook.set_autosave_interval(60000)"
      ]
     },
     "metadata": {},
     "output_type": "display_data"
    },
    {
     "name": "stdout",
     "output_type": "stream",
     "text": [
      "Autosaving every 60 seconds\n",
      "1.0.58.dev0\n"
     ]
    }
   ],
   "source": [
    "%autosave 60 \n",
    "import fastai; print(fastai.__version__)"
   ]
  },
  {
   "cell_type": "code",
   "execution_count": 3,
   "metadata": {},
   "outputs": [],
   "source": [
    "#export\n",
    "from fastai.vision import *\n",
    "from fastai.metrics import foreground_acc, dice"
   ]
  },
  {
   "cell_type": "code",
   "execution_count": 4,
   "metadata": {},
   "outputs": [],
   "source": [
    "#export\n",
    "_all_ = [\"foreground_acc\", \"dice\"]"
   ]
  },
  {
   "cell_type": "markdown",
   "metadata": {},
   "source": [
    "### test"
   ]
  },
  {
   "cell_type": "code",
   "execution_count": 5,
   "metadata": {},
   "outputs": [],
   "source": [
    "from local.test import *"
   ]
  },
  {
   "cell_type": "code",
   "execution_count": 6,
   "metadata": {},
   "outputs": [
    {
     "data": {
      "text/plain": [
       "(torch.Size([1, 2, 3, 3]), torch.Size([1, 1, 3, 3]))"
      ]
     },
     "execution_count": 6,
     "metadata": {},
     "output_type": "execute_result"
    }
   ],
   "source": [
    "a = tensor([[\n",
    "    [\n",
    "    [0,0,1],\n",
    "    [0,0,1],\n",
    "    [1,1,1]\n",
    "],\n",
    "    [\n",
    "    [1,1,0],\n",
    "    [1,1,0],\n",
    "    [0,0,0]\n",
    "]\n",
    "]])\n",
    "\n",
    "b = tensor([[[\n",
    "    [0,0,0],\n",
    "    [0,1,1],\n",
    "    [0,1,1]\n",
    "]]])\n",
    "\n",
    "a.size(), b.size()"
   ]
  },
  {
   "cell_type": "code",
   "execution_count": 7,
   "metadata": {},
   "outputs": [],
   "source": [
    "test_eq(dice(a,b, eps=1e-8), (2*1)/(8))"
   ]
  },
  {
   "cell_type": "markdown",
   "metadata": {},
   "source": [
    "### `iou`"
   ]
  },
  {
   "cell_type": "code",
   "execution_count": 8,
   "metadata": {},
   "outputs": [],
   "source": [
    "#export\n",
    "def iou(input: torch.Tensor, targs: torch.Tensor, **kwargs)->Rank0Tensor:\n",
    "    \"Binary IOU\"\n",
    "    return dice(input, targs, iou=True, **kwargs)"
   ]
  },
  {
   "cell_type": "code",
   "execution_count": 9,
   "metadata": {},
   "outputs": [],
   "source": [
    "test_eq(iou(a,b, eps=1e-8), 1/7)"
   ]
  },
  {
   "cell_type": "markdown",
   "metadata": {},
   "source": [
    "### `multilabel_dice`"
   ]
  },
  {
   "cell_type": "code",
   "execution_count": 65,
   "metadata": {},
   "outputs": [],
   "source": [
    "#export\n",
    "def multilabel_dice(input:Tensor, targs:Tensor, c:int, iou:bool=False, \n",
    "                    mean=True, eps:float=1e-8, sigmoid:bool=False, threshold:float=0.5)->Rank0Tensor:\n",
    "    \"Batch/Dataset Mean Dice\"\n",
    "    if sigmoid:\n",
    "        sigmoid_input = input.sigmoid()\n",
    "        thresholded_input = sigmoid_input > threshold\n",
    "        _, indices = torch.max(sigmoid_input, dim=1)\n",
    "        values, _ = torch.max(thresholded_input, dim=1)\n",
    "        input = (values.float()*indices.float()).view(-1)\n",
    "    else:\n",
    "        input = input.argmax(dim=1, keepdim=True).view(-1)\n",
    "        \n",
    "    targs = targs.view(-1)\n",
    "    res = []\n",
    "    for ci in range(c):\n",
    "        _input, _targs = input == ci, targs == ci\n",
    "        intersect = (_input * _targs).sum().float()\n",
    "        union = (_input+_targs).sum().float()\n",
    "        if not iou: res.append((2. * intersect / union if union > 0 else union.new([1.]).squeeze()))\n",
    "        else: res.append(intersect / (union-intersect+eps))\n",
    "    res = torch.tensor(res).to(input.device)\n",
    "    if not mean: return res\n",
    "    else: return res.mean()"
   ]
  },
  {
   "cell_type": "code",
   "execution_count": 66,
   "metadata": {},
   "outputs": [],
   "source": [
    "test_eq(multilabel_dice(a,b,2, eps=1e-8), ((2*1)/(8) + (2*2)/(10))/2)"
   ]
  },
  {
   "cell_type": "markdown",
   "metadata": {},
   "source": [
    "### `multilabel_iou`"
   ]
  },
  {
   "cell_type": "code",
   "execution_count": 87,
   "metadata": {},
   "outputs": [],
   "source": [
    "#export\n",
    "def multilabel_iou(input: torch.Tensor, targs: torch.Tensor, c)->Rank0Tensor:\n",
    "    \"Batch/Dataset Mean IOU\"\n",
    "    return multilabel_dice(input, targs, c=c, iou=True)"
   ]
  },
  {
   "cell_type": "code",
   "execution_count": 88,
   "metadata": {},
   "outputs": [],
   "source": [
    "test_eq(multilabel_iou(a,b,2), (1/7+2/8)/2)"
   ]
  },
  {
   "cell_type": "markdown",
   "metadata": {},
   "source": [
    "### `sigmoid_multilabel_dice`"
   ]
  },
  {
   "cell_type": "code",
   "execution_count": 93,
   "metadata": {},
   "outputs": [],
   "source": [
    "#export\n",
    "def sigmoid_multilabel_dice(input, target, c, threshold): \n",
    "    return multilabel_dice(input, target, c=c, threshold=threshold, sigmoid=True)"
   ]
  },
  {
   "cell_type": "markdown",
   "metadata": {},
   "source": [
    "### `sigmoid_multilabel_iou`"
   ]
  },
  {
   "cell_type": "code",
   "execution_count": 94,
   "metadata": {},
   "outputs": [],
   "source": [
    "#export\n",
    "def sigmoid_multilabel_iou(input, target, c, threshold):\n",
    "    return multilabel_iou(input, target, c=c, threshold=threshold, sigmoid=True, iou=True)"
   ]
  },
  {
   "cell_type": "markdown",
   "metadata": {},
   "source": [
    "### export"
   ]
  },
  {
   "cell_type": "code",
   "execution_count": 95,
   "metadata": {
    "scrolled": true
   },
   "outputs": [
    {
     "name": "stdout",
     "output_type": "stream",
     "text": [
      "Converted 00_test.ipynb.\n",
      "Converted 01_script.ipynb.\n",
      "Converted 02_scheduler.ipynb.\n",
      "Converted 03_callbacks.ipynb.\n",
      "Converted 10_segmentation_dataset.ipynb.\n",
      "Converted 11_segmentation_losses_mulitlabel.ipynb.\n",
      "Converted 11b_segmentation_losses_binary.ipynb.\n",
      "Converted 12_segmentation_metrics.ipynb.\n",
      "Converted 13_segmentation_models.ipynb.\n",
      "Converted segmentation_training.ipynb.\n"
     ]
    }
   ],
   "source": [
    "from local.notebook.export import notebook2script\n",
    "notebook2script(all_fs=True)"
   ]
  },
  {
   "cell_type": "markdown",
   "metadata": {},
   "source": [
    "### fin"
   ]
  }
 ],
 "metadata": {
  "kernelspec": {
   "display_name": "Python 3",
   "language": "python",
   "name": "python3"
  },
  "language_info": {
   "codemirror_mode": {
    "name": "ipython",
    "version": 3
   },
   "file_extension": ".py",
   "mimetype": "text/x-python",
   "name": "python",
   "nbconvert_exporter": "python",
   "pygments_lexer": "ipython3",
   "version": "3.7.2"
  }
 },
 "nbformat": 4,
 "nbformat_minor": 2
}
