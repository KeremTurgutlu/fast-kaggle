{
 "cells": [
  {
   "cell_type": "code",
   "execution_count": 1,
   "metadata": {},
   "outputs": [],
   "source": [
    "#default_exp segmentation.metrics"
   ]
  },
  {
   "cell_type": "code",
   "execution_count": 2,
   "metadata": {
    "scrolled": true
   },
   "outputs": [
    {
     "data": {
      "application/javascript": [
       "IPython.notebook.set_autosave_interval(60000)"
      ]
     },
     "metadata": {},
     "output_type": "display_data"
    },
    {
     "name": "stdout",
     "output_type": "stream",
     "text": [
      "Autosaving every 60 seconds\n",
      "1.0.58.dev0\n"
     ]
    }
   ],
   "source": [
    "%autosave 60 \n",
    "import fastai; print(fastai.__version__)"
   ]
  },
  {
   "cell_type": "code",
   "execution_count": 3,
   "metadata": {},
   "outputs": [],
   "source": [
    "#export\n",
    "from fastai.vision import *\n",
    "from fastai.metrics import foreground_acc, dice"
   ]
  },
  {
   "cell_type": "code",
   "execution_count": 4,
   "metadata": {},
   "outputs": [],
   "source": [
    "#export\n",
    "_all_ = [\"foreground_acc\", \"dice\"]"
   ]
  },
  {
   "cell_type": "markdown",
   "metadata": {},
   "source": [
    "### test"
   ]
  },
  {
   "cell_type": "code",
   "execution_count": 5,
   "metadata": {},
   "outputs": [],
   "source": [
    "from local.test import *"
   ]
  },
  {
   "cell_type": "code",
   "execution_count": 6,
   "metadata": {},
   "outputs": [
    {
     "data": {
      "text/plain": [
       "(torch.Size([5, 2, 3, 3]),\n",
       " torch.Size([5, 2, 3, 3]),\n",
       " torch.Size([5, 1, 3, 3]),\n",
       " torch.Size([5, 1, 3, 3]))"
      ]
     },
     "execution_count": 6,
     "metadata": {},
     "output_type": "execute_result"
    }
   ],
   "source": [
    "_input_softmax = tensor([[\n",
    "    [\n",
    "    [0,0,1],\n",
    "    [0,0,1],\n",
    "    [1,1,1]\n",
    "],\n",
    "    [\n",
    "    [1,1,0],\n",
    "    [1,1,0],\n",
    "    [0,0,0]\n",
    "]\n",
    "]]).float()\n",
    "\n",
    "_input_sigmoid = tensor([[\n",
    "    [\n",
    "    [2,2,-2],\n",
    "    [2,-2,1],\n",
    "    [-2,1,1]\n",
    "],\n",
    "    [\n",
    "    [1,1,-1],\n",
    "    [1,-1,2],\n",
    "    [-1,2,2]\n",
    "]\n",
    "]]).float()\n",
    "\n",
    "_input_sigmoid2 = tensor([[[[-10,-10],[-10,-10]],[[10,10],[10,10]]]]).float()\n",
    "\n",
    "_target_softmax = tensor([[[\n",
    "    [0,0,0],\n",
    "    [0,0,1],\n",
    "    [0,1,1]\n",
    "]]])\n",
    "\n",
    "_target_sigmoid = tensor([[[\n",
    "    [1,1,0],\n",
    "    [1,0,2],\n",
    "    [0,2,2]\n",
    "]]])\n",
    "\n",
    "_target_sigmoid2 = tensor([[[[0,0],[0,0]]]])\n",
    "\n",
    "_input_sigmoid = torch.cat([_input_sigmoid for i in range(5)])\n",
    "_input_softmax = torch.cat([_input_softmax  for i in range(5)])\n",
    "_target_sigmoid = torch.cat([_target_sigmoid  for i in range(5)])\n",
    "_target_softmax = torch.cat([_target_softmax  for i in range(5)])\n",
    "\n",
    "_input_softmax.size(), _input_sigmoid.size(), _target_sigmoid.size(), _target_softmax.size()"
   ]
  },
  {
   "cell_type": "code",
   "execution_count": 7,
   "metadata": {},
   "outputs": [],
   "source": [
    "test_eq(dice(_input_softmax, _target_softmax, eps=1e-8), 0)"
   ]
  },
  {
   "cell_type": "markdown",
   "metadata": {},
   "source": [
    "### `iou`"
   ]
  },
  {
   "cell_type": "code",
   "execution_count": 8,
   "metadata": {},
   "outputs": [],
   "source": [
    "#export\n",
    "def iou(input: torch.Tensor, targs: torch.Tensor, **kwargs)->Rank0Tensor:\n",
    "    \"Binary IOU\"\n",
    "    return dice(input, targs, iou=True, **kwargs)"
   ]
  },
  {
   "cell_type": "code",
   "execution_count": 9,
   "metadata": {},
   "outputs": [],
   "source": [
    "test_eq(iou(_input_softmax, _target_softmax, eps=1e-8), 0)"
   ]
  },
  {
   "cell_type": "markdown",
   "metadata": {},
   "source": [
    "### `_dice`"
   ]
  },
  {
   "cell_type": "markdown",
   "metadata": {},
   "source": [
    "$$\n",
    "DSC =\\frac{2 |X \\cap Y|}{|X|+ |Y|} \n",
    "\\hspace{20pt} \n",
    "IOU =\\frac{|X \\cap Y|}{|X \\cup Y|}\n",
    "$$"
   ]
  },
  {
   "cell_type": "code",
   "execution_count": 10,
   "metadata": {},
   "outputs": [],
   "source": [
    "#export\n",
    "def _dice(input:Tensor, targs:Tensor, iou:bool=False, \n",
    "          eps:float=1e-8, reduce:bool=True)->Rank0Tensor:\n",
    "    \"Dice coefficient metric for probas and binary target.\"\n",
    "    n = targs.shape[0]\n",
    "    input = input.view(n,-1).float()\n",
    "    targs = targs.view(n,-1).float()\n",
    "    intersect = (input * targs).sum(dim=1).float()\n",
    "    union = (input+targs).sum(dim=1).float()\n",
    "    if not iou: l = 2. * intersect / union\n",
    "    else: l = intersect / (union-intersect+eps) \n",
    "    l[union==0.] = 1.    \n",
    "    if reduce: return l.mean()\n",
    "    else: return l"
   ]
  },
  {
   "cell_type": "code",
   "execution_count": 11,
   "metadata": {},
   "outputs": [],
   "source": [
    "assert _dice(tensor([[1]]), tensor([[1]])).item() == 1\n",
    "assert _dice(tensor([[0]]), tensor([[0]])).item() == 1\n",
    "assert _dice(tensor([[1]]), tensor([[0]])).item() == 0\n",
    "assert _dice(tensor([[0]]), tensor([[1]])).item() == 0"
   ]
  },
  {
   "cell_type": "markdown",
   "metadata": {},
   "source": [
    "### `mean_dice`"
   ]
  },
  {
   "cell_type": "code",
   "execution_count": 29,
   "metadata": {},
   "outputs": [],
   "source": [
    "#export\n",
    "def mean_dice(input, target, c, macro=True, **kwargs):    \n",
    "    \"macro: mean of class dice, micro: mean of mean dice image (excluding class:0)\"\n",
    "    if macro:\n",
    "        res = [_dice(input==ci, target==ci, reduce=True, **kwargs) for ci in range(1, c)]\n",
    "        return torch.mean(tensor(res).to(input.device))    \n",
    "    else:\n",
    "        res = [_dice(input==ci, target==ci, reduce=False, **kwargs) for ci in range(1, c)]\n",
    "        return torch.stack(res).to(input.device).mean(0).mean()    "
   ]
  },
  {
   "cell_type": "code",
   "execution_count": 30,
   "metadata": {},
   "outputs": [],
   "source": [
    "x = tensor([[[0,1,2],[0,1,2],[0,1,2]]])\n",
    "y = tensor([[[1,1,0],[1,0,2],[0,2,2]]])\n",
    "test_eq(mean_dice(x,y,c=3), 0.5)\n",
    "test_eq(mean_dice(x,y,c=3,iou=True), 0.35)"
   ]
  },
  {
   "cell_type": "markdown",
   "metadata": {},
   "source": [
    "### `_to_sigmoid_input`"
   ]
  },
  {
   "cell_type": "code",
   "execution_count": 31,
   "metadata": {},
   "outputs": [],
   "source": [
    "#export\n",
    "def _to_sigmoid_input(logits, threshold=0.5, exclude_void=True):\n",
    "    \"convert logits to preds with sigmoid and thresh, assumes void is excluded\"\n",
    "    sigmoid_input = logits.sigmoid()\n",
    "    thresholded_input = sigmoid_input > threshold\n",
    "    _, indices = torch.max(sigmoid_input, dim=1)\n",
    "    if exclude_void: indices += 1\n",
    "    values, _ = torch.max(thresholded_input, dim=1)\n",
    "    preds = (values.float()*indices.float())\n",
    "    return preds"
   ]
  },
  {
   "cell_type": "code",
   "execution_count": 32,
   "metadata": {},
   "outputs": [],
   "source": [
    "assert _to_sigmoid_input(_input_sigmoid, threshold=1).view(-1).sum(0) == 0\n",
    "test_eq(_to_sigmoid_input(_input_sigmoid, threshold=0)[0],\n",
    "        tensor([[1., 1., 2.], [1., 2., 2.],[2., 2., 2.]]))\n",
    "test_eq(_to_sigmoid_input(_input_sigmoid, threshold=0.5)[0],\n",
    "        tensor([[1., 1., 0.], [1., 0., 2.], [0., 2., 2.]]))"
   ]
  },
  {
   "cell_type": "markdown",
   "metadata": {},
   "source": [
    "### `sigmoid_mean_dice`"
   ]
  },
  {
   "cell_type": "code",
   "execution_count": 33,
   "metadata": {},
   "outputs": [],
   "source": [
    "#export \n",
    "def sigmoid_mean_dice(input:Tensor, target:Tensor, threshold:float=0.5, **kwargs)->Rank0Tensor:\n",
    "    \"mean_dice with sigmoid output which doesn't predict background\"\n",
    "    c = input.size(1)+1\n",
    "    input = _to_sigmoid_input(input, threshold)    \n",
    "    return mean_dice(input, target, c, **kwargs)"
   ]
  },
  {
   "cell_type": "code",
   "execution_count": 34,
   "metadata": {
    "scrolled": false
   },
   "outputs": [],
   "source": [
    "test_close(sigmoid_mean_dice(_input_sigmoid, _target_sigmoid, \n",
    "                            macro=True, threshold=0).item(), 0.833, eps=1e-3)\n",
    "assert sigmoid_mean_dice(_input_sigmoid, _target_sigmoid, macro=True)\n",
    "assert sigmoid_mean_dice(_input_sigmoid, _target_sigmoid, macro=False)\n",
    "assert sigmoid_mean_dice(_input_sigmoid2, _target_sigmoid2, macro=True) == 0.5"
   ]
  },
  {
   "cell_type": "markdown",
   "metadata": {},
   "source": [
    "### `softmax_mean_dice`"
   ]
  },
  {
   "cell_type": "code",
   "execution_count": 35,
   "metadata": {},
   "outputs": [],
   "source": [
    "#export \n",
    "def softmax_mean_dice(input:Tensor, target:Tensor, **kwargs)->Rank0Tensor:\n",
    "    \"mean_dice with softmax output which includes background prediction\"\n",
    "    c = input.size(1)\n",
    "    input = input.argmax(1)\n",
    "    return mean_dice(input, target, c, **kwargs)"
   ]
  },
  {
   "cell_type": "code",
   "execution_count": 36,
   "metadata": {},
   "outputs": [],
   "source": [
    "test_eq(softmax_mean_dice(_input_sigmoid2, _target_sigmoid2), 0.)"
   ]
  },
  {
   "cell_type": "markdown",
   "metadata": {},
   "source": [
    "### export"
   ]
  },
  {
   "cell_type": "code",
   "execution_count": 37,
   "metadata": {
    "scrolled": false
   },
   "outputs": [
    {
     "name": "stdout",
     "output_type": "stream",
     "text": [
      "Converted 00_test.ipynb.\n",
      "Converted 01_script.ipynb.\n",
      "Converted 02_scheduler.ipynb.\n",
      "Converted 03_callbacks.ipynb.\n",
      "Converted 10_segmentation_dataset.ipynb.\n",
      "Converted 11_segmentation_losses_mulitlabel.ipynb.\n",
      "Converted 11b_segmentation_losses_binary.ipynb.\n",
      "Converted 12_segmentation_metrics.ipynb.\n",
      "Converted 13_segmentation_models.ipynb.\n",
      "Converted segmentation_training.ipynb.\n"
     ]
    }
   ],
   "source": [
    "from local.notebook.export import notebook2script\n",
    "notebook2script(all_fs=True)"
   ]
  },
  {
   "cell_type": "markdown",
   "metadata": {},
   "source": [
    "### fin"
   ]
  }
 ],
 "metadata": {
  "kernelspec": {
   "display_name": "Python 3",
   "language": "python",
   "name": "python3"
  },
  "language_info": {
   "codemirror_mode": {
    "name": "ipython",
    "version": 3
   },
   "file_extension": ".py",
   "mimetype": "text/x-python",
   "name": "python",
   "nbconvert_exporter": "python",
   "pygments_lexer": "ipython3",
   "version": "3.7.2"
  }
 },
 "nbformat": 4,
 "nbformat_minor": 2
}
