{
 "cells": [
  {
   "cell_type": "code",
   "execution_count": 1,
   "metadata": {},
   "outputs": [],
   "source": [
    "#default_exp segmentation.metrics"
   ]
  },
  {
   "cell_type": "code",
   "execution_count": 2,
   "metadata": {
    "scrolled": true
   },
   "outputs": [
    {
     "data": {
      "application/javascript": [
       "IPython.notebook.set_autosave_interval(60000)"
      ]
     },
     "metadata": {},
     "output_type": "display_data"
    },
    {
     "name": "stdout",
     "output_type": "stream",
     "text": [
      "Autosaving every 60 seconds\n",
      "1.0.58.dev0\n"
     ]
    }
   ],
   "source": [
    "%autosave 60 \n",
    "import fastai; print(fastai.__version__)"
   ]
  },
  {
   "cell_type": "code",
   "execution_count": 3,
   "metadata": {},
   "outputs": [],
   "source": [
    "#export\n",
    "from fastai.vision import *\n",
    "from fastai.metrics import foreground_acc, dice"
   ]
  },
  {
   "cell_type": "code",
   "execution_count": 4,
   "metadata": {},
   "outputs": [],
   "source": [
    "#export\n",
    "_all_ = [\"foreground_acc\", \"dice\"]"
   ]
  },
  {
   "cell_type": "markdown",
   "metadata": {},
   "source": [
    "### test"
   ]
  },
  {
   "cell_type": "code",
   "execution_count": 5,
   "metadata": {},
   "outputs": [],
   "source": [
    "from local.test import *"
   ]
  },
  {
   "cell_type": "code",
   "execution_count": 227,
   "metadata": {},
   "outputs": [
    {
     "data": {
      "text/plain": [
       "(torch.Size([5, 2, 3, 3]),\n",
       " torch.Size([5, 2, 3, 3]),\n",
       " torch.Size([5, 1, 3, 3]),\n",
       " torch.Size([5, 1, 3, 3]))"
      ]
     },
     "execution_count": 227,
     "metadata": {},
     "output_type": "execute_result"
    }
   ],
   "source": [
    "_input_softmax = tensor([[\n",
    "    [\n",
    "    [0,0,1],\n",
    "    [0,0,1],\n",
    "    [1,1,1]\n",
    "],\n",
    "    [\n",
    "    [1,1,0],\n",
    "    [1,1,0],\n",
    "    [0,0,0]\n",
    "]\n",
    "]]).float()\n",
    "\n",
    "_input_sigmoid = tensor([[\n",
    "    [\n",
    "    [2,2,-2],\n",
    "    [2,-2,1],\n",
    "    [-2,1,1]\n",
    "],\n",
    "    [\n",
    "    [1,1,-1],\n",
    "    [1,-1,2],\n",
    "    [-1,2,2]\n",
    "]\n",
    "]]).float()\n",
    "\n",
    "\n",
    "_target_softmax = tensor([[[\n",
    "    [0,0,0],\n",
    "    [0,0,1],\n",
    "    [0,1,1]\n",
    "]]])\n",
    "\n",
    "_target_sigmoid = tensor([[[\n",
    "    [1,1,0],\n",
    "    [1,0,2],\n",
    "    [0,2,2]\n",
    "]]])\n",
    "\n",
    "\n",
    "_input_sigmoid = torch.cat([_input_sigmoid for i in range(5)])\n",
    "_input_softmax = torch.cat([_input_softmax  for i in range(5)])\n",
    "_target_sigmoid = torch.cat([_target_sigmoid  for i in range(5)])\n",
    "_target_softmax = torch.cat([_target_softmax  for i in range(5)])\n",
    "\n",
    "_input_softmax.size(), _input_sigmoid.size(), _target_sigmoid.size(), _target_softmax.size()"
   ]
  },
  {
   "cell_type": "code",
   "execution_count": 228,
   "metadata": {},
   "outputs": [],
   "source": [
    "test_eq(dice(_input_softmax,_target, eps=1e-8), (2*1)/(8))"
   ]
  },
  {
   "cell_type": "markdown",
   "metadata": {},
   "source": [
    "### `iou`"
   ]
  },
  {
   "cell_type": "code",
   "execution_count": 229,
   "metadata": {},
   "outputs": [],
   "source": [
    "#export\n",
    "def iou(input: torch.Tensor, targs: torch.Tensor, **kwargs)->Rank0Tensor:\n",
    "    \"Binary IOU\"\n",
    "    return dice(input, targs, iou=True, **kwargs)"
   ]
  },
  {
   "cell_type": "code",
   "execution_count": 230,
   "metadata": {},
   "outputs": [],
   "source": [
    "test_eq(iou(_input_softmax,_target, eps=1e-8), 1/7)"
   ]
  },
  {
   "cell_type": "markdown",
   "metadata": {},
   "source": [
    "### `multilabel_dice`"
   ]
  },
  {
   "cell_type": "code",
   "execution_count": 231,
   "metadata": {},
   "outputs": [],
   "source": [
    "#export\n",
    "def multilabel_dice(input:Tensor, targs:Tensor, c:int, iou:bool=False, \n",
    "                    mean=True, eps:float=1e-8, sigmoid:bool=False, threshold:float=0.5)->Rank0Tensor:\n",
    "    \"Batch/Dataset Mean Dice\"\n",
    "    if sigmoid:\n",
    "        sigmoid_input     = input.sigmoid()\n",
    "        thresholded_input = sigmoid_input > threshold\n",
    "        _, indices        = torch.max(sigmoid_input, dim=1);\n",
    "        indices          += 1\n",
    "        values, _         = torch.max(thresholded_input, dim=1)\n",
    "        input             = (values.float()*indices.float()).view(-1)\n",
    "    else:\n",
    "        input             = input.argmax(dim=1, keepdim=True).view(-1)\n",
    "        \n",
    "    targs = targs.view(-1)\n",
    "    res = []\n",
    "    for ci in range(c):\n",
    "        # float() fail for fp16 - nan\n",
    "        _input, _targs = input == ci, targs == ci\n",
    "        intersect = (_input * _targs).sum().float()\n",
    "        union = (_input+_targs).sum().float()\n",
    "        if not iou: res.append((2. * intersect / union if union > 0 else union.new([1.]).squeeze()))\n",
    "        else: res.append(intersect / (union-intersect+eps))\n",
    "    res = torch.tensor(res).to(input.device)\n",
    "    if not mean: return res\n",
    "    else: return res.mean()"
   ]
  },
  {
   "cell_type": "code",
   "execution_count": 232,
   "metadata": {},
   "outputs": [],
   "source": [
    "test_eq(multilabel_dice(_input_softmax,_target,2, eps=1e-8), ((2*1)/(8) + (2*2)/(10))/2)"
   ]
  },
  {
   "cell_type": "markdown",
   "metadata": {},
   "source": [
    "### `multilabel_iou`"
   ]
  },
  {
   "cell_type": "code",
   "execution_count": 233,
   "metadata": {},
   "outputs": [],
   "source": [
    "#export\n",
    "def multilabel_iou(input: torch.Tensor, targs: torch.Tensor, c)->Rank0Tensor:\n",
    "    \"Batch/Dataset Mean IOU\"\n",
    "    return multilabel_dice(input, targs, c=c, iou=True)"
   ]
  },
  {
   "cell_type": "code",
   "execution_count": 234,
   "metadata": {},
   "outputs": [],
   "source": [
    "test_eq(multilabel_iou(_input_softmax,_target,2), (1/7+2/8)/2)"
   ]
  },
  {
   "cell_type": "markdown",
   "metadata": {},
   "source": [
    "### `sigmoid_multilabel_dice`"
   ]
  },
  {
   "cell_type": "code",
   "execution_count": 235,
   "metadata": {},
   "outputs": [],
   "source": [
    "#export\n",
    "def sigmoid_multilabel_dice(input, target, c, threshold): \n",
    "    return multilabel_dice(input, target, c=c, threshold=threshold, sigmoid=True)"
   ]
  },
  {
   "cell_type": "code",
   "execution_count": null,
   "metadata": {},
   "outputs": [],
   "source": []
  },
  {
   "cell_type": "markdown",
   "metadata": {},
   "source": [
    "### `sigmoid_multilabel_iou`"
   ]
  },
  {
   "cell_type": "code",
   "execution_count": 236,
   "metadata": {},
   "outputs": [],
   "source": [
    "#export\n",
    "def sigmoid_multilabel_iou(input, target, c, threshold):\n",
    "    return multilabel_iou(input, target, c=c, threshold=threshold, sigmoid=True, iou=True)"
   ]
  },
  {
   "cell_type": "code",
   "execution_count": null,
   "metadata": {},
   "outputs": [],
   "source": []
  },
  {
   "cell_type": "markdown",
   "metadata": {},
   "source": [
    "### `_dice`"
   ]
  },
  {
   "cell_type": "code",
   "execution_count": 237,
   "metadata": {},
   "outputs": [],
   "source": [
    "#export\n",
    "def _dice(input:Tensor, targs:Tensor, iou:bool=False, eps:float=1e-8, \n",
    "          reduce:bool=True)->Rank0Tensor:\n",
    "    \"Dice coefficient metric for binary target. If iou=True, returns iou metric, classic for segmentation problems.\"\n",
    "    n = targs.shape[0]\n",
    "    input = input.view(n,-1).float()\n",
    "    targs = targs.view(n,-1).float()\n",
    "    intersect = (input * targs).sum(dim=1).float()\n",
    "    union = (input+targs).sum(dim=1).float()\n",
    "    if not iou: l = 2. * intersect / union\n",
    "    else: l = intersect / (union-intersect+eps)\n",
    "    l[union == 0.] = 1.\n",
    "    if reduce: return l.mean()\n",
    "    else: return l"
   ]
  },
  {
   "cell_type": "code",
   "execution_count": 238,
   "metadata": {},
   "outputs": [],
   "source": [
    "assert _dice(tensor([[0]]), tensor([[0]])).item()"
   ]
  },
  {
   "cell_type": "code",
   "execution_count": 239,
   "metadata": {},
   "outputs": [],
   "source": [
    "assert _dice(tensor([[1]]), tensor([[1]])).item()"
   ]
  },
  {
   "cell_type": "code",
   "execution_count": 240,
   "metadata": {},
   "outputs": [],
   "source": [
    "assert _dice(tensor([[1]]), tensor([[0]])).item() == 0"
   ]
  },
  {
   "cell_type": "code",
   "execution_count": 241,
   "metadata": {},
   "outputs": [],
   "source": [
    "assert _dice(tensor([[0]]), tensor([[1]])).item() == 0"
   ]
  },
  {
   "cell_type": "markdown",
   "metadata": {},
   "source": [
    "### `sigmoid_dice_novoid`"
   ]
  },
  {
   "cell_type": "code",
   "execution_count": 311,
   "metadata": {},
   "outputs": [],
   "source": [
    "#export\n",
    "def _to_sigmoid_input(logits, threshold):\n",
    "    \"convert logits to preds with sigmoid and thresh (void=0)\"\n",
    "    sigmoid_input = logits.sigmoid()\n",
    "    thresholded_input = sigmoid_input > threshold\n",
    "   \n",
    "    _, indices = torch.max(sigmoid_input, dim=1)\n",
    "    indices += 1\n",
    "    values, _ = torch.max(thresholded_input, dim=1)\n",
    "    preds = (values.float()*indices.float())\n",
    "    return preds"
   ]
  },
  {
   "cell_type": "code",
   "execution_count": 312,
   "metadata": {},
   "outputs": [],
   "source": [
    "assert _to_sigmoid_input(_input_sigmoid, threshold=1).view(-1).sum(0) == 0"
   ]
  },
  {
   "cell_type": "code",
   "execution_count": 313,
   "metadata": {},
   "outputs": [],
   "source": [
    "test_eq(_to_sigmoid_input(_input_sigmoid, threshold=0)[0],\n",
    "        tensor([[1., 1., 2.], [1., 2., 2.],[2., 2., 2.]]))"
   ]
  },
  {
   "cell_type": "code",
   "execution_count": 314,
   "metadata": {},
   "outputs": [],
   "source": [
    "test_eq(_to_sigmoid_input(_input_sigmoid, threshold=0.5)[0],\n",
    "        tensor([[1., 1., 0.], [1., 0., 2.], [0., 2., 2.]]))"
   ]
  },
  {
   "cell_type": "code",
   "execution_count": 366,
   "metadata": {},
   "outputs": [],
   "source": [
    "#export \n",
    "def sigmoid_dice_novoid(input:Tensor, target:Tensor, threshold:float=0.5,\n",
    "                        macro:bool=True)->Rank0Tensor:\n",
    "    \"macro: mean of per class dice, micro: mean of per image mean dice\"\n",
    "    c = input.size(1)\n",
    "    preds = _to_sigmoid_input(input, threshold)\n",
    "    if macro:\n",
    "        res = [_dice(preds==ci, target==ci) for ci in range(1, c+1)]\n",
    "        return torch.mean(tensor(res))\n",
    "    else:\n",
    "        res = [_dice(preds==ci, target==ci, reduce=False) for ci in range(1, c+1)]\n",
    "        return torch.stack(res).mean(0).mean()    "
   ]
  },
  {
   "cell_type": "code",
   "execution_count": 372,
   "metadata": {},
   "outputs": [],
   "source": [
    "test_close(sigmoid_dice_novoid(_input_sigmoid, _target_sigmoid, \n",
    "                            macro=True, threshold=0).item(), 0.833, eps=1e-3)"
   ]
  },
  {
   "cell_type": "code",
   "execution_count": 374,
   "metadata": {},
   "outputs": [],
   "source": [
    "assert sigmoid_dice_novoid(_input_sigmoid, _target_sigmoid, macro=True)"
   ]
  },
  {
   "cell_type": "code",
   "execution_count": 375,
   "metadata": {
    "scrolled": true
   },
   "outputs": [],
   "source": [
    "assert sigmoid_dice_novoid(_input_sigmoid, _target_sigmoid, macro=False)"
   ]
  },
  {
   "cell_type": "markdown",
   "metadata": {},
   "source": [
    "### export"
   ]
  },
  {
   "cell_type": "code",
   "execution_count": 376,
   "metadata": {
    "scrolled": true
   },
   "outputs": [
    {
     "name": "stdout",
     "output_type": "stream",
     "text": [
      "Converted 00_test.ipynb.\n",
      "Converted 01_script.ipynb.\n",
      "Converted 02_scheduler.ipynb.\n",
      "Converted 03_callbacks.ipynb.\n",
      "Converted 10_segmentation_dataset.ipynb.\n",
      "Converted 11_segmentation_losses_mulitlabel.ipynb.\n",
      "Converted 11b_segmentation_losses_binary.ipynb.\n",
      "Converted 12_segmentation_metrics.ipynb.\n",
      "Converted 13_segmentation_models.ipynb.\n",
      "Converted segmentation_training.ipynb.\n"
     ]
    }
   ],
   "source": [
    "from local.notebook.export import notebook2script\n",
    "notebook2script(all_fs=True)"
   ]
  },
  {
   "cell_type": "markdown",
   "metadata": {},
   "source": [
    "### fin"
   ]
  }
 ],
 "metadata": {
  "kernelspec": {
   "display_name": "Python 3",
   "language": "python",
   "name": "python3"
  },
  "language_info": {
   "codemirror_mode": {
    "name": "ipython",
    "version": 3
   },
   "file_extension": ".py",
   "mimetype": "text/x-python",
   "name": "python",
   "nbconvert_exporter": "python",
   "pygments_lexer": "ipython3",
   "version": "3.7.2"
  }
 },
 "nbformat": 4,
 "nbformat_minor": 2
}
