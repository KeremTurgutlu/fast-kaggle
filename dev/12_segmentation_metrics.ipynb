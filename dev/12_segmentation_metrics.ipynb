{
 "cells": [
  {
   "cell_type": "code",
   "execution_count": 2,
   "metadata": {},
   "outputs": [
    {
     "data": {
      "application/javascript": [
       "IPython.notebook.set_autosave_interval(60000)"
      ]
     },
     "metadata": {},
     "output_type": "display_data"
    },
    {
     "name": "stdout",
     "output_type": "stream",
     "text": [
      "Autosaving every 60 seconds\n"
     ]
    }
   ],
   "source": [
    "%autosave 60 "
   ]
  },
  {
   "cell_type": "code",
   "execution_count": 1,
   "metadata": {},
   "outputs": [],
   "source": [
    "#default_exp segmentation.metrics"
   ]
  },
  {
   "cell_type": "code",
   "execution_count": 3,
   "metadata": {},
   "outputs": [
    {
     "name": "stdout",
     "output_type": "stream",
     "text": [
      "1.0.58.dev0\n"
     ]
    }
   ],
   "source": [
    "import fastai; print(fastai.__version__)"
   ]
  },
  {
   "cell_type": "code",
   "execution_count": 12,
   "metadata": {},
   "outputs": [],
   "source": [
    "#export\n",
    "from fastai.vision import *\n",
    "from fastai.metrics import foreground_acc"
   ]
  },
  {
   "cell_type": "code",
   "execution_count": 13,
   "metadata": {},
   "outputs": [],
   "source": [
    "#export\n",
    "_all_ = [\"foreground_acc\"]"
   ]
  },
  {
   "cell_type": "code",
   "execution_count": 6,
   "metadata": {},
   "outputs": [],
   "source": [
    "#export\n",
    "def iou(input: torch.Tensor, targs: torch.Tensor)->Rank0Tensor:\n",
    "    \"Binary IOU\"\n",
    "    return dice(input, targs, iou=True)"
   ]
  },
  {
   "cell_type": "code",
   "execution_count": 7,
   "metadata": {},
   "outputs": [],
   "source": [
    "#export\n",
    "def multilabel_dice(input:Tensor, targs:Tensor, c, iou:bool=False, mean=True)->Rank0Tensor:\n",
    "    \"Dataset Mean Dice\"\n",
    "    input = input.argmax(dim=1, keepdim=True).view(-1)\n",
    "    targs = targs.view(-1)\n",
    "    res = []\n",
    "    for ci in range(c):\n",
    "        _input, _targs = input == ci, targs == ci\n",
    "        intersect = (_input * _targs).sum().float()\n",
    "        union = (_input+_targs).sum().float()\n",
    "        if not iou: res.append((2. * intersect / union if union > 0 else union.new([1.]).squeeze()))\n",
    "        else: res.append(intersect / (union-intersect+1.0))\n",
    "    res = torch.tensor(res).to(input.device)\n",
    "    if not mean: return res\n",
    "    else: return res.mean()"
   ]
  },
  {
   "cell_type": "code",
   "execution_count": 8,
   "metadata": {},
   "outputs": [],
   "source": [
    "#export\n",
    "def multilabel_iou(input: torch.Tensor, targs: torch.Tensor, c)->Rank0Tensor:\n",
    "    \"Dataset Mean IOU\"\n",
    "    return multilabel_dice(input, targs, c=c, iou=True)"
   ]
  },
  {
   "cell_type": "code",
   "execution_count": 11,
   "metadata": {},
   "outputs": [
    {
     "name": "stdout",
     "output_type": "stream",
     "text": [
      "Converted 12_segmentation_metrics.ipynb.\n"
     ]
    }
   ],
   "source": [
    "from local.notebook.export import notebook2script\n",
    "notebook2script(\"12_segmentation_metrics.ipynb\")"
   ]
  },
  {
   "cell_type": "code",
   "execution_count": null,
   "metadata": {},
   "outputs": [],
   "source": []
  }
 ],
 "metadata": {
  "kernelspec": {
   "display_name": "Python 3",
   "language": "python",
   "name": "python3"
  },
  "language_info": {
   "codemirror_mode": {
    "name": "ipython",
    "version": 3
   },
   "file_extension": ".py",
   "mimetype": "text/x-python",
   "name": "python",
   "nbconvert_exporter": "python",
   "pygments_lexer": "ipython3",
   "version": "3.7.2"
  }
 },
 "nbformat": 4,
 "nbformat_minor": 2
}
