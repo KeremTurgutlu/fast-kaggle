{
 "cells": [
  {
   "cell_type": "code",
   "execution_count": 11,
   "metadata": {},
   "outputs": [
    {
     "data": {
      "application/javascript": [
       "IPython.notebook.set_autosave_interval(60000)"
      ]
     },
     "metadata": {},
     "output_type": "display_data"
    },
    {
     "name": "stdout",
     "output_type": "stream",
     "text": [
      "Autosaving every 60 seconds\n"
     ]
    }
   ],
   "source": [
    "%autosave 60 "
   ]
  },
  {
   "cell_type": "code",
   "execution_count": 12,
   "metadata": {},
   "outputs": [],
   "source": [
    "#default_exp segmentation.dataset"
   ]
  },
  {
   "cell_type": "code",
   "execution_count": 13,
   "metadata": {},
   "outputs": [
    {
     "name": "stdout",
     "output_type": "stream",
     "text": [
      "1.0.58.dev0\n"
     ]
    }
   ],
   "source": [
    "import fastai; print(fastai.__version__)"
   ]
  },
  {
   "cell_type": "code",
   "execution_count": 14,
   "metadata": {},
   "outputs": [],
   "source": [
    "#export\n",
    "from fastai.vision import *"
   ]
  },
  {
   "cell_type": "markdown",
   "metadata": {},
   "source": [
    "### databunch"
   ]
  },
  {
   "cell_type": "code",
   "execution_count": 278,
   "metadata": {},
   "outputs": [],
   "source": [
    "#export \n",
    "class SemanticSegmentationData:\n",
    "    \"Creates semantic segmentation dataset from fastai datablock API\"\n",
    "    def __init__(self, PATH, IMAGES, MASKS, CODES, TRAIN, VALID, TEST,\n",
    "                     sample_size, bs, size, has_test_labels=True):\n",
    "        \n",
    "        self.path, self.sample_size, self.bs, self.size, self.has_test_labels  =\\\n",
    "                                            PATH, sample_size, bs, size, has_test_labels\n",
    "        self.codes, self.VALID, self.TEST = np.loadtxt(self.path/CODES, dtype=str), VALID, TEST\n",
    "        \n",
    "        self.train_df = pd.read_csv(self.path/TRAIN, header=None)\n",
    "        \n",
    "        if (VALID is not None) and (type(VALID) is str): self.valid_file = True\n",
    "        else: self.valid_file = False\n",
    "            \n",
    "        if self.valid_file: self.valid_df = pd.read_csv(self.path/VALID, header=None)\n",
    "        \n",
    "        if TEST is not None: self.test_df = pd.read_csv(self.path/TEST, header=None)\n",
    "        \n",
    "        self.path_img, self.path_lbl = self.path/IMAGES, self.path/MASKS\n",
    "        \n",
    "    def get_y_fn(self, x): return self.path_lbl/f'{Path(x).stem}.png'\n",
    "        \n",
    "    def get_data(self):        \n",
    "        if self.valid_file: \n",
    "            self.train_valid_df = pd.concat([self.train_df, self.valid_df])\n",
    "            self.train_valid_df.columns = [\"images\"]\n",
    "            self.train_valid_df[\"is_valid\"] = len(self.train_df)*[False] + len(self.valid_df)*[True]\n",
    "        else:\n",
    "            self.train_valid_df = self.train_df\n",
    "        \n",
    "        il = SegmentationItemList.from_df(self.train_valid_df, self.path_img) # get\n",
    "        if self.valid_file: ill = il.split_from_df(\"is_valid\") # split\n",
    "        else: ill = il.split_by_rand_pct(ifnone(self.VALID, 0.2)) # split\n",
    "        ll = ill.label_from_func(self.get_y_fn, classes=self.codes) # label\n",
    "            \n",
    "        data = (ll.transform(get_transforms(), size=(self.size, self.size), tfm_y=True,\n",
    "                             resize_method=ResizeMethod.SQUISH)\n",
    "                    .databunch(bs=self.bs))\n",
    "        # add_test\n",
    "        if self.TEST:\n",
    "            il = SegmentationItemList.from_df(self.test_df, self.path_img) # get\n",
    "            data.add_test(il, tfm_y=False)\n",
    "        return data\n",
    "        \n",
    "    def __repr__(self):\n",
    "        return f\"\"\"___repr__\"\"\"\n",
    "    \n",
    "    def __str__(self):\n",
    "        return f\"\"\"___str___\"\"\""
   ]
  },
  {
   "cell_type": "markdown",
   "metadata": {
    "heading_collapsed": true
   },
   "source": [
    "### Download CAMVID to `.fastai/data` and reformat for `SemanticSegmentationData`"
   ]
  },
  {
   "cell_type": "code",
   "execution_count": 21,
   "metadata": {
    "hidden": true
   },
   "outputs": [],
   "source": [
    "# fastai.datasets.download_data(URLs.CAMVID)"
   ]
  },
  {
   "cell_type": "code",
   "execution_count": 27,
   "metadata": {
    "hidden": true
   },
   "outputs": [],
   "source": [
    "PATH = Path(\"/home/turgutluk/.fastai/data/camvid\")\n",
    "IMAGES = \"images\"\n",
    "MASKS = \"labels\""
   ]
  },
  {
   "cell_type": "code",
   "execution_count": 28,
   "metadata": {
    "hidden": true
   },
   "outputs": [
    {
     "data": {
      "text/plain": [
       "[PosixPath('/home/turgutluk/.fastai/data/camvid/codes.txt'),\n",
       " PosixPath('/home/turgutluk/.fastai/data/camvid/images'),\n",
       " PosixPath('/home/turgutluk/.fastai/data/camvid/labels'),\n",
       " PosixPath('/home/turgutluk/.fastai/data/camvid/valid.txt')]"
      ]
     },
     "execution_count": 28,
     "metadata": {},
     "output_type": "execute_result"
    }
   ],
   "source": [
    "PATH.ls()"
   ]
  },
  {
   "cell_type": "code",
   "execution_count": 94,
   "metadata": {
    "hidden": true
   },
   "outputs": [],
   "source": [
    "CODES = \"codes.txt\""
   ]
  },
  {
   "cell_type": "code",
   "execution_count": 124,
   "metadata": {
    "hidden": true
   },
   "outputs": [],
   "source": [
    "imagefiles = get_files(PATH/IMAGES)\n",
    "maskfiles = get_files(PATH/MASKS)"
   ]
  },
  {
   "cell_type": "code",
   "execution_count": 126,
   "metadata": {
    "hidden": true,
    "scrolled": true
   },
   "outputs": [
    {
     "data": {
      "text/plain": [
       "[PosixPath('/home/turgutluk/.fastai/data/camvid/images/0016E5_08079.png'),\n",
       " PosixPath('/home/turgutluk/.fastai/data/camvid/images/Seq05VD_f02700.png')]"
      ]
     },
     "execution_count": 126,
     "metadata": {},
     "output_type": "execute_result"
    }
   ],
   "source": [
    "imagefiles[:2]"
   ]
  },
  {
   "cell_type": "code",
   "execution_count": 127,
   "metadata": {
    "hidden": true
   },
   "outputs": [
    {
     "data": {
      "text/plain": [
       "[PosixPath('/home/turgutluk/.fastai/data/camvid/labels/0016E5_08079.png'),\n",
       " PosixPath('/home/turgutluk/.fastai/data/camvid/labels/Seq05VD_f05070_P.png')]"
      ]
     },
     "execution_count": 127,
     "metadata": {},
     "output_type": "execute_result"
    }
   ],
   "source": [
    "maskfiles[:2]"
   ]
  },
  {
   "cell_type": "code",
   "execution_count": 86,
   "metadata": {
    "hidden": true
   },
   "outputs": [],
   "source": [
    "def _fix_camvid_maskfn(o:PathOrStr, i:int):\n",
    "    with warnings.catch_warnings():\n",
    "        warnings.simplefilter(\"ignore\", UserWarning) # EXIF warning from TiffPlugin\n",
    "        x = PIL.Image.open(o).convert(\"L\")\n",
    "        new_fn = o.parent/f\"{o.stem[:-2]}.png\"\n",
    "        x.save(new_fn)\n",
    "    return new_fn"
   ]
  },
  {
   "cell_type": "code",
   "execution_count": 87,
   "metadata": {
    "hidden": true
   },
   "outputs": [
    {
     "data": {
      "image/png": "[encoded data removed]",
      "text/plain": [
       "<Figure size 216x216 with 1 Axes>"
      ]
     },
     "metadata": {
      "needs_background": "light"
     },
     "output_type": "display_data"
    },
    {
     "data": {
      "image/png": "[encoded data removed]",
      "text/plain": [
       "<Figure size 216x216 with 1 Axes>"
      ]
     },
     "metadata": {
      "needs_background": "light"
     },
     "output_type": "display_data"
    }
   ],
   "source": [
    "# test conversion\n",
    "try:\n",
    "    o = maskfiles[0]\n",
    "    fn = _fix_camvid_maskfn(o, 0)\n",
    "    open_mask(fn).show()\n",
    "    open_image(PATH/IMAGES/f\"{fn.stem}.png\").show()\n",
    "except: \n",
    "    raise AssertionError"
   ]
  },
  {
   "cell_type": "code",
   "execution_count": 89,
   "metadata": {
    "hidden": true
   },
   "outputs": [],
   "source": [
    "new_maskfiles = parallel(_fix_camvid_maskfn, maskfiles, max_workers=36)"
   ]
  },
  {
   "cell_type": "code",
   "execution_count": 128,
   "metadata": {
    "hidden": true
   },
   "outputs": [],
   "source": [
    "validfn = open(PATH/\"valid.txt\").read().strip().split(\"\\n\")"
   ]
  },
  {
   "cell_type": "code",
   "execution_count": 132,
   "metadata": {
    "hidden": true
   },
   "outputs": [],
   "source": [
    "testfn = open(PATH/\"test.txt\").read().strip().split(\"\\n\")"
   ]
  },
  {
   "cell_type": "code",
   "execution_count": 129,
   "metadata": {
    "hidden": true
   },
   "outputs": [
    {
     "data": {
      "text/plain": [
       "['0016E5_07959.png', '0016E5_07961.png']"
      ]
     },
     "execution_count": 129,
     "metadata": {},
     "output_type": "execute_result"
    }
   ],
   "source": [
    "validfn[:2]"
   ]
  },
  {
   "cell_type": "code",
   "execution_count": 130,
   "metadata": {
    "hidden": true
   },
   "outputs": [],
   "source": [
    "trainfn = [o.name for o in imagefiles if o.name not in validfn]"
   ]
  },
  {
   "cell_type": "code",
   "execution_count": 135,
   "metadata": {
    "hidden": true
   },
   "outputs": [],
   "source": [
    "testfn = validfn"
   ]
  },
  {
   "cell_type": "code",
   "execution_count": 136,
   "metadata": {
    "hidden": true
   },
   "outputs": [
    {
     "data": {
      "text/plain": [
       "(101, 600, 101)"
      ]
     },
     "execution_count": 136,
     "metadata": {},
     "output_type": "execute_result"
    }
   ],
   "source": [
    "len(validfn), len(trainfn), len(testfn)"
   ]
  },
  {
   "cell_type": "code",
   "execution_count": 141,
   "metadata": {
    "hidden": true
   },
   "outputs": [],
   "source": [
    "with open(PATH/\"train.txt\", \"w\") as f: f.write(\"\\n\".join(trainfn))\n",
    "with open(PATH/\"test.txt\", \"w\") as f: f.write(\"\\n\".join(validfn))"
   ]
  },
  {
   "cell_type": "markdown",
   "metadata": {
    "heading_collapsed": true
   },
   "source": [
    "### `get_data`"
   ]
  },
  {
   "cell_type": "code",
   "execution_count": 272,
   "metadata": {
    "hidden": true
   },
   "outputs": [
    {
     "data": {
      "text/plain": [
       "ImageDataBunch;\n",
       "\n",
       "Train: LabelList (600 items)\n",
       "x: SegmentationItemList\n",
       "Image (3, 112, 112),Image (3, 112, 112),Image (3, 112, 112),Image (3, 112, 112),Image (3, 112, 112)\n",
       "y: SegmentationLabelList\n",
       "ImageSegment (1, 112, 112),ImageSegment (1, 112, 112),ImageSegment (1, 112, 112),ImageSegment (1, 112, 112),ImageSegment (1, 112, 112)\n",
       "Path: /home/turgutluk/.fastai/data/camvid/images;\n",
       "\n",
       "Valid: LabelList (101 items)\n",
       "x: SegmentationItemList\n",
       "Image (3, 112, 112),Image (3, 112, 112),Image (3, 112, 112),Image (3, 112, 112),Image (3, 112, 112)\n",
       "y: SegmentationLabelList\n",
       "ImageSegment (1, 112, 112),ImageSegment (1, 112, 112),ImageSegment (1, 112, 112),ImageSegment (1, 112, 112),ImageSegment (1, 112, 112)\n",
       "Path: /home/turgutluk/.fastai/data/camvid/images;\n",
       "\n",
       "Test: LabelList (101 items)\n",
       "x: SegmentationItemList\n",
       "Image (3, 112, 112),Image (3, 112, 112),Image (3, 112, 112),Image (3, 112, 112),Image (3, 112, 112)\n",
       "y: EmptyLabelList\n",
       ",,,,\n",
       "Path: /home/turgutluk/.fastai/data/camvid/images"
      ]
     },
     "execution_count": 272,
     "metadata": {},
     "output_type": "execute_result"
    }
   ],
   "source": [
    "# test data creation\n",
    "PATH = Path(\"/home/turgutluk/.fastai/data/camvid\")\n",
    "IMAGES = \"images\"\n",
    "MASKS = \"labels\"\n",
    "TRAIN, VALID, TEST = \"train.txt\", \"valid.txt\", \"test.txt\"\n",
    "ssdata = SemanticSegmentationData(PATH, IMAGES, MASKS, CODES, TRAIN, VALID, TEST, sample_size=None, bs=4, size=112)\n",
    "data = ssdata.get_data(); data"
   ]
  },
  {
   "cell_type": "markdown",
   "metadata": {
    "heading_collapsed": true
   },
   "source": [
    "### random default validation  (0.2)"
   ]
  },
  {
   "cell_type": "code",
   "execution_count": 273,
   "metadata": {
    "hidden": true
   },
   "outputs": [
    {
     "data": {
      "text/plain": [
       "ImageDataBunch;\n",
       "\n",
       "Train: LabelList (480 items)\n",
       "x: SegmentationItemList\n",
       "Image (3, 112, 112),Image (3, 112, 112),Image (3, 112, 112),Image (3, 112, 112),Image (3, 112, 112)\n",
       "y: SegmentationLabelList\n",
       "ImageSegment (1, 112, 112),ImageSegment (1, 112, 112),ImageSegment (1, 112, 112),ImageSegment (1, 112, 112),ImageSegment (1, 112, 112)\n",
       "Path: /home/turgutluk/.fastai/data/camvid/images;\n",
       "\n",
       "Valid: LabelList (120 items)\n",
       "x: SegmentationItemList\n",
       "Image (3, 112, 112),Image (3, 112, 112),Image (3, 112, 112),Image (3, 112, 112),Image (3, 112, 112)\n",
       "y: SegmentationLabelList\n",
       "ImageSegment (1, 112, 112),ImageSegment (1, 112, 112),ImageSegment (1, 112, 112),ImageSegment (1, 112, 112),ImageSegment (1, 112, 112)\n",
       "Path: /home/turgutluk/.fastai/data/camvid/images;\n",
       "\n",
       "Test: LabelList (101 items)\n",
       "x: SegmentationItemList\n",
       "Image (3, 112, 112),Image (3, 112, 112),Image (3, 112, 112),Image (3, 112, 112),Image (3, 112, 112)\n",
       "y: EmptyLabelList\n",
       ",,,,\n",
       "Path: /home/turgutluk/.fastai/data/camvid/images"
      ]
     },
     "execution_count": 273,
     "metadata": {},
     "output_type": "execute_result"
    }
   ],
   "source": [
    "# random validation\n",
    "ssdata = SemanticSegmentationData(PATH, IMAGES, MASKS, CODES, TRAIN, None, TEST, sample_size=None, bs=4, size=112)\n",
    "data = ssdata.get_data(); data"
   ]
  },
  {
   "cell_type": "markdown",
   "metadata": {
    "heading_collapsed": true
   },
   "source": [
    "### random validation by pct"
   ]
  },
  {
   "cell_type": "code",
   "execution_count": 274,
   "metadata": {
    "hidden": true
   },
   "outputs": [
    {
     "data": {
      "text/plain": [
       "ImageDataBunch;\n",
       "\n",
       "Train: LabelList (540 items)\n",
       "x: SegmentationItemList\n",
       "Image (3, 112, 112),Image (3, 112, 112),Image (3, 112, 112),Image (3, 112, 112),Image (3, 112, 112)\n",
       "y: SegmentationLabelList\n",
       "ImageSegment (1, 112, 112),ImageSegment (1, 112, 112),ImageSegment (1, 112, 112),ImageSegment (1, 112, 112),ImageSegment (1, 112, 112)\n",
       "Path: /home/turgutluk/.fastai/data/camvid/images;\n",
       "\n",
       "Valid: LabelList (60 items)\n",
       "x: SegmentationItemList\n",
       "Image (3, 112, 112),Image (3, 112, 112),Image (3, 112, 112),Image (3, 112, 112),Image (3, 112, 112)\n",
       "y: SegmentationLabelList\n",
       "ImageSegment (1, 112, 112),ImageSegment (1, 112, 112),ImageSegment (1, 112, 112),ImageSegment (1, 112, 112),ImageSegment (1, 112, 112)\n",
       "Path: /home/turgutluk/.fastai/data/camvid/images;\n",
       "\n",
       "Test: LabelList (101 items)\n",
       "x: SegmentationItemList\n",
       "Image (3, 112, 112),Image (3, 112, 112),Image (3, 112, 112),Image (3, 112, 112),Image (3, 112, 112)\n",
       "y: EmptyLabelList\n",
       ",,,,\n",
       "Path: /home/turgutluk/.fastai/data/camvid/images"
      ]
     },
     "execution_count": 274,
     "metadata": {},
     "output_type": "execute_result"
    }
   ],
   "source": [
    "# random validation\n",
    "ssdata = SemanticSegmentationData(PATH, IMAGES, MASKS, CODES, TRAIN, 0.1, TEST, sample_size=None, bs=4, size=112)\n",
    "data = ssdata.get_data(); data"
   ]
  },
  {
   "cell_type": "markdown",
   "metadata": {
    "heading_collapsed": true
   },
   "source": [
    "### Reformat SIIM data for `SemanticSegmentationData`"
   ]
  },
  {
   "cell_type": "code",
   "execution_count": 163,
   "metadata": {
    "hidden": true
   },
   "outputs": [],
   "source": [
    "PATH = Path(\"/home/turgutluk/data/siim_acr_pneu/\")"
   ]
  },
  {
   "cell_type": "code",
   "execution_count": 216,
   "metadata": {
    "hidden": true
   },
   "outputs": [
    {
     "data": {
      "text/plain": [
       "[PosixPath('/home/turgutluk/data/siim_acr_pneu/tmp'),\n",
       " PosixPath('/home/turgutluk/data/siim_acr_pneu/preds'),\n",
       " PosixPath('/home/turgutluk/data/siim_acr_pneu/train'),\n",
       " PosixPath('/home/turgutluk/data/siim_acr_pneu/clas_df.csv'),\n",
       " PosixPath('/home/turgutluk/data/siim_acr_pneu/dicom-images-test'),\n",
       " PosixPath('/home/turgutluk/data/siim_acr_pneu/models'),\n",
       " PosixPath('/home/turgutluk/data/siim_acr_pneu/dicom-images-train'),\n",
       " PosixPath('/home/turgutluk/data/siim_acr_pneu/train-rle.csv'),\n",
       " PosixPath('/home/turgutluk/data/siim_acr_pneu/codes.txt'),\n",
       " PosixPath('/home/turgutluk/data/siim_acr_pneu/test_2'),\n",
       " PosixPath('/home/turgutluk/data/siim_acr_pneu/stage_2_images.zip'),\n",
       " PosixPath('/home/turgutluk/data/siim_acr_pneu/seg_df.csv'),\n",
       " PosixPath('/home/turgutluk/data/siim_acr_pneu/learn'),\n",
       " PosixPath('/home/turgutluk/data/siim_acr_pneu/test')]"
      ]
     },
     "execution_count": 216,
     "metadata": {},
     "output_type": "execute_result"
    }
   ],
   "source": [
    "PATH.ls()"
   ]
  },
  {
   "cell_type": "code",
   "execution_count": 180,
   "metadata": {
    "hidden": true
   },
   "outputs": [
    {
     "data": {
      "text/plain": [
       "[PosixPath('/home/turgutluk/data/siim_acr_pneu/train/images_224'),\n",
       " PosixPath('/home/turgutluk/data/siim_acr_pneu/train/masks_448'),\n",
       " PosixPath('/home/turgutluk/data/siim_acr_pneu/train/images_448'),\n",
       " PosixPath('/home/turgutluk/data/siim_acr_pneu/train/images_672'),\n",
       " PosixPath('/home/turgutluk/data/siim_acr_pneu/train/masks_224'),\n",
       " PosixPath('/home/turgutluk/data/siim_acr_pneu/train/masks_1024'),\n",
       " PosixPath('/home/turgutluk/data/siim_acr_pneu/train/images_1024'),\n",
       " PosixPath('/home/turgutluk/data/siim_acr_pneu/train/masks_672')]"
      ]
     },
     "execution_count": 180,
     "metadata": {},
     "output_type": "execute_result"
    }
   ],
   "source": [
    "(PATH/\"train\").ls()"
   ]
  },
  {
   "cell_type": "code",
   "execution_count": 172,
   "metadata": {
    "hidden": true
   },
   "outputs": [],
   "source": [
    "imagefiles = get_files(PATH/\"train/images_1024\")\n",
    "maskfiles = get_files(PATH/\"train/masks_1024\")"
   ]
  },
  {
   "cell_type": "code",
   "execution_count": 173,
   "metadata": {
    "hidden": true
   },
   "outputs": [
    {
     "data": {
      "text/plain": [
       "[PosixPath('/home/turgutluk/data/siim_acr_pneu/train/images_1024/1.2.276.0.7230010.3.1.4.8323329.13093.1517875243.561538.jpg'),\n",
       " PosixPath('/home/turgutluk/data/siim_acr_pneu/train/images_1024/1.2.276.0.7230010.3.1.4.8323329.14248.1517875250.416882.jpg')]"
      ]
     },
     "execution_count": 173,
     "metadata": {},
     "output_type": "execute_result"
    }
   ],
   "source": [
    "imagefiles[:2]"
   ]
  },
  {
   "cell_type": "code",
   "execution_count": 174,
   "metadata": {
    "hidden": true
   },
   "outputs": [
    {
     "data": {
      "text/plain": [
       "[PosixPath('/home/turgutluk/data/siim_acr_pneu/train/masks_1024/1.2.276.0.7230010.3.1.4.8323329.12558.1517875239.714420.png'),\n",
       " PosixPath('/home/turgutluk/data/siim_acr_pneu/train/masks_1024/1.2.276.0.7230010.3.1.4.8323329.4767.1517875184.661527.png')]"
      ]
     },
     "execution_count": 174,
     "metadata": {},
     "output_type": "execute_result"
    }
   ],
   "source": [
    "maskfiles[:2]"
   ]
  },
  {
   "cell_type": "code",
   "execution_count": 181,
   "metadata": {
    "hidden": true
   },
   "outputs": [
    {
     "data": {
      "text/plain": [
       "10712"
      ]
     },
     "execution_count": 181,
     "metadata": {},
     "output_type": "execute_result"
    }
   ],
   "source": [
    "len(imagefiles)"
   ]
  },
  {
   "cell_type": "code",
   "execution_count": 182,
   "metadata": {
    "hidden": true
   },
   "outputs": [
    {
     "data": {
      "text/plain": [
       "2379"
      ]
     },
     "execution_count": 182,
     "metadata": {},
     "output_type": "execute_result"
    }
   ],
   "source": [
    "len(maskfiles)"
   ]
  },
  {
   "cell_type": "code",
   "execution_count": 183,
   "metadata": {
    "hidden": true
   },
   "outputs": [],
   "source": [
    "# add empty masks for negative samples"
   ]
  },
  {
   "cell_type": "code",
   "execution_count": 214,
   "metadata": {
    "hidden": true
   },
   "outputs": [],
   "source": [
    "def _fix_siim_masks(o, i):\n",
    "    maskfn = o.parent.parent/f\"masks_1024/{o.stem}.png\"\n",
    "    if maskfn in maskfiles:\n",
    "        mask = open_mask(maskfn)\n",
    "        if not torch.equal(mask.data.unique(), tensor([0,1])):       \n",
    "            mask = open_mask(maskfn, div=True)\n",
    "            assert torch.equal(mask.data.unique(), tensor([0,1]))   \n",
    "            mask.save(maskfn)  \n",
    "    else:\n",
    "        mask = PIL.Image.fromarray(np.zeros((1024, 1024)).astype(np.uint8))\n",
    "        mask.save(maskfn)"
   ]
  },
  {
   "cell_type": "code",
   "execution_count": 215,
   "metadata": {
    "hidden": true
   },
   "outputs": [],
   "source": [
    "parallel(_fix_siim_masks, imagefiles, max_workers=40)"
   ]
  },
  {
   "cell_type": "code",
   "execution_count": 218,
   "metadata": {
    "hidden": true
   },
   "outputs": [],
   "source": [
    "testfiles = (PATH/\"test_2\").ls()"
   ]
  },
  {
   "cell_type": "code",
   "execution_count": 222,
   "metadata": {
    "hidden": true
   },
   "outputs": [],
   "source": [
    "import pydicom"
   ]
  },
  {
   "cell_type": "code",
   "execution_count": 245,
   "metadata": {
    "hidden": true
   },
   "outputs": [],
   "source": [
    "def _read_and_save_dcm(o, i):\n",
    "    dcm = pydicom.read_file(str(o))\n",
    "    img = PIL.Image.fromarray(dcm.pixel_array, mode=\"L\").convert(mode=\"RGB\")\n",
    "    img.save(PATH/f\"train/images_1024/{o.stem}.jpg\")"
   ]
  },
  {
   "cell_type": "code",
   "execution_count": 246,
   "metadata": {
    "hidden": true
   },
   "outputs": [],
   "source": [
    "parallel(_read_and_save_dcm, testfiles, max_workers=40)"
   ]
  },
  {
   "cell_type": "code",
   "execution_count": 247,
   "metadata": {
    "hidden": true
   },
   "outputs": [],
   "source": [
    "imagefiles = get_files(PATH/\"train/images_1024\")\n",
    "maskfiles = get_files(PATH/\"train/masks_1024\")"
   ]
  },
  {
   "cell_type": "code",
   "execution_count": 249,
   "metadata": {
    "hidden": true
   },
   "outputs": [
    {
     "data": {
      "text/plain": [
       "(13917, 10712)"
      ]
     },
     "execution_count": 249,
     "metadata": {},
     "output_type": "execute_result"
    }
   ],
   "source": [
    "len(imagefiles), len(maskfiles)"
   ]
  },
  {
   "cell_type": "code",
   "execution_count": 256,
   "metadata": {
    "hidden": true
   },
   "outputs": [],
   "source": [
    "with open(PATH/\"test.txt\", \"w\") as f: f.write(\"\\n\".join([f\"{o.stem}.jpg\" for o in testfiles]))"
   ]
  },
  {
   "cell_type": "code",
   "execution_count": 258,
   "metadata": {
    "hidden": true
   },
   "outputs": [],
   "source": [
    "with open(PATH/\"train.txt\", \"w\") as f: f.write(\"\\n\".join([f\"{o.stem}.jpg\" for o in maskfiles]))"
   ]
  },
  {
   "cell_type": "markdown",
   "metadata": {},
   "source": [
    "### random default validation (0.1)"
   ]
  },
  {
   "cell_type": "code",
   "execution_count": 280,
   "metadata": {},
   "outputs": [],
   "source": [
    "PATH = Path(\"/home/turgutluk/data/siim_acr_pneu/\")\n",
    "IMAGES, MASKS, CODES, TRAIN, VALID, TEST = \"train/images_1024\", \"train/masks_1024\", \"codes.txt\", \"train.txt\", None, \"test.txt\""
   ]
  },
  {
   "cell_type": "code",
   "execution_count": 281,
   "metadata": {},
   "outputs": [
    {
     "data": {
      "text/plain": [
       "ImageDataBunch;\n",
       "\n",
       "Train: LabelList (9641 items)\n",
       "x: SegmentationItemList\n",
       "Image (3, 1024, 1024),Image (3, 1024, 1024),Image (3, 1024, 1024),Image (3, 1024, 1024),Image (3, 1024, 1024)\n",
       "y: SegmentationLabelList\n",
       "ImageSegment (1, 1024, 1024),ImageSegment (1, 1024, 1024),ImageSegment (1, 1024, 1024),ImageSegment (1, 1024, 1024),ImageSegment (1, 1024, 1024)\n",
       "Path: /home/turgutluk/data/siim_acr_pneu/train/images_1024;\n",
       "\n",
       "Valid: LabelList (1071 items)\n",
       "x: SegmentationItemList\n",
       "Image (3, 1024, 1024),Image (3, 1024, 1024),Image (3, 1024, 1024),Image (3, 1024, 1024),Image (3, 1024, 1024)\n",
       "y: SegmentationLabelList\n",
       "ImageSegment (1, 1024, 1024),ImageSegment (1, 1024, 1024),ImageSegment (1, 1024, 1024),ImageSegment (1, 1024, 1024),ImageSegment (1, 1024, 1024)\n",
       "Path: /home/turgutluk/data/siim_acr_pneu/train/images_1024;\n",
       "\n",
       "Test: LabelList (3205 items)\n",
       "x: SegmentationItemList\n",
       "Image (3, 1024, 1024),Image (3, 1024, 1024),Image (3, 1024, 1024),Image (3, 1024, 1024),Image (3, 1024, 1024)\n",
       "y: EmptyLabelList\n",
       ",,,,\n",
       "Path: /home/turgutluk/data/siim_acr_pneu/train/images_1024"
      ]
     },
     "execution_count": 281,
     "metadata": {},
     "output_type": "execute_result"
    }
   ],
   "source": [
    "# random validation\n",
    "ssdata = SemanticSegmentationData(PATH, IMAGES, MASKS, CODES, TRAIN, 0.1, TEST, sample_size=None, bs=1, size=1024)\n",
    "data = ssdata.get_data(); data"
   ]
  },
  {
   "cell_type": "code",
   "execution_count": 302,
   "metadata": {},
   "outputs": [
    {
     "data": {
      "image/png": "[encoded data removed]",
      "text/plain": [
       "<Figure size 288x288 with 1 Axes>"
      ]
     },
     "metadata": {
      "needs_background": "light"
     },
     "output_type": "display_data"
    }
   ],
   "source": [
    "data.show_batch()"
   ]
  },
  {
   "cell_type": "code",
   "execution_count": null,
   "metadata": {},
   "outputs": [],
   "source": []
  },
  {
   "cell_type": "code",
   "execution_count": null,
   "metadata": {},
   "outputs": [],
   "source": []
  },
  {
   "cell_type": "code",
   "execution_count": null,
   "metadata": {},
   "outputs": [],
   "source": []
  }
 ],
 "metadata": {
  "kernelspec": {
   "display_name": "Python 3",
   "language": "python",
   "name": "python3"
  },
  "language_info": {
   "codemirror_mode": {
    "name": "ipython",
    "version": 3
   },
   "file_extension": ".py",
   "mimetype": "text/x-python",
   "name": "python",
   "nbconvert_exporter": "python",
   "pygments_lexer": "ipython3",
   "version": "3.7.2"
  }
 },
 "nbformat": 4,
 "nbformat_minor": 2
}
