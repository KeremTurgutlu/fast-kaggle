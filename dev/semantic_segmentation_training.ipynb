{
 "cells": [
  {
   "cell_type": "markdown",
   "metadata": {},
   "source": [
    "## Test different training ideas"
   ]
  },
  {
   "cell_type": "code",
   "execution_count": 1,
   "metadata": {},
   "outputs": [],
   "source": [
    "from fastai.vision import *\n",
    "from local.semantic_segmentation.datasets import SemanticSegmentationData"
   ]
  },
  {
   "cell_type": "code",
   "execution_count": 2,
   "metadata": {},
   "outputs": [],
   "source": [
    "PATH = Path(\"/home/turgutluk/.fastai/data/camvid_tiny/\")"
   ]
  },
  {
   "cell_type": "code",
   "execution_count": 3,
   "metadata": {},
   "outputs": [],
   "source": [
    "# for fname in (PATH/\"masks\").ls():\n",
    "#     open_mask(fname).save(fname.parent/f\"{fname.stem[:-2]}.png\")"
   ]
  },
  {
   "cell_type": "code",
   "execution_count": 4,
   "metadata": {},
   "outputs": [],
   "source": [
    "defaults.device = torch.device(\"cuda\")"
   ]
  },
  {
   "cell_type": "code",
   "execution_count": 5,
   "metadata": {},
   "outputs": [],
   "source": [
    "PATH, CODES, TRAIN, VALID, TEST = PATH, \"codes.txt\", \"train.txt\", \"valid.txt\", \"test.txt\"\n",
    "segdata = SemanticSegmentationData(PATH, CODES, TRAIN, VALID, TEST, None, bs=64, size=224)"
   ]
  },
  {
   "cell_type": "code",
   "execution_count": 6,
   "metadata": {},
   "outputs": [],
   "source": [
    "data = segdata.get_data().normalize(imagenet_stats)"
   ]
  },
  {
   "cell_type": "code",
   "execution_count": 7,
   "metadata": {},
   "outputs": [
    {
     "data": {
      "text/plain": [
       "ImageDataBunch;\n",
       "\n",
       "Train: LabelList (90 items)\n",
       "x: SegmentationItemList\n",
       "Image (3, 224, 224),Image (3, 224, 224),Image (3, 224, 224),Image (3, 224, 224),Image (3, 224, 224)\n",
       "y: SegmentationLabelList\n",
       "ImageSegment (1, 224, 224),ImageSegment (1, 224, 224),ImageSegment (1, 224, 224),ImageSegment (1, 224, 224),ImageSegment (1, 224, 224)\n",
       "Path: /home/turgutluk/.fastai/data/camvid_tiny;\n",
       "\n",
       "Valid: LabelList (10 items)\n",
       "x: SegmentationItemList\n",
       "Image (3, 224, 224),Image (3, 224, 224),Image (3, 224, 224),Image (3, 224, 224),Image (3, 224, 224)\n",
       "y: SegmentationLabelList\n",
       "ImageSegment (1, 224, 224),ImageSegment (1, 224, 224),ImageSegment (1, 224, 224),ImageSegment (1, 224, 224),ImageSegment (1, 224, 224)\n",
       "Path: /home/turgutluk/.fastai/data/camvid_tiny;\n",
       "\n",
       "Test: LabelList (10 items)\n",
       "x: SegmentationItemList\n",
       "Image (3, 224, 224),Image (3, 224, 224),Image (3, 224, 224),Image (3, 224, 224),Image (3, 224, 224)\n",
       "y: EmptyLabelList\n",
       ",,,,\n",
       "Path: /home/turgutluk/.fastai/data/camvid_tiny"
      ]
     },
     "execution_count": 7,
     "metadata": {},
     "output_type": "execute_result"
    }
   ],
   "source": [
    "data"
   ]
  },
  {
   "cell_type": "markdown",
   "metadata": {},
   "source": [
    "### model"
   ]
  },
  {
   "cell_type": "code",
   "execution_count": 27,
   "metadata": {},
   "outputs": [],
   "source": [
    "learn = unet_learner(data, arch = models.resnet34, pretrained = True)"
   ]
  },
  {
   "cell_type": "markdown",
   "metadata": {},
   "source": [
    "### loss"
   ]
  },
  {
   "cell_type": "code",
   "execution_count": 28,
   "metadata": {
    "scrolled": true
   },
   "outputs": [],
   "source": [
    "from local.semantic_segmentation.losses import *"
   ]
  },
  {
   "cell_type": "code",
   "execution_count": 29,
   "metadata": {},
   "outputs": [
    {
     "data": {
      "text/plain": [
       "FlattenedLoss of CrossEntropyLoss()"
      ]
     },
     "execution_count": 29,
     "metadata": {},
     "output_type": "execute_result"
    }
   ],
   "source": [
    "learn.loss_func"
   ]
  },
  {
   "cell_type": "code",
   "execution_count": 30,
   "metadata": {},
   "outputs": [],
   "source": [
    "# learn.loss_func = lovasz_softmax"
   ]
  },
  {
   "cell_type": "markdown",
   "metadata": {},
   "source": [
    "### metric"
   ]
  },
  {
   "cell_type": "code",
   "execution_count": 31,
   "metadata": {},
   "outputs": [],
   "source": [
    "from local.semantic_segmentation.metrics import *"
   ]
  },
  {
   "cell_type": "code",
   "execution_count": 32,
   "metadata": {},
   "outputs": [],
   "source": [
    "# void_code = np.where(learn.data.classes == \"Void\")[0].item()\n",
    "# learn.metrics = [partial(foreground_acc, void_code=void_code)]\n",
    "learn.metrics = [dice]"
   ]
  },
  {
   "cell_type": "markdown",
   "metadata": {},
   "source": [
    "### custom scheduling"
   ]
  },
  {
   "cell_type": "code",
   "execution_count": 33,
   "metadata": {},
   "outputs": [],
   "source": [
    "from local.schedular import fit_with_annealing"
   ]
  },
  {
   "cell_type": "markdown",
   "metadata": {},
   "source": [
    "### opt_func"
   ]
  },
  {
   "cell_type": "code",
   "execution_count": 34,
   "metadata": {},
   "outputs": [],
   "source": [
    "from local.optimizers import *"
   ]
  },
  {
   "cell_type": "code",
   "execution_count": 35,
   "metadata": {},
   "outputs": [],
   "source": [
    "opt = \"ranger\""
   ]
  },
  {
   "cell_type": "code",
   "execution_count": 36,
   "metadata": {},
   "outputs": [],
   "source": [
    "alpha=0.99; mom=0.9; eps=1e-8; lr=3e-3; epochs=5; ann_start=0.2\n",
    "\n",
    "if   opt=='adam' : opt_func = partial(optim.Adam, betas=(mom,alpha), eps=eps)\n",
    "elif opt=='radam' : opt_func = partial(RAdam, betas=(mom,alpha), eps=eps)\n",
    "elif opt=='novograd' : opt_func = partial(Novograd, betas=(mom,alpha), eps=eps)\n",
    "elif opt=='rms'  : opt_func = partial(optim.RMSprop, alpha=alpha, eps=eps)\n",
    "elif opt=='sgd'  : opt_func = partial(optim.SGD, momentum=mom)\n",
    "elif opt=='ranger'  : opt_func = partial(Ranger,  betas=(mom,alpha), eps=eps)\n",
    "elif opt=='ralamb'  : opt_func = partial(Ralamb,  betas=(mom,alpha), eps=eps)\n",
    "elif opt=='rangerlars'  : opt_func = partial(RangerLars,  betas=(mom,alpha), eps=eps)\n",
    "elif opt=='lookahead'  : opt_func = partial(LookaheadAdam, betas=(mom,alpha), eps=eps)\n",
    "elif opt=='lamb'  : opt_func = partial(Lamb, betas=(mom,alpha), eps=eps)"
   ]
  },
  {
   "cell_type": "code",
   "execution_count": 37,
   "metadata": {},
   "outputs": [],
   "source": [
    "learn.opt_func = opt_func"
   ]
  },
  {
   "cell_type": "code",
   "execution_count": 38,
   "metadata": {},
   "outputs": [],
   "source": [
    "learn.to_fp16();"
   ]
  },
  {
   "cell_type": "code",
   "execution_count": null,
   "metadata": {},
   "outputs": [],
   "source": [
    "learn.fit_one_cycle(epochs, lr, div_factor=5, pct_start=0.3)\n",
    "learn.freeze_to(-1)\n",
    "learn.fit_one_cycle(epochs, slice(lr/4,lr/2), div_factor=5, pct_start=0.3)\n",
    "learn.unfreeze()\n",
    "learn.fit_one_cycle(epochs, slice(lr/10,lr/4), div_factor=5, pct_start=0.3)"
   ]
  },
  {
   "cell_type": "code",
   "execution_count": null,
   "metadata": {},
   "outputs": [],
   "source": [
    "fit_with_annealing(learn, epochs, lr, ann_start)\n",
    "learn.freeze_to(-1)\n",
    "fit_with_annealing(learn, epochs, lr, ann_start)\n",
    "learn.unfreeze()\n",
    "fit_with_annealing(learn, epochs, lr, ann_start)"
   ]
  },
  {
   "cell_type": "code",
   "execution_count": null,
   "metadata": {},
   "outputs": [],
   "source": [
    "for cb in learn.callbacks: print(cb.__class__)"
   ]
  },
  {
   "cell_type": "markdown",
   "metadata": {},
   "source": [
    "### more schedulars"
   ]
  },
  {
   "cell_type": "code",
   "execution_count": 286,
   "metadata": {},
   "outputs": [],
   "source": [
    "def flat_phases(num_epoch:int, lr:float=defaults.lr, annealing_start:float=0.7)->None:\n",
    "    n = len(learn.data.train_dl)\n",
    "    anneal_start = int(n*num_epoch*annealing_start)\n",
    "    phase0 = TrainingPhase(anneal_start).schedule_hp('lr', lr/10)\n",
    "    phase1 = TrainingPhase(n*num_epoch - anneal_start).schedule_hp('lr', lr, anneal=annealing_cos)\n",
    "    phases = [phase0, phase1]\n",
    "    return phases"
   ]
  },
  {
   "cell_type": "code",
   "execution_count": 294,
   "metadata": {},
   "outputs": [],
   "source": [
    "ph1, ph2 = flat_phases(epochs, lr, 0.2)"
   ]
  },
  {
   "cell_type": "code",
   "execution_count": 295,
   "metadata": {},
   "outputs": [
    {
     "data": {
      "text/plain": [
       "[<matplotlib.lines.Line2D at 0x7f8fb004d940>]"
      ]
     },
     "execution_count": 295,
     "metadata": {},
     "output_type": "execute_result"
    },
    {
     "data": {
      "image/png": "[encoded data removed]",
      "text/plain": [
       "<Figure size 432x288 with 1 Axes>"
      ]
     },
     "metadata": {
      "needs_background": "light"
     },
     "output_type": "display_data"
    }
   ],
   "source": [
    "steps = []\n",
    "for ph in [ph1, ph2]:\n",
    "    ph.scheds[\"lr\"].restart()\n",
    "    steps += [ph.scheds[\"lr\"].step() for i in range(ph.scheds[\"lr\"].n_iter)]\n",
    "plt.plot(steps)"
   ]
  },
  {
   "cell_type": "markdown",
   "metadata": {},
   "source": [
    "### export"
   ]
  },
  {
   "cell_type": "code",
   "execution_count": 20,
   "metadata": {},
   "outputs": [],
   "source": [
    "learn.load(\"mybestmodel\");\n",
    "learn.export(\"modelexport\")\n",
    "export = torch.load(PATH/\"modelexport\")\n",
    "model = export[\"model\"]"
   ]
  },
  {
   "cell_type": "code",
   "execution_count": null,
   "metadata": {},
   "outputs": [],
   "source": []
  }
 ],
 "metadata": {
  "kernelspec": {
   "display_name": "Python 3",
   "language": "python",
   "name": "python3"
  }
 },
 "nbformat": 4,
 "nbformat_minor": 2
}
