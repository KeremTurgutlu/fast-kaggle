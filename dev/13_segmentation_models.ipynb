{
 "cells": [
  {
   "cell_type": "code",
   "execution_count": 1,
   "metadata": {},
   "outputs": [],
   "source": [
    "#default_exp segmentation.models"
   ]
  },
  {
   "cell_type": "code",
   "execution_count": 2,
   "metadata": {
    "scrolled": true
   },
   "outputs": [
    {
     "data": {
      "application/javascript": [
       "IPython.notebook.set_autosave_interval(60000)"
      ]
     },
     "metadata": {},
     "output_type": "display_data"
    },
    {
     "name": "stdout",
     "output_type": "stream",
     "text": [
      "Autosaving every 60 seconds\n",
      "1.0.59.dev0\n"
     ]
    }
   ],
   "source": [
    "%autosave 60 \n",
    "import fastai; print(fastai.__version__)"
   ]
  },
  {
   "cell_type": "code",
   "execution_count": 3,
   "metadata": {},
   "outputs": [],
   "source": [
    "#export\n",
    "from fastai.vision import *"
   ]
  },
  {
   "cell_type": "code",
   "execution_count": 4,
   "metadata": {},
   "outputs": [],
   "source": [
    "torch.cuda.set_device(1)"
   ]
  },
  {
   "cell_type": "markdown",
   "metadata": {},
   "source": [
    "### data"
   ]
  },
  {
   "cell_type": "code",
   "execution_count": 63,
   "metadata": {},
   "outputs": [],
   "source": [
    "from local.segmentation.dataset import SemanticSegmentationData\n",
    "from local.segmentation.metrics import *\n",
    "from local.segmentation.losses_multilabel import *\n",
    "# test data creation\n",
    "def _get_test_data(size=320):\n",
    "    PATH = Path(\"/home/turgutluk/.fastai/data/camvid\")\n",
    "    IMAGES = \"images\"\n",
    "    MASKS = \"labels\"\n",
    "    CODES = \"codes.txt\"\n",
    "    TRAIN, VALID, TEST = \"train.txt\", \"valid.txt\", \"test.txt\"\n",
    "    ssdata = SemanticSegmentationData(PATH, IMAGES, MASKS, CODES, TRAIN,\n",
    "                                      VALID, TEST, sample_size=None, bs=4, size=size)\n",
    "    return ssdata.get_data()"
   ]
  },
  {
   "cell_type": "code",
   "execution_count": 64,
   "metadata": {},
   "outputs": [],
   "source": [
    "data = _get_test_data()"
   ]
  },
  {
   "cell_type": "markdown",
   "metadata": {
    "heading_collapsed": true
   },
   "source": [
    "### configs"
   ]
  },
  {
   "cell_type": "code",
   "execution_count": 6,
   "metadata": {
    "hidden": true
   },
   "outputs": [],
   "source": [
    "#export\n",
    "default_configs = {}\n",
    "model_funcs = {}\n",
    "splits = {}"
   ]
  },
  {
   "cell_type": "code",
   "execution_count": 7,
   "metadata": {
    "hidden": true
   },
   "outputs": [],
   "source": [
    "#export\n",
    "def get_model(name, data, config):\n",
    "    \"Get model given name, data and config. Undefined config is defaulted.\"\n",
    "    conf, copy_conf = default_configs[name].copy(), default_configs[name].copy()\n",
    "    conf.update(config)    \n",
    "    f = model_funcs[name]\n",
    "    model = f(data, conf)\n",
    "    split_fn = splits.get(name)\n",
    "    return model, split_fn, copy_conf"
   ]
  },
  {
   "cell_type": "code",
   "execution_count": 8,
   "metadata": {
    "hidden": true
   },
   "outputs": [],
   "source": [
    "def _test_model(model, data, split_fn):\n",
    "    \"camvid training test\"\n",
    "    learn = Learner(data, model)\n",
    "    learn = learn.split(split_fn)\n",
    "    learn.metrics = [partial(foreground_acc, void_code=31)]\n",
    "    if config.get(\"pretrained\"): learn.freeze()\n",
    "    else: apply_init(learn.model, nn.init.kaiming_normal_)\n",
    "    epochs, max_lr = 2, 3e-3\n",
    "    learn.freeze_to(-1)\n",
    "    learn.fit_one_cycle(epochs, max_lr)\n",
    "\n",
    "    # stage-2\n",
    "    lrs = slice(max_lr/100,max_lr/4)\n",
    "    learn.freeze_to(-2)\n",
    "    learn.fit_one_cycle(epochs, lrs, pct_start=0.8)\n",
    "\n",
    "    # stage-3\n",
    "    lrs = slice(max_lr/100,max_lr/4)\n",
    "    learn.unfreeze()\n",
    "    learn.fit_one_cycle(epochs, lrs, pct_start=0.8)\n",
    "    \n",
    "    res = learn.recorder.metrics[-1][0].item(); print(res)\n",
    "    assert res > 0.80"
   ]
  },
  {
   "cell_type": "markdown",
   "metadata": {},
   "source": [
    "### `segmentation_models_pytorch`\n",
    "\n",
    "- Models from great repo: https://github.com/qubvel/segmentation_models.pytorch\n",
    "- We will only use models and combine with fastai Learner - best of both worlds\n",
    "- Pretrained on `imagenet+5k`, `imagenet`, `instagram`\n",
    "- `Unet`, `FPN`, `LinkNet`, `PSPNet`\n",
    "\n",
    "\n",
    "**⚠️Warning:** Models from `segmentation_models_pytorch` here don't support all image sizes! DynamicUnet does."
   ]
  },
  {
   "cell_type": "code",
   "execution_count": 9,
   "metadata": {
    "scrolled": true
   },
   "outputs": [],
   "source": [
    "#export\n",
    "import local.segmentation.segmentation_models_pytorch as smp"
   ]
  },
  {
   "cell_type": "code",
   "execution_count": 10,
   "metadata": {},
   "outputs": [],
   "source": [
    "#export\n",
    "def _smp_split(m:nn.Module): return (m.decoder, m.decoder)"
   ]
  },
  {
   "cell_type": "markdown",
   "metadata": {
    "heading_collapsed": true
   },
   "source": [
    "### `smpUnet`"
   ]
  },
  {
   "cell_type": "code",
   "execution_count": 11,
   "metadata": {
    "hidden": true
   },
   "outputs": [],
   "source": [
    "#export\n",
    "smpunet_config = {\"encoder_name\":'resnext101_32x8d',\n",
    "                \"encoder_weights\":'instagram',\n",
    "                \"decoder_use_batchnorm\":True,\n",
    "                \"decoder_channels\":(256, 128, 64, 32, 16),\n",
    "                \"center\":False,\n",
    "                \"attention_type\":None,\n",
    "                \"activation\":'sigmoid',\n",
    "                  \n",
    "#                 classes=data.c,\n",
    "                \"pretrained\":True\n",
    "                 }"
   ]
  },
  {
   "cell_type": "code",
   "execution_count": 12,
   "metadata": {
    "hidden": true
   },
   "outputs": [],
   "source": [
    "#export\n",
    "def smpunet(data, config):\n",
    "    config.pop(\"pretrained\")\n",
    "    return smp.Unet(classes=data.c, **config)\n",
    "\n",
    "model_funcs['smpunet'] = smpunet\n",
    "default_configs['smpunet'] = smpunet_config\n",
    "splits['smpunet'] = _smp_split"
   ]
  },
  {
   "cell_type": "markdown",
   "metadata": {
    "heading_collapsed": true
   },
   "source": [
    "### `smpFPN`"
   ]
  },
  {
   "cell_type": "code",
   "execution_count": 13,
   "metadata": {
    "hidden": true
   },
   "outputs": [],
   "source": [
    "#export\n",
    "smpfpn_config = {\"encoder_name\":'resnet34',\n",
    "                \"encoder_weights\":'imagenet',\n",
    "                \"decoder_pyramid_channels\":256,\n",
    "                \"decoder_segmentation_channels\":128,\n",
    "                \"dropout\":0.2,\n",
    "                \"activation\":'sigmoid',\n",
    "                \"final_upsampling\":4,\n",
    "                \"decoder_merge_policy\":'add',\n",
    "                  \n",
    "#                 classes=data.c,\n",
    "                \"pretrained\":True\n",
    "                 }"
   ]
  },
  {
   "cell_type": "code",
   "execution_count": 15,
   "metadata": {
    "hidden": true
   },
   "outputs": [],
   "source": [
    "#export\n",
    "def smpfpn(data, config):\n",
    "    config.pop(\"pretrained\")\n",
    "    return smp.FPN(classes=data.c, **config)\n",
    "\n",
    "model_funcs['smpfpn'] = smpfpn\n",
    "default_configs['smpfpn'] = smpfpn_config\n",
    "splits['smpfpn'] = _smp_split"
   ]
  },
  {
   "cell_type": "markdown",
   "metadata": {
    "heading_collapsed": true
   },
   "source": [
    "### `spmLinknet`"
   ]
  },
  {
   "cell_type": "code",
   "execution_count": 16,
   "metadata": {
    "hidden": true
   },
   "outputs": [],
   "source": [
    "#export\n",
    "smplinknet_config = {\"encoder_name\":'resnet34',\n",
    "                    \"encoder_weights\":'imagenet',\n",
    "                    \"decoder_use_batchnorm\":True,\n",
    "                    \"activation\":'sigmoid',\n",
    "                  \n",
    "    #                 classes=data.c,\n",
    "                    \"pretrained\":True\n",
    "                     }"
   ]
  },
  {
   "cell_type": "code",
   "execution_count": 17,
   "metadata": {
    "hidden": true
   },
   "outputs": [],
   "source": [
    "#export\n",
    "def smplinknet(data, config):\n",
    "    config.pop(\"pretrained\")\n",
    "    return smp.Linknet(classes=data.c, **config)\n",
    "\n",
    "model_funcs['smplinknet'] = smplinknet\n",
    "default_configs['smplinknet'] = smplinknet_config\n",
    "splits['smplinknet'] = _smp_split"
   ]
  },
  {
   "cell_type": "markdown",
   "metadata": {
    "heading_collapsed": true
   },
   "source": [
    "### `spmPSPNet`"
   ]
  },
  {
   "cell_type": "code",
   "execution_count": 18,
   "metadata": {
    "hidden": true
   },
   "outputs": [],
   "source": [
    "#export\n",
    "smppspnet_config = {\"encoder_name\":'resnet34',\n",
    "                    \"encoder_weights\":'imagenet',\n",
    "                    \"psp_in_factor\":8,\n",
    "                    \"psp_out_channels\":512,\n",
    "                    \"psp_use_batchnorm\":True,\n",
    "                    \"psp_aux_output\":False,\n",
    "                    \"dropout\":0.2,\n",
    "                    \"activation\":'softmax',\n",
    "                    \n",
    "#                 classes=data.c,\n",
    "                    \"pretrained\":True\n",
    "                         }"
   ]
  },
  {
   "cell_type": "code",
   "execution_count": 19,
   "metadata": {
    "hidden": true
   },
   "outputs": [],
   "source": [
    "#export\n",
    "def smppspnet(data, config):\n",
    "    config.pop(\"pretrained\")\n",
    "    return smp.PSPNet(classes=data.c, **config)\n",
    "\n",
    "model_funcs['smppspnet'] = smppspnet\n",
    "default_configs['smppspnet'] = smppspnet_config\n",
    "splits['smppspnet'] = _smp_split"
   ]
  },
  {
   "cell_type": "markdown",
   "metadata": {
    "heading_collapsed": true
   },
   "source": [
    "### `ResDUnet [18,34,50,101,152]`"
   ]
  },
  {
   "cell_type": "code",
   "execution_count": 20,
   "metadata": {
    "hidden": true
   },
   "outputs": [],
   "source": [
    "#export\n",
    "from fastai.vision.models.unet import DynamicUnet\n",
    "from fastai.vision.learner import cnn_config\n",
    "\n",
    "_body_config = {\"pretrained\":True} \n",
    "_unet_config = {\"blur\":False, \"blur_final\":True, \"self_attention\":False,\n",
    "         \"y_range\":None, \"norm_type\":NormType, \"last_cross\":True, \"bottle\":False}\n",
    "dunet_config = {**_body_config, **_unet_config}"
   ]
  },
  {
   "cell_type": "code",
   "execution_count": 21,
   "metadata": {
    "hidden": true
   },
   "outputs": [],
   "source": [
    "#export\n",
    "from fastai.vision.models import resnet18, resnet34, resnet50, resnet101, resnet152\n",
    "from fastai.vision.models.cadene_models import model_meta"
   ]
  },
  {
   "cell_type": "code",
   "execution_count": 23,
   "metadata": {
    "hidden": true
   },
   "outputs": [],
   "source": [
    "#export\n",
    "_res_meta = model_meta[resnet18]\n",
    "_res_cut, _res_split = _res_meta['cut'], _res_meta['split']"
   ]
  },
  {
   "cell_type": "code",
   "execution_count": 24,
   "metadata": {
    "hidden": true
   },
   "outputs": [],
   "source": [
    "#export\n",
    "def _resdunet(arch, data, config):\n",
    "    \"Returns a resdunet model for an arch from data and final config\"\n",
    "    pretrained = config.pop(\"pretrained\")\n",
    "    try:    size = data.train_ds[0][0].size\n",
    "    except: size = next(iter(data.train_dl))[0].shape[-2:]\n",
    "    body = create_body(arch, pretrained, _res_cut)\n",
    "    model = DynamicUnet(body, n_classes=data.c, img_size=size, **config)\n",
    "    return model"
   ]
  },
  {
   "cell_type": "code",
   "execution_count": 25,
   "metadata": {
    "hidden": true,
    "scrolled": true
   },
   "outputs": [],
   "source": [
    "#export\n",
    "def resdunet18(data, config): return _resdunet(resnet18, data, config)\n",
    "model_funcs['resdunet18'] = resdunet18\n",
    "default_configs['resdunet18'] = dunet_config\n",
    "splits['resdunet18'] = _res_split\n",
    "\n",
    "def resdunet34(data, config): return _resdunet(resnet34, data, config)\n",
    "model_funcs['resdunet34'] = resdunet34\n",
    "default_configs['resdunet34'] = dunet_config\n",
    "splits['resdunet34'] = _res_split\n",
    "\n",
    "def resdunet50(data, config): return _resdunet(resnet50, data, config)\n",
    "model_funcs['resdunet50'] = resdunet50\n",
    "default_configs['resdunet50'] = dunet_config\n",
    "splits['resdunet50'] = _res_split\n",
    "\n",
    "def resdunet101(data, config): return _resdunet(resnet101, data, config)\n",
    "model_funcs['resdunet101'] = resdunet101\n",
    "default_configs['resdunet101'] = dunet_config\n",
    "splits['resdunet101'] = _res_split\n",
    "\n",
    "def resdunet152(data, config): return _resdunet(resnet152, data, config)\n",
    "model_funcs['resdunet152'] = resdunet152\n",
    "default_configs['resdunet152'] = dunet_config\n",
    "splits['resdunet152'] = _res_split"
   ]
  },
  {
   "cell_type": "markdown",
   "metadata": {
    "heading_collapsed": true
   },
   "source": [
    "### `EfficientDUnet (TODO - Experimental)`\n",
    "\n",
    "https://github.com/narumiruna/efficientnet-pytorch"
   ]
  },
  {
   "cell_type": "code",
   "execution_count": 20,
   "metadata": {
    "hidden": true
   },
   "outputs": [],
   "source": [
    "from fastai.vision.models.efficientnet import *"
   ]
  },
  {
   "cell_type": "code",
   "execution_count": 21,
   "metadata": {
    "hidden": true
   },
   "outputs": [],
   "source": [
    "def EfficientNetB1(pretrained, data): return EfficientNet.from_pretrained('efficientnet-b1', num_classes=data.c)\n",
    "def EfficientNetB2(pretrained, data): return EfficientNet.from_pretrained('efficientnet-b2', num_classes=data.c)\n",
    "def EfficientNetB3(pretrained, data): return EfficientNet.from_pretrained('efficientnet-b3', num_classes=data.c)\n",
    "def EfficientNetB4(pretrained, data): return EfficientNet.from_pretrained('efficientnet-b4', num_classes=data.c)\n",
    "def EfficientNetB5(pretrained, data): return EfficientNet.from_pretrained('efficientnet-b5', num_classes=data.c)\n",
    "def EfficientNetB6(pretrained, data): return EfficientNet.from_pretrained('efficientnet-b6', num_classes=data.c)\n",
    "def EfficientNetB7(pretrained, data): return EfficientNet.from_pretrained('efficientnet-b7', num_classes=data.c)"
   ]
  },
  {
   "cell_type": "markdown",
   "metadata": {
    "heading_collapsed": true
   },
   "source": [
    "### `DenseDUnet [121,161,169, 201] (FIX - Buggy :( )`"
   ]
  },
  {
   "cell_type": "code",
   "execution_count": 34,
   "metadata": {
    "hidden": true
   },
   "outputs": [],
   "source": [
    "# from fastai.callbacks.hooks import model_sizes\n",
    "# from fastai.vision.models import densenet121, densenet161, densenet169, densenet201"
   ]
  },
  {
   "cell_type": "code",
   "execution_count": 35,
   "metadata": {
    "hidden": true
   },
   "outputs": [],
   "source": [
    "# def _densedunet_split(m:nn.Module): return (m[0][3], m[1])"
   ]
  },
  {
   "cell_type": "code",
   "execution_count": 36,
   "metadata": {
    "hidden": true
   },
   "outputs": [],
   "source": [
    "# #export\n",
    "# def _densedunet(arch, data, config):\n",
    "#     \"Returns a resdunet model for a arch from data and final config\"\n",
    "#     pretrained, cut = config.pop(\"pretrained\"), config.pop(\"cut\")\n",
    "#     body = create_body(arch, pretrained, cut)[0]\n",
    "#     densenet_children = list(body.children())\n",
    "#     new_body = nn.Sequential(nn.Sequential(*densenet_children[:4]),\n",
    "#                                nn.Sequential(*densenet_children[4:6]),\n",
    "#                                nn.Sequential(*densenet_children[6:8]),\n",
    "#                                nn.Sequential(*densenet_children[8:10]),\n",
    "#                                nn.Sequential(*densenet_children[10:]))\n",
    "#     try:    size = data.train_ds[0][0].size\n",
    "#     except: size = next(iter(data.train_dl))[0].shape[-2:]\n",
    "#     model = DynamicUnet(new_body, n_classes=data.c, img_size=size, **config)\n",
    "#     return model"
   ]
  },
  {
   "cell_type": "code",
   "execution_count": 37,
   "metadata": {
    "hidden": true
   },
   "outputs": [],
   "source": [
    "# #export\n",
    "# def densedunet121(data, config): return _densedunet(densenet121, data, config)\n",
    "# model_funcs['densedunet121'] = densedunet121\n",
    "# default_configs['densedunet121'] = dunet_config\n",
    "# splits['densedunet121'] = _densedunet_split\n",
    "\n",
    "# def densedunet161(data, config): return _densedunet(densenet161, data, config)\n",
    "# model_funcs['densedunet161'] = densedunet161\n",
    "# default_configs['densedunet161'] = dunet_config\n",
    "# splits['densedunet161'] = _densedunet_split\n",
    "\n",
    "# def densedunet169(data, config): return _densedunet(densenet169, data, config)\n",
    "# model_funcs['densedunet169'] = densedunet169\n",
    "# default_configs['densedunet169'] = dunet_config\n",
    "# splits['densedunet169'] = _densedunet_split\n",
    "\n",
    "# def densedunet201(data, config): return _densedunet(densenet201, data, config)\n",
    "# model_funcs['densedunet201'] = densedunet201\n",
    "# default_configs['densedunet201'] = dunet_config\n",
    "# splits['densedunet201'] = _densedunet_split\n"
   ]
  },
  {
   "cell_type": "markdown",
   "metadata": {
    "heading_collapsed": true
   },
   "source": [
    "### `SE-ResDUneXt [50,101]`"
   ]
  },
  {
   "cell_type": "code",
   "execution_count": 26,
   "metadata": {
    "hidden": true
   },
   "outputs": [],
   "source": [
    "#export\n",
    "from fastai.vision.models.cadene_models import se_resnext50_32x4d, se_resnext101_32x4d"
   ]
  },
  {
   "cell_type": "code",
   "execution_count": 27,
   "metadata": {
    "hidden": true
   },
   "outputs": [],
   "source": [
    "#export\n",
    "_se_meta = model_meta[se_resnext50_32x4d]\n",
    "_se_cut, _se_split = _se_meta['cut'], _se_meta['split']"
   ]
  },
  {
   "cell_type": "code",
   "execution_count": 28,
   "metadata": {
    "hidden": true
   },
   "outputs": [],
   "source": [
    "#export\n",
    "def _seresdunext(arch, data, config):\n",
    "    \"Returns a resdunet model for a arch from data and final config\"\n",
    "    pretrained = config.pop(\"pretrained\")\n",
    "    try:    size = data.train_ds[0][0].size\n",
    "    except: size = next(iter(data.train_dl))[0].shape[-2:]\n",
    "    body = create_body(arch, pretrained, cut=_se_cut)\n",
    "    model = DynamicUnet(body, n_classes=data.c, img_size=size, **config)\n",
    "    return model"
   ]
  },
  {
   "cell_type": "code",
   "execution_count": 29,
   "metadata": {
    "hidden": true
   },
   "outputs": [],
   "source": [
    "#export\n",
    "def seresdunext50(data, config): return _seresdunext(se_resnext50_32x4d, data, config)\n",
    "model_funcs['seresdunext50'] = seresdunext50\n",
    "default_configs['seresdunext50'] = dunet_config\n",
    "splits['seresdunext50'] = _se_split\n",
    "\n",
    "def seresdunext101(data, config): return _seresdunext(se_resnext101_32x4d, data, config)\n",
    "model_funcs['seresdunext101'] = seresdunext101\n",
    "default_configs['seresdunext101'] = dunet_config\n",
    "splits['seresdunext101'] = _se_split"
   ]
  },
  {
   "cell_type": "markdown",
   "metadata": {
    "heading_collapsed": true
   },
   "source": [
    "### `DeepLab v3+ [ResNet50, ResNet101, seresnext50, seresnext101]`"
   ]
  },
  {
   "cell_type": "markdown",
   "metadata": {
    "hidden": true
   },
   "source": [
    "https://github.com/yelanlan/Pneumothorax-Segmentation-2nd-place-solution/blob/bf99230deffdd813fe730ddeaed6822ba37193df/semantic_segmentation/network/deepv3.py"
   ]
  },
  {
   "cell_type": "code",
   "execution_count": 30,
   "metadata": {
    "hidden": true
   },
   "outputs": [],
   "source": [
    "# from torchvision.models.segmentation import deeplabv3_resnet50, deeplabv3_resnet101"
   ]
  },
  {
   "cell_type": "code",
   "execution_count": 31,
   "metadata": {
    "hidden": true
   },
   "outputs": [],
   "source": [
    "#export\n",
    "_body_config = {\"pretrained\":True} \n",
    "_deeplab_config = {'variant':'D', 'skip':'m1', 'skip_num':48}\n",
    "deeplab_config = {**_body_config, **_deeplab_config}"
   ]
  },
  {
   "cell_type": "code",
   "execution_count": 32,
   "metadata": {
    "hidden": true
   },
   "outputs": [],
   "source": [
    "#export\n",
    "class _AtrousSpatialPyramidPoolingModule(nn.Module):\n",
    "    \"\"\"\n",
    "    operations performed:\n",
    "      1x1 x depth\n",
    "      3x3 x depth dilation 6\n",
    "      3x3 x depth dilation 12\n",
    "      3x3 x depth dilation 18\n",
    "      image pooling\n",
    "      concatenate all together\n",
    "      Final 1x1 conv\n",
    "    \"\"\"\n",
    "\n",
    "    def __init__(self, in_dim, reduction_dim=256, output_stride=16, rates=(6, 12, 18)):\n",
    "        super(_AtrousSpatialPyramidPoolingModule, self).__init__()\n",
    "\n",
    "        # Check if we are using distributed BN and use the nn from encoding.nn\n",
    "        # library rather than using standard pytorch.nn\n",
    "\n",
    "        if output_stride == 8:\n",
    "            rates = [2 * r for r in rates]\n",
    "        elif output_stride == 16:\n",
    "            pass\n",
    "        else:\n",
    "            raise 'output stride of {} not supported'.format(output_stride)\n",
    "\n",
    "        self.features = []\n",
    "        # 1x1\n",
    "        self.features.append(\n",
    "            nn.Sequential(nn.Conv2d(in_dim, reduction_dim, kernel_size=1, bias=False),\n",
    "                          nn.BatchNorm2d(reduction_dim), nn.ReLU(inplace=True)))\n",
    "        # other rates\n",
    "        for r in rates:\n",
    "            self.features.append(nn.Sequential(\n",
    "                nn.Conv2d(in_dim, reduction_dim, kernel_size=3,\n",
    "                          dilation=r, padding=r, bias=False),\n",
    "                nn.BatchNorm2d(reduction_dim),\n",
    "                nn.ReLU(inplace=True)\n",
    "            ))\n",
    "        self.features = torch.nn.ModuleList(self.features)\n",
    "\n",
    "        # img level features\n",
    "        self.img_pooling = nn.AdaptiveAvgPool2d(1)\n",
    "        self.img_conv = nn.Sequential(\n",
    "            nn.Conv2d(in_dim, reduction_dim, kernel_size=1, bias=False),\n",
    "            nn.BatchNorm2d(reduction_dim), nn.ReLU(inplace=True))\n",
    "        \n",
    "    def forward(self, x):\n",
    "        x_size = x.size()\n",
    "\n",
    "        img_features = self.img_pooling(x)\n",
    "        img_features = self.img_conv(img_features)\n",
    "        img_features = _Upsample(img_features, x_size[2:])\n",
    "        out = img_features\n",
    "\n",
    "        for f in self.features:\n",
    "            y = f(x)\n",
    "            out = torch.cat((out, y), 1)\n",
    "        return out\n",
    "    \n",
    "def _Upsample(x, size):\n",
    "    \"\"\"\n",
    "    Wrapper Around the Upsample Call\n",
    "    \"\"\"\n",
    "    return nn.functional.interpolate(x, size=size, mode='bilinear', align_corners=True)"
   ]
  },
  {
   "cell_type": "code",
   "execution_count": 33,
   "metadata": {
    "hidden": true
   },
   "outputs": [],
   "source": [
    "#export\n",
    "class _DeepV3Plus(nn.Module):\n",
    "    \"\"\"\n",
    "    Implement DeepLab-V3 model\n",
    "    A: stride8\n",
    "    B: stride16\n",
    "    with skip connections\n",
    "    \"\"\"\n",
    "    def __init__(self, num_classes, backbone='seresnext-50', pretrained=True, variant='D', \n",
    "                 skip='m1', skip_num=48):\n",
    "        super(_DeepV3Plus, self).__init__()\n",
    "        \n",
    "        self.variant, self.skip, self.skip_num = variant, skip, skip_num\n",
    "        \n",
    "        if backbone == 'seresnext50':\n",
    "            body = create_body(se_resnext50_32x4d, pretrained)\n",
    "        elif backbone == 'seresnext101':\n",
    "            body = create_body(se_resnext101_32x4d, pretrained)\n",
    "        elif backbone == 'resnet50':\n",
    "            body = create_body(resnet50, pretrained)\n",
    "            body = nn.Sequential(nn.Sequential(body[:4]), *body[4:])\n",
    "        elif backbone == 'resnet101':\n",
    "            body = create_body(resnet101, pretrained)\n",
    "            body = nn.Sequential(nn.Sequential(body[:4]), *body[4:])\n",
    "        else:\n",
    "            raise ValueError(\"Not a valid network arch\")\n",
    "            \n",
    "        self.body = body\n",
    "\n",
    "        if self.variant == 'D':\n",
    "            for n, m in self.body[3].named_modules():\n",
    "                if 'conv2' in n:\n",
    "                    m.dilation, m.padding, m.stride = (2, 2), (2, 2), (1, 1)\n",
    "                elif 'downsample.0' in n:\n",
    "                    m.stride = (1, 1)\n",
    "            for n, m in self.body[4].named_modules():\n",
    "                if 'conv2' in n:\n",
    "                    m.dilation, m.padding, m.stride = (4, 4), (4, 4), (1, 1)\n",
    "                elif 'downsample.0' in n:\n",
    "                    m.stride = (1, 1)\n",
    "        elif self.variant == 'D16':\n",
    "            for n, m in self.body[4].named_modules():\n",
    "                if 'conv2' in n:\n",
    "                    m.dilation, m.padding, m.stride = (2, 2), (2, 2), (1, 1)\n",
    "                elif 'downsample.0' in n:\n",
    "                    m.stride = (1, 1)\n",
    "        else:\n",
    "            # raise 'unknown deepv3 variant: {}'.format(self.variant)\n",
    "            print(\"Not using Dilation \")\n",
    "\n",
    "        self.aspp = _AtrousSpatialPyramidPoolingModule(2048, 256, output_stride=8)\n",
    "\n",
    "        if self.skip == 'm1':\n",
    "            self.bot_fine = nn.Conv2d(256, self.skip_num, kernel_size=1, bias=False)\n",
    "        elif self.skip == 'm2':\n",
    "            self.bot_fine = nn.Conv2d(512, self.skip_num, kernel_size=1, bias=False)\n",
    "        else:\n",
    "            raise Exception('Not a valid skip')\n",
    "\n",
    "        self.bot_aspp = nn.Conv2d(1280, 256, kernel_size=1, bias=False)\n",
    "\n",
    "        self.final = nn.Sequential(\n",
    "            nn.Conv2d(256 + self.skip_num, 256, kernel_size=3, padding=1, bias=False),\n",
    "            nn.BatchNorm2d(256),\n",
    "            nn.ReLU(inplace=True),\n",
    "            nn.Conv2d(256, 256, kernel_size=3, padding=1, bias=False),\n",
    "            nn.BatchNorm2d(256),\n",
    "            nn.ReLU(inplace=True),\n",
    "            nn.Conv2d(256, num_classes, kernel_size=1, bias=False))\n",
    "        \n",
    "        # init weights and biases\n",
    "        for m in [self.aspp, self.bot_aspp, self.bot_fine, self.final]:\n",
    "            apply_init(m, nn.init.kaiming_normal_)\n",
    "        \n",
    "        \n",
    "    def forward(self, x, gts=None):\n",
    "\n",
    "        x_size = x.size()  # 800\n",
    "        x0 = self.body[0](x)  # 400\n",
    "        x1 = self.body[1](x0)  # 400\n",
    "        x2 = self.body[2](x1)  # 100\n",
    "        x3 = self.body[3](x2)  # 100\n",
    "        x4 = self.body[4](x3)  # 100\n",
    "        xp = self.aspp(x4)\n",
    "\n",
    "        dec0_up = self.bot_aspp(xp)\n",
    "        if self.skip == 'm1':\n",
    "            dec0_fine = self.bot_fine(x1)\n",
    "            dec0_up = _Upsample(dec0_up, x1.size()[2:])\n",
    "        else:\n",
    "            dec0_fine = self.bot_fine(x2)\n",
    "            dec0_up = _Upsample(dec0_up, x2.size()[2:])\n",
    "\n",
    "        dec0 = [dec0_fine, dec0_up]\n",
    "        dec0 = torch.cat(dec0, 1)\n",
    "        dec1 = self.final(dec0)\n",
    "        main_out = _Upsample(dec1, x_size[2:])\n",
    "        \n",
    "        return main_out"
   ]
  },
  {
   "cell_type": "code",
   "execution_count": 34,
   "metadata": {
    "hidden": true
   },
   "outputs": [],
   "source": [
    "#export\n",
    "def _deeplabv3(arch_name, data, config):\n",
    "    \"Returns a resdunet model for a arch from data and final config\"\n",
    "    pretrained = config.pop(\"pretrained\")\n",
    "    model = _DeepV3Plus(data.c, arch_name, pretrained=pretrained, **config)\n",
    "    return model"
   ]
  },
  {
   "cell_type": "code",
   "execution_count": 35,
   "metadata": {
    "hidden": true
   },
   "outputs": [],
   "source": [
    "#export\n",
    "def _deeplab_split(m:nn.Module): return (m.body[3], m.aspp)"
   ]
  },
  {
   "cell_type": "code",
   "execution_count": 36,
   "metadata": {
    "hidden": true
   },
   "outputs": [],
   "source": [
    "#export\n",
    "def deeplabv3res50(data, config): return _deeplabv3(\"resnet50\", data, config)\n",
    "model_funcs['deeplabv3res50'] = deeplabv3res50\n",
    "default_configs['deeplabv3res50'] = deeplab_config\n",
    "splits['deeplabv3res50'] = _deeplab_split\n",
    "\n",
    "def deeplabv3res101(data, config): return _deeplabv3(\"resnet101\", data, config)\n",
    "model_funcs['deeplabv3res101'] = deeplabv3res101\n",
    "default_configs['deeplabv3res101'] = deeplab_config\n",
    "splits['deeplabv3res101'] = _deeplab_split\n",
    "\n",
    "def deeplabv3seresnext50(data, config): return _deeplabv3(\"seresnext50\", data, config)\n",
    "model_funcs['deeplabv3seresnext50'] = deeplabv3seresnext50\n",
    "default_configs['deeplabv3seresnext50'] = deeplab_config\n",
    "splits['deeplabv3seresnext50'] = _deeplab_split\n",
    "\n",
    "def deeplabv3seresnext101(data, config): return _deeplabv3(\"seresnext101\", data, config)\n",
    "model_funcs['deeplabv3seresnext101'] = deeplabv3seresnext101\n",
    "default_configs['deeplabv3seresnext101'] = deeplab_config\n",
    "splits['deeplabv3seresnext101'] = _deeplab_split"
   ]
  },
  {
   "cell_type": "markdown",
   "metadata": {},
   "source": [
    "### `tests`"
   ]
  },
  {
   "cell_type": "code",
   "execution_count": 38,
   "metadata": {},
   "outputs": [
    {
     "data": {
      "text/plain": [
       "({'smpunet': <function __main__.smpunet(data, config)>,\n",
       "  'smpfpn': <function __main__.smpfpn(data, config)>,\n",
       "  'smplinknet': <function __main__.smplinknet(data, config)>,\n",
       "  'smppspnet': <function __main__.smppspnet(data, config)>,\n",
       "  'resdunet18': <function __main__.resdunet18(data, config)>,\n",
       "  'resdunet34': <function __main__.resdunet34(data, config)>,\n",
       "  'resdunet50': <function __main__.resdunet50(data, config)>,\n",
       "  'resdunet101': <function __main__.resdunet101(data, config)>,\n",
       "  'resdunet152': <function __main__.resdunet152(data, config)>,\n",
       "  'seresdunext50': <function __main__.seresdunext50(data, config)>,\n",
       "  'seresdunext101': <function __main__.seresdunext101(data, config)>,\n",
       "  'deeplabv3res50': <function __main__.deeplabv3res50(data, config)>,\n",
       "  'deeplabv3res101': <function __main__.deeplabv3res101(data, config)>,\n",
       "  'deeplabv3seresnext50': <function __main__.deeplabv3seresnext50(data, config)>,\n",
       "  'deeplabv3seresnext101': <function __main__.deeplabv3seresnext101(data, config)>},\n",
       " {'smpunet': <function __main__._smp_split(m: torch.nn.modules.module.Module)>,\n",
       "  'smpfpn': <function __main__._smp_split(m: torch.nn.modules.module.Module)>,\n",
       "  'smplinknet': <function __main__._smp_split(m: torch.nn.modules.module.Module)>,\n",
       "  'smppspnet': <function __main__._smp_split(m: torch.nn.modules.module.Module)>,\n",
       "  'resdunet18': <function fastai.vision.learner._resnet_split(m: torch.nn.modules.module.Module)>,\n",
       "  'resdunet34': <function fastai.vision.learner._resnet_split(m: torch.nn.modules.module.Module)>,\n",
       "  'resdunet50': <function fastai.vision.learner._resnet_split(m: torch.nn.modules.module.Module)>,\n",
       "  'resdunet101': <function fastai.vision.learner._resnet_split(m: torch.nn.modules.module.Module)>,\n",
       "  'resdunet152': <function fastai.vision.learner._resnet_split(m: torch.nn.modules.module.Module)>,\n",
       "  'seresdunext50': <function fastai.vision.models.cadene_models.<lambda>(m)>,\n",
       "  'seresdunext101': <function fastai.vision.models.cadene_models.<lambda>(m)>,\n",
       "  'deeplabv3res50': <function __main__._deeplab_split(m: torch.nn.modules.module.Module)>,\n",
       "  'deeplabv3res101': <function __main__._deeplab_split(m: torch.nn.modules.module.Module)>,\n",
       "  'deeplabv3seresnext50': <function __main__._deeplab_split(m: torch.nn.modules.module.Module)>,\n",
       "  'deeplabv3seresnext101': <function __main__._deeplab_split(m: torch.nn.modules.module.Module)>})"
      ]
     },
     "execution_count": 38,
     "metadata": {},
     "output_type": "execute_result"
    }
   ],
   "source": [
    "from local.test import *\n",
    "model_funcs, splits"
   ]
  },
  {
   "cell_type": "markdown",
   "metadata": {},
   "source": [
    "#### `test: smpunet`"
   ]
  },
  {
   "cell_type": "code",
   "execution_count": 39,
   "metadata": {},
   "outputs": [],
   "source": [
    "model, split_fn, config = get_model(\"smpunet\", data, {})"
   ]
  },
  {
   "cell_type": "code",
   "execution_count": 40,
   "metadata": {},
   "outputs": [
    {
     "data": {
      "text/html": [
       "Total time: 01:16 <p><table border=\"1\" class=\"dataframe\">\n",
       "  <thead>\n",
       "    <tr style=\"text-align: left;\">\n",
       "      <th>epoch</th>\n",
       "      <th>train_loss</th>\n",
       "      <th>valid_loss</th>\n",
       "      <th>foreground_acc</th>\n",
       "      <th>time</th>\n",
       "    </tr>\n",
       "  </thead>\n",
       "  <tbody>\n",
       "    <tr>\n",
       "      <td>0</td>\n",
       "      <td>1.027871</td>\n",
       "      <td>0.661890</td>\n",
       "      <td>0.843014</td>\n",
       "      <td>00:40</td>\n",
       "    </tr>\n",
       "    <tr>\n",
       "      <td>1</td>\n",
       "      <td>0.677247</td>\n",
       "      <td>0.549173</td>\n",
       "      <td>0.868110</td>\n",
       "      <td>00:35</td>\n",
       "    </tr>\n",
       "  </tbody>\n",
       "</table>"
      ],
      "text/plain": [
       "<IPython.core.display.HTML object>"
      ]
     },
     "metadata": {},
     "output_type": "display_data"
    },
    {
     "data": {
      "text/html": [
       "Total time: 01:11 <p><table border=\"1\" class=\"dataframe\">\n",
       "  <thead>\n",
       "    <tr style=\"text-align: left;\">\n",
       "      <th>epoch</th>\n",
       "      <th>train_loss</th>\n",
       "      <th>valid_loss</th>\n",
       "      <th>foreground_acc</th>\n",
       "      <th>time</th>\n",
       "    </tr>\n",
       "  </thead>\n",
       "  <tbody>\n",
       "    <tr>\n",
       "      <td>0</td>\n",
       "      <td>0.617935</td>\n",
       "      <td>0.513590</td>\n",
       "      <td>0.878561</td>\n",
       "      <td>00:35</td>\n",
       "    </tr>\n",
       "    <tr>\n",
       "      <td>1</td>\n",
       "      <td>0.592622</td>\n",
       "      <td>0.477353</td>\n",
       "      <td>0.884004</td>\n",
       "      <td>00:35</td>\n",
       "    </tr>\n",
       "  </tbody>\n",
       "</table>"
      ],
      "text/plain": [
       "<IPython.core.display.HTML object>"
      ]
     },
     "metadata": {},
     "output_type": "display_data"
    },
    {
     "data": {
      "text/html": [
       "Total time: 01:29 <p><table border=\"1\" class=\"dataframe\">\n",
       "  <thead>\n",
       "    <tr style=\"text-align: left;\">\n",
       "      <th>epoch</th>\n",
       "      <th>train_loss</th>\n",
       "      <th>valid_loss</th>\n",
       "      <th>foreground_acc</th>\n",
       "      <th>time</th>\n",
       "    </tr>\n",
       "  </thead>\n",
       "  <tbody>\n",
       "    <tr>\n",
       "      <td>0</td>\n",
       "      <td>0.546016</td>\n",
       "      <td>0.499873</td>\n",
       "      <td>0.873320</td>\n",
       "      <td>00:44</td>\n",
       "    </tr>\n",
       "    <tr>\n",
       "      <td>1</td>\n",
       "      <td>0.529006</td>\n",
       "      <td>0.446727</td>\n",
       "      <td>0.887710</td>\n",
       "      <td>00:44</td>\n",
       "    </tr>\n",
       "  </tbody>\n",
       "</table>"
      ],
      "text/plain": [
       "<IPython.core.display.HTML object>"
      ]
     },
     "metadata": {},
     "output_type": "display_data"
    },
    {
     "name": "stdout",
     "output_type": "stream",
     "text": [
      "0.8877096772193909\n"
     ]
    }
   ],
   "source": [
    "_test_model(model, data, split_fn)"
   ]
  },
  {
   "cell_type": "markdown",
   "metadata": {},
   "source": [
    "#### `test: smpfpn`"
   ]
  },
  {
   "cell_type": "code",
   "execution_count": 41,
   "metadata": {},
   "outputs": [],
   "source": [
    "model, split_fn, config = get_model(\"smpfpn\", data, {})"
   ]
  },
  {
   "cell_type": "code",
   "execution_count": 42,
   "metadata": {},
   "outputs": [
    {
     "data": {
      "text/html": [
       "Total time: 00:33 <p><table border=\"1\" class=\"dataframe\">\n",
       "  <thead>\n",
       "    <tr style=\"text-align: left;\">\n",
       "      <th>epoch</th>\n",
       "      <th>train_loss</th>\n",
       "      <th>valid_loss</th>\n",
       "      <th>foreground_acc</th>\n",
       "      <th>time</th>\n",
       "    </tr>\n",
       "  </thead>\n",
       "  <tbody>\n",
       "    <tr>\n",
       "      <td>0</td>\n",
       "      <td>1.010108</td>\n",
       "      <td>0.680289</td>\n",
       "      <td>0.829991</td>\n",
       "      <td>00:17</td>\n",
       "    </tr>\n",
       "    <tr>\n",
       "      <td>1</td>\n",
       "      <td>0.654420</td>\n",
       "      <td>0.507232</td>\n",
       "      <td>0.857251</td>\n",
       "      <td>00:16</td>\n",
       "    </tr>\n",
       "  </tbody>\n",
       "</table>"
      ],
      "text/plain": [
       "<IPython.core.display.HTML object>"
      ]
     },
     "metadata": {},
     "output_type": "display_data"
    },
    {
     "data": {
      "text/html": [
       "Total time: 00:31 <p><table border=\"1\" class=\"dataframe\">\n",
       "  <thead>\n",
       "    <tr style=\"text-align: left;\">\n",
       "      <th>epoch</th>\n",
       "      <th>train_loss</th>\n",
       "      <th>valid_loss</th>\n",
       "      <th>foreground_acc</th>\n",
       "      <th>time</th>\n",
       "    </tr>\n",
       "  </thead>\n",
       "  <tbody>\n",
       "    <tr>\n",
       "      <td>0</td>\n",
       "      <td>0.585172</td>\n",
       "      <td>0.530360</td>\n",
       "      <td>0.855793</td>\n",
       "      <td>00:15</td>\n",
       "    </tr>\n",
       "    <tr>\n",
       "      <td>1</td>\n",
       "      <td>0.572407</td>\n",
       "      <td>0.485526</td>\n",
       "      <td>0.859105</td>\n",
       "      <td>00:15</td>\n",
       "    </tr>\n",
       "  </tbody>\n",
       "</table>"
      ],
      "text/plain": [
       "<IPython.core.display.HTML object>"
      ]
     },
     "metadata": {},
     "output_type": "display_data"
    },
    {
     "data": {
      "text/html": [
       "Total time: 00:36 <p><table border=\"1\" class=\"dataframe\">\n",
       "  <thead>\n",
       "    <tr style=\"text-align: left;\">\n",
       "      <th>epoch</th>\n",
       "      <th>train_loss</th>\n",
       "      <th>valid_loss</th>\n",
       "      <th>foreground_acc</th>\n",
       "      <th>time</th>\n",
       "    </tr>\n",
       "  </thead>\n",
       "  <tbody>\n",
       "    <tr>\n",
       "      <td>0</td>\n",
       "      <td>0.513032</td>\n",
       "      <td>0.413255</td>\n",
       "      <td>0.873264</td>\n",
       "      <td>00:18</td>\n",
       "    </tr>\n",
       "    <tr>\n",
       "      <td>1</td>\n",
       "      <td>0.497358</td>\n",
       "      <td>0.417243</td>\n",
       "      <td>0.868900</td>\n",
       "      <td>00:17</td>\n",
       "    </tr>\n",
       "  </tbody>\n",
       "</table>"
      ],
      "text/plain": [
       "<IPython.core.display.HTML object>"
      ]
     },
     "metadata": {},
     "output_type": "display_data"
    },
    {
     "name": "stdout",
     "output_type": "stream",
     "text": [
      "0.8689004778862\n"
     ]
    }
   ],
   "source": [
    "_test_model(model, data, split_fn)"
   ]
  },
  {
   "cell_type": "markdown",
   "metadata": {},
   "source": [
    "#### `test: smplinknet`"
   ]
  },
  {
   "cell_type": "code",
   "execution_count": 44,
   "metadata": {},
   "outputs": [],
   "source": [
    "model, split_fn, config = get_model(\"smplinknet\", data, {})"
   ]
  },
  {
   "cell_type": "code",
   "execution_count": 45,
   "metadata": {},
   "outputs": [
    {
     "data": {
      "text/html": [
       "Total time: 00:33 <p><table border=\"1\" class=\"dataframe\">\n",
       "  <thead>\n",
       "    <tr style=\"text-align: left;\">\n",
       "      <th>epoch</th>\n",
       "      <th>train_loss</th>\n",
       "      <th>valid_loss</th>\n",
       "      <th>foreground_acc</th>\n",
       "      <th>time</th>\n",
       "    </tr>\n",
       "  </thead>\n",
       "  <tbody>\n",
       "    <tr>\n",
       "      <td>0</td>\n",
       "      <td>1.300285</td>\n",
       "      <td>0.808546</td>\n",
       "      <td>0.836848</td>\n",
       "      <td>00:17</td>\n",
       "    </tr>\n",
       "    <tr>\n",
       "      <td>1</td>\n",
       "      <td>0.836103</td>\n",
       "      <td>0.701907</td>\n",
       "      <td>0.847225</td>\n",
       "      <td>00:16</td>\n",
       "    </tr>\n",
       "  </tbody>\n",
       "</table>"
      ],
      "text/plain": [
       "<IPython.core.display.HTML object>"
      ]
     },
     "metadata": {},
     "output_type": "display_data"
    },
    {
     "data": {
      "text/html": [
       "Total time: 00:34 <p><table border=\"1\" class=\"dataframe\">\n",
       "  <thead>\n",
       "    <tr style=\"text-align: left;\">\n",
       "      <th>epoch</th>\n",
       "      <th>train_loss</th>\n",
       "      <th>valid_loss</th>\n",
       "      <th>foreground_acc</th>\n",
       "      <th>time</th>\n",
       "    </tr>\n",
       "  </thead>\n",
       "  <tbody>\n",
       "    <tr>\n",
       "      <td>0</td>\n",
       "      <td>0.763721</td>\n",
       "      <td>0.655002</td>\n",
       "      <td>0.851313</td>\n",
       "      <td>00:16</td>\n",
       "    </tr>\n",
       "    <tr>\n",
       "      <td>1</td>\n",
       "      <td>0.709223</td>\n",
       "      <td>0.614126</td>\n",
       "      <td>0.852938</td>\n",
       "      <td>00:17</td>\n",
       "    </tr>\n",
       "  </tbody>\n",
       "</table>"
      ],
      "text/plain": [
       "<IPython.core.display.HTML object>"
      ]
     },
     "metadata": {},
     "output_type": "display_data"
    },
    {
     "data": {
      "text/html": [
       "Total time: 00:38 <p><table border=\"1\" class=\"dataframe\">\n",
       "  <thead>\n",
       "    <tr style=\"text-align: left;\">\n",
       "      <th>epoch</th>\n",
       "      <th>train_loss</th>\n",
       "      <th>valid_loss</th>\n",
       "      <th>foreground_acc</th>\n",
       "      <th>time</th>\n",
       "    </tr>\n",
       "  </thead>\n",
       "  <tbody>\n",
       "    <tr>\n",
       "      <td>0</td>\n",
       "      <td>0.684031</td>\n",
       "      <td>0.583277</td>\n",
       "      <td>0.855636</td>\n",
       "      <td>00:19</td>\n",
       "    </tr>\n",
       "    <tr>\n",
       "      <td>1</td>\n",
       "      <td>0.656221</td>\n",
       "      <td>0.543988</td>\n",
       "      <td>0.858152</td>\n",
       "      <td>00:19</td>\n",
       "    </tr>\n",
       "  </tbody>\n",
       "</table>"
      ],
      "text/plain": [
       "<IPython.core.display.HTML object>"
      ]
     },
     "metadata": {},
     "output_type": "display_data"
    },
    {
     "name": "stdout",
     "output_type": "stream",
     "text": [
      "0.8581520915031433\n"
     ]
    }
   ],
   "source": [
    "_test_model(model, data, split_fn)"
   ]
  },
  {
   "cell_type": "markdown",
   "metadata": {},
   "source": [
    "#### `test: smppspnet`"
   ]
  },
  {
   "cell_type": "code",
   "execution_count": 46,
   "metadata": {},
   "outputs": [],
   "source": [
    "model, split_fn, config = get_model(\"smppspnet\", data, {})"
   ]
  },
  {
   "cell_type": "code",
   "execution_count": 47,
   "metadata": {},
   "outputs": [
    {
     "data": {
      "text/html": [
       "Total time: 00:26 <p><table border=\"1\" class=\"dataframe\">\n",
       "  <thead>\n",
       "    <tr style=\"text-align: left;\">\n",
       "      <th>epoch</th>\n",
       "      <th>train_loss</th>\n",
       "      <th>valid_loss</th>\n",
       "      <th>foreground_acc</th>\n",
       "      <th>time</th>\n",
       "    </tr>\n",
       "  </thead>\n",
       "  <tbody>\n",
       "    <tr>\n",
       "      <td>0</td>\n",
       "      <td>0.907720</td>\n",
       "      <td>0.563953</td>\n",
       "      <td>0.846346</td>\n",
       "      <td>00:13</td>\n",
       "    </tr>\n",
       "    <tr>\n",
       "      <td>1</td>\n",
       "      <td>0.622648</td>\n",
       "      <td>0.478826</td>\n",
       "      <td>0.863709</td>\n",
       "      <td>00:12</td>\n",
       "    </tr>\n",
       "  </tbody>\n",
       "</table>"
      ],
      "text/plain": [
       "<IPython.core.display.HTML object>"
      ]
     },
     "metadata": {},
     "output_type": "display_data"
    },
    {
     "data": {
      "text/html": [
       "Total time: 00:26 <p><table border=\"1\" class=\"dataframe\">\n",
       "  <thead>\n",
       "    <tr style=\"text-align: left;\">\n",
       "      <th>epoch</th>\n",
       "      <th>train_loss</th>\n",
       "      <th>valid_loss</th>\n",
       "      <th>foreground_acc</th>\n",
       "      <th>time</th>\n",
       "    </tr>\n",
       "  </thead>\n",
       "  <tbody>\n",
       "    <tr>\n",
       "      <td>0</td>\n",
       "      <td>0.581823</td>\n",
       "      <td>0.456502</td>\n",
       "      <td>0.872792</td>\n",
       "      <td>00:12</td>\n",
       "    </tr>\n",
       "    <tr>\n",
       "      <td>1</td>\n",
       "      <td>0.548576</td>\n",
       "      <td>0.437448</td>\n",
       "      <td>0.872428</td>\n",
       "      <td>00:13</td>\n",
       "    </tr>\n",
       "  </tbody>\n",
       "</table>"
      ],
      "text/plain": [
       "<IPython.core.display.HTML object>"
      ]
     },
     "metadata": {},
     "output_type": "display_data"
    },
    {
     "data": {
      "text/html": [
       "Total time: 00:27 <p><table border=\"1\" class=\"dataframe\">\n",
       "  <thead>\n",
       "    <tr style=\"text-align: left;\">\n",
       "      <th>epoch</th>\n",
       "      <th>train_loss</th>\n",
       "      <th>valid_loss</th>\n",
       "      <th>foreground_acc</th>\n",
       "      <th>time</th>\n",
       "    </tr>\n",
       "  </thead>\n",
       "  <tbody>\n",
       "    <tr>\n",
       "      <td>0</td>\n",
       "      <td>0.544534</td>\n",
       "      <td>0.438770</td>\n",
       "      <td>0.870150</td>\n",
       "      <td>00:13</td>\n",
       "    </tr>\n",
       "    <tr>\n",
       "      <td>1</td>\n",
       "      <td>0.518414</td>\n",
       "      <td>0.434794</td>\n",
       "      <td>0.871329</td>\n",
       "      <td>00:13</td>\n",
       "    </tr>\n",
       "  </tbody>\n",
       "</table>"
      ],
      "text/plain": [
       "<IPython.core.display.HTML object>"
      ]
     },
     "metadata": {},
     "output_type": "display_data"
    },
    {
     "name": "stdout",
     "output_type": "stream",
     "text": [
      "0.8713288307189941\n"
     ]
    }
   ],
   "source": [
    "_test_model(model, data, split_fn)"
   ]
  },
  {
   "cell_type": "markdown",
   "metadata": {},
   "source": [
    "#### `test: resdunet`"
   ]
  },
  {
   "cell_type": "code",
   "execution_count": 52,
   "metadata": {},
   "outputs": [],
   "source": [
    "model, split_fn, config = get_model(name=\"resdunet18\", data=data, config={\"self_attention\":False})"
   ]
  },
  {
   "cell_type": "code",
   "execution_count": 53,
   "metadata": {},
   "outputs": [
    {
     "data": {
      "text/html": [
       "Total time: 00:54 <p><table border=\"1\" class=\"dataframe\">\n",
       "  <thead>\n",
       "    <tr style=\"text-align: left;\">\n",
       "      <th>epoch</th>\n",
       "      <th>train_loss</th>\n",
       "      <th>valid_loss</th>\n",
       "      <th>foreground_acc</th>\n",
       "      <th>time</th>\n",
       "    </tr>\n",
       "  </thead>\n",
       "  <tbody>\n",
       "    <tr>\n",
       "      <td>0</td>\n",
       "      <td>1.221925</td>\n",
       "      <td>0.987110</td>\n",
       "      <td>0.745205</td>\n",
       "      <td>00:28</td>\n",
       "    </tr>\n",
       "    <tr>\n",
       "      <td>1</td>\n",
       "      <td>0.758828</td>\n",
       "      <td>0.637509</td>\n",
       "      <td>0.838978</td>\n",
       "      <td>00:25</td>\n",
       "    </tr>\n",
       "  </tbody>\n",
       "</table>"
      ],
      "text/plain": [
       "<IPython.core.display.HTML object>"
      ]
     },
     "metadata": {},
     "output_type": "display_data"
    },
    {
     "data": {
      "text/html": [
       "Total time: 00:53 <p><table border=\"1\" class=\"dataframe\">\n",
       "  <thead>\n",
       "    <tr style=\"text-align: left;\">\n",
       "      <th>epoch</th>\n",
       "      <th>train_loss</th>\n",
       "      <th>valid_loss</th>\n",
       "      <th>foreground_acc</th>\n",
       "      <th>time</th>\n",
       "    </tr>\n",
       "  </thead>\n",
       "  <tbody>\n",
       "    <tr>\n",
       "      <td>0</td>\n",
       "      <td>0.636126</td>\n",
       "      <td>0.524207</td>\n",
       "      <td>0.853481</td>\n",
       "      <td>00:26</td>\n",
       "    </tr>\n",
       "    <tr>\n",
       "      <td>1</td>\n",
       "      <td>0.573152</td>\n",
       "      <td>0.490320</td>\n",
       "      <td>0.856292</td>\n",
       "      <td>00:26</td>\n",
       "    </tr>\n",
       "  </tbody>\n",
       "</table>"
      ],
      "text/plain": [
       "<IPython.core.display.HTML object>"
      ]
     },
     "metadata": {},
     "output_type": "display_data"
    },
    {
     "data": {
      "text/html": [
       "Total time: 00:54 <p><table border=\"1\" class=\"dataframe\">\n",
       "  <thead>\n",
       "    <tr style=\"text-align: left;\">\n",
       "      <th>epoch</th>\n",
       "      <th>train_loss</th>\n",
       "      <th>valid_loss</th>\n",
       "      <th>foreground_acc</th>\n",
       "      <th>time</th>\n",
       "    </tr>\n",
       "  </thead>\n",
       "  <tbody>\n",
       "    <tr>\n",
       "      <td>0</td>\n",
       "      <td>0.510775</td>\n",
       "      <td>0.497969</td>\n",
       "      <td>0.860382</td>\n",
       "      <td>00:27</td>\n",
       "    </tr>\n",
       "    <tr>\n",
       "      <td>1</td>\n",
       "      <td>0.501385</td>\n",
       "      <td>0.397208</td>\n",
       "      <td>0.884266</td>\n",
       "      <td>00:27</td>\n",
       "    </tr>\n",
       "  </tbody>\n",
       "</table>"
      ],
      "text/plain": [
       "<IPython.core.display.HTML object>"
      ]
     },
     "metadata": {},
     "output_type": "display_data"
    },
    {
     "name": "stdout",
     "output_type": "stream",
     "text": [
      "0.8842664957046509\n"
     ]
    }
   ],
   "source": [
    "_test_model(model, data, split_fn)"
   ]
  },
  {
   "cell_type": "markdown",
   "metadata": {},
   "source": [
    "#### `test: seresdunext`"
   ]
  },
  {
   "cell_type": "code",
   "execution_count": 65,
   "metadata": {},
   "outputs": [],
   "source": [
    "data = _get_test_data(224)"
   ]
  },
  {
   "cell_type": "code",
   "execution_count": 66,
   "metadata": {},
   "outputs": [],
   "source": [
    "model, split_fn, config = get_model(name=\"seresdunext50\", data=data, config={\"self_attention\":True})"
   ]
  },
  {
   "cell_type": "code",
   "execution_count": 67,
   "metadata": {},
   "outputs": [
    {
     "data": {
      "text/html": [
       "Total time: 04:06 <p><table border=\"1\" class=\"dataframe\">\n",
       "  <thead>\n",
       "    <tr style=\"text-align: left;\">\n",
       "      <th>epoch</th>\n",
       "      <th>train_loss</th>\n",
       "      <th>valid_loss</th>\n",
       "      <th>foreground_acc</th>\n",
       "      <th>time</th>\n",
       "    </tr>\n",
       "  </thead>\n",
       "  <tbody>\n",
       "    <tr>\n",
       "      <td>0</td>\n",
       "      <td>4.702204</td>\n",
       "      <td>1.137622</td>\n",
       "      <td>0.641244</td>\n",
       "      <td>02:05</td>\n",
       "    </tr>\n",
       "    <tr>\n",
       "      <td>1</td>\n",
       "      <td>0.956674</td>\n",
       "      <td>0.642755</td>\n",
       "      <td>0.826381</td>\n",
       "      <td>02:01</td>\n",
       "    </tr>\n",
       "  </tbody>\n",
       "</table>"
      ],
      "text/plain": [
       "<IPython.core.display.HTML object>"
      ]
     },
     "metadata": {},
     "output_type": "display_data"
    },
    {
     "data": {
      "text/html": [
       "Total time: 04:09 <p><table border=\"1\" class=\"dataframe\">\n",
       "  <thead>\n",
       "    <tr style=\"text-align: left;\">\n",
       "      <th>epoch</th>\n",
       "      <th>train_loss</th>\n",
       "      <th>valid_loss</th>\n",
       "      <th>foreground_acc</th>\n",
       "      <th>time</th>\n",
       "    </tr>\n",
       "  </thead>\n",
       "  <tbody>\n",
       "    <tr>\n",
       "      <td>0</td>\n",
       "      <td>0.705070</td>\n",
       "      <td>0.585960</td>\n",
       "      <td>0.841091</td>\n",
       "      <td>02:04</td>\n",
       "    </tr>\n",
       "    <tr>\n",
       "      <td>1</td>\n",
       "      <td>0.622628</td>\n",
       "      <td>0.479730</td>\n",
       "      <td>0.858037</td>\n",
       "      <td>02:04</td>\n",
       "    </tr>\n",
       "  </tbody>\n",
       "</table>"
      ],
      "text/plain": [
       "<IPython.core.display.HTML object>"
      ]
     },
     "metadata": {},
     "output_type": "display_data"
    },
    {
     "data": {
      "text/html": [
       "Total time: 04:11 <p><table border=\"1\" class=\"dataframe\">\n",
       "  <thead>\n",
       "    <tr style=\"text-align: left;\">\n",
       "      <th>epoch</th>\n",
       "      <th>train_loss</th>\n",
       "      <th>valid_loss</th>\n",
       "      <th>foreground_acc</th>\n",
       "      <th>time</th>\n",
       "    </tr>\n",
       "  </thead>\n",
       "  <tbody>\n",
       "    <tr>\n",
       "      <td>0</td>\n",
       "      <td>0.552522</td>\n",
       "      <td>0.442669</td>\n",
       "      <td>0.868224</td>\n",
       "      <td>02:05</td>\n",
       "    </tr>\n",
       "    <tr>\n",
       "      <td>1</td>\n",
       "      <td>0.503666</td>\n",
       "      <td>0.390541</td>\n",
       "      <td>0.881810</td>\n",
       "      <td>02:05</td>\n",
       "    </tr>\n",
       "  </tbody>\n",
       "</table>"
      ],
      "text/plain": [
       "<IPython.core.display.HTML object>"
      ]
     },
     "metadata": {},
     "output_type": "display_data"
    },
    {
     "name": "stdout",
     "output_type": "stream",
     "text": [
      "0.8818103075027466\n"
     ]
    }
   ],
   "source": [
    "_test_model(model, data, split_fn)"
   ]
  },
  {
   "cell_type": "markdown",
   "metadata": {},
   "source": [
    "#### `test: deeplabv3+`"
   ]
  },
  {
   "cell_type": "code",
   "execution_count": 68,
   "metadata": {},
   "outputs": [],
   "source": [
    "model, split_fn, config = get_model(name=\"deeplabv3res50\", data=data, config={})"
   ]
  },
  {
   "cell_type": "code",
   "execution_count": 69,
   "metadata": {},
   "outputs": [
    {
     "data": {
      "text/html": [
       "Total time: 00:49 <p><table border=\"1\" class=\"dataframe\">\n",
       "  <thead>\n",
       "    <tr style=\"text-align: left;\">\n",
       "      <th>epoch</th>\n",
       "      <th>train_loss</th>\n",
       "      <th>valid_loss</th>\n",
       "      <th>foreground_acc</th>\n",
       "      <th>time</th>\n",
       "    </tr>\n",
       "  </thead>\n",
       "  <tbody>\n",
       "    <tr>\n",
       "      <td>0</td>\n",
       "      <td>0.867689</td>\n",
       "      <td>0.661466</td>\n",
       "      <td>0.827699</td>\n",
       "      <td>00:26</td>\n",
       "    </tr>\n",
       "    <tr>\n",
       "      <td>1</td>\n",
       "      <td>0.632980</td>\n",
       "      <td>0.507957</td>\n",
       "      <td>0.852487</td>\n",
       "      <td>00:22</td>\n",
       "    </tr>\n",
       "  </tbody>\n",
       "</table>"
      ],
      "text/plain": [
       "<IPython.core.display.HTML object>"
      ]
     },
     "metadata": {},
     "output_type": "display_data"
    },
    {
     "data": {
      "text/html": [
       "Total time: 00:51 <p><table border=\"1\" class=\"dataframe\">\n",
       "  <thead>\n",
       "    <tr style=\"text-align: left;\">\n",
       "      <th>epoch</th>\n",
       "      <th>train_loss</th>\n",
       "      <th>valid_loss</th>\n",
       "      <th>foreground_acc</th>\n",
       "      <th>time</th>\n",
       "    </tr>\n",
       "  </thead>\n",
       "  <tbody>\n",
       "    <tr>\n",
       "      <td>0</td>\n",
       "      <td>0.562511</td>\n",
       "      <td>0.482732</td>\n",
       "      <td>0.869619</td>\n",
       "      <td>00:26</td>\n",
       "    </tr>\n",
       "    <tr>\n",
       "      <td>1</td>\n",
       "      <td>0.562631</td>\n",
       "      <td>0.426355</td>\n",
       "      <td>0.876510</td>\n",
       "      <td>00:25</td>\n",
       "    </tr>\n",
       "  </tbody>\n",
       "</table>"
      ],
      "text/plain": [
       "<IPython.core.display.HTML object>"
      ]
     },
     "metadata": {},
     "output_type": "display_data"
    },
    {
     "data": {
      "text/html": [
       "Total time: 00:53 <p><table border=\"1\" class=\"dataframe\">\n",
       "  <thead>\n",
       "    <tr style=\"text-align: left;\">\n",
       "      <th>epoch</th>\n",
       "      <th>train_loss</th>\n",
       "      <th>valid_loss</th>\n",
       "      <th>foreground_acc</th>\n",
       "      <th>time</th>\n",
       "    </tr>\n",
       "  </thead>\n",
       "  <tbody>\n",
       "    <tr>\n",
       "      <td>0</td>\n",
       "      <td>0.481868</td>\n",
       "      <td>0.401254</td>\n",
       "      <td>0.883670</td>\n",
       "      <td>00:26</td>\n",
       "    </tr>\n",
       "    <tr>\n",
       "      <td>1</td>\n",
       "      <td>0.466730</td>\n",
       "      <td>0.387020</td>\n",
       "      <td>0.885651</td>\n",
       "      <td>00:26</td>\n",
       "    </tr>\n",
       "  </tbody>\n",
       "</table>"
      ],
      "text/plain": [
       "<IPython.core.display.HTML object>"
      ]
     },
     "metadata": {},
     "output_type": "display_data"
    },
    {
     "name": "stdout",
     "output_type": "stream",
     "text": [
      "0.8856508731842041\n"
     ]
    }
   ],
   "source": [
    "_test_model(model, data, split_fn)"
   ]
  },
  {
   "cell_type": "markdown",
   "metadata": {},
   "source": [
    "### export"
   ]
  },
  {
   "cell_type": "code",
   "execution_count": 71,
   "metadata": {},
   "outputs": [
    {
     "name": "stdout",
     "output_type": "stream",
     "text": [
      "Converted 00_test.ipynb.\n",
      "Converted 01_script.ipynb.\n",
      "Converted 02_scheduler.ipynb.\n",
      "Converted 03_callbacks.ipynb.\n",
      "Converted 04_optimizers_optimizers.ipynb.\n",
      "Converted 10_segmentation_dataset.ipynb.\n",
      "Converted 11_segmentation_losses_mulitlabel.ipynb.\n",
      "Converted 11b_segmentation_losses_binary.ipynb.\n",
      "Converted 12_segmentation_metrics.ipynb.\n",
      "Converted 13_segmentation_models.ipynb.\n",
      "Converted 14_segmentation_postprocess.ipynb.\n",
      "Converted 15_segmentation_tta.ipynb.\n",
      "Converted 16_segmentation_utils.ipynb.\n",
      "Converted 20_classification_dataset.ipynb.\n",
      "Converted 21_classification_losses.ipynb.\n",
      "Converted 23_classification_models.ipynb.\n",
      "Converted classification_training.ipynb.\n",
      "Converted segmentation_training.ipynb.\n"
     ]
    }
   ],
   "source": [
    "from local.notebook.export import notebook2script\n",
    "notebook2script(all_fs=True)"
   ]
  },
  {
   "cell_type": "markdown",
   "metadata": {},
   "source": [
    "### fin"
   ]
  }
 ],
 "metadata": {
  "kernelspec": {
   "display_name": "Python 3",
   "language": "python",
   "name": "python3"
  },
  "language_info": {
   "codemirror_mode": {
    "name": "ipython",
    "version": 3
   },
   "file_extension": ".py",
   "mimetype": "text/x-python",
   "name": "python",
   "nbconvert_exporter": "python",
   "pygments_lexer": "ipython3",
   "version": "3.7.2"
  }
 },
 "nbformat": 4,
 "nbformat_minor": 2
}
