{
 "cells": [
  {
   "cell_type": "code",
   "execution_count": 1,
   "metadata": {},
   "outputs": [
    {
     "data": {
      "application/javascript": [
       "IPython.notebook.set_autosave_interval(60000)"
      ]
     },
     "metadata": {},
     "output_type": "display_data"
    },
    {
     "name": "stdout",
     "output_type": "stream",
     "text": [
      "Autosaving every 60 seconds\n",
      "1.0.58.dev0\n"
     ]
    }
   ],
   "source": [
    "%autosave 60\n",
    "import fastai; print(fastai.__version__)"
   ]
  },
  {
   "cell_type": "code",
   "execution_count": 2,
   "metadata": {},
   "outputs": [],
   "source": [
    "#default_exp script"
   ]
  },
  {
   "cell_type": "code",
   "execution_count": 73,
   "metadata": {},
   "outputs": [],
   "source": [
    "#export\n",
    "import subprocess\n",
    "import shlex\n",
    "import datetime\n",
    "from fastai.core import Path\n",
    "import json"
   ]
  },
  {
   "cell_type": "code",
   "execution_count": 62,
   "metadata": {},
   "outputs": [
    {
     "data": {
      "text/plain": [
       "pathlib.Path"
      ]
     },
     "execution_count": 62,
     "metadata": {},
     "output_type": "execute_result"
    }
   ],
   "source": [
    "Path"
   ]
  },
  {
   "cell_type": "code",
   "execution_count": 109,
   "metadata": {},
   "outputs": [],
   "source": [
    "#export\n",
    "def _now(): return datetime.datetime.now().strftime(\"%m/%d/%Y, %H:%M:%S\")\n",
    "\n",
    "def _add_dict_to_json(fn, d):\n",
    "    \"Adds a dictionary to json-like file or creates one\"\n",
    "    assert type(d) == dict\n",
    "    path = Path(fn)\n",
    "    if path.exists(): l = json.loads(path.open().read())\n",
    "    else: l = []    \n",
    "    l.append(d)\n",
    "    with open(fn, \"w\") as f: f.write(json.dumps(l))\n",
    "        \n",
    "def run_command(command, logfn=None):\n",
    "    \"Run shell command as an external process, optionally write err to logfn\"\n",
    "    if type(command) == str: command = shlex.split(command)\n",
    "    elif type(command) == list: command = command\n",
    "    else: raise AssertionError(\"Command should be string or list\")\n",
    "    process = subprocess.Popen(command, stdout=subprocess.PIPE, stderr=subprocess.PIPE)\n",
    "    stdout = []\n",
    "    while True:\n",
    "        output = process.stdout.readline()\n",
    "        if output == b'' and process.poll() is not None: break\n",
    "        if output: \n",
    "            _out = output.decode(); print(_out.strip())\n",
    "            stdout.append(_out)\n",
    "    rc = process.poll()\n",
    "    _, stderr =  process.communicate()\n",
    "    err = stderr.decode(); print(err)\n",
    "    out = \"\".join(stdout)\n",
    "    if logfn:\n",
    "        d = {\"time\": _now(), \"stderr\":err, \"stdout\":out}\n",
    "        _add_dict_to_json(logfn, d)\n",
    "    return rc"
   ]
  },
  {
   "cell_type": "markdown",
   "metadata": {},
   "source": [
    "## `run_command`"
   ]
  },
  {
   "cell_type": "code",
   "execution_count": 110,
   "metadata": {},
   "outputs": [
    {
     "name": "stdout",
     "output_type": "stream",
     "text": [
      "ls: cannot access asdas: No such file or directory\n",
      "\n"
     ]
    },
    {
     "data": {
      "text/plain": [
       "2"
      ]
     },
     "execution_count": 110,
     "metadata": {},
     "output_type": "execute_result"
    }
   ],
   "source": [
    "# error message printed after return_code=2\n",
    "run_command(\"ls asdas\")"
   ]
  },
  {
   "cell_type": "code",
   "execution_count": 112,
   "metadata": {},
   "outputs": [
    {
     "name": "stdout",
     "output_type": "stream",
     "text": [
      "00_test.ipynb\n",
      "01_script.ipynb\n",
      "02_scheduler.ipynb\n",
      "03_callbacks.ipynb\n",
      "10_segmentation_dataset.ipynb\n",
      "11_segmentation_losses.ipynb\n",
      "12_segmentation_metrics.ipynb\n",
      "experiment_export\n",
      "images\n",
      "lib.pkl\n",
      "local\n",
      "models\n",
      "segmentation_training.ipynb\n",
      "segmentation_training.py\n",
      "test_training.sh\n",
      "\n"
     ]
    },
    {
     "data": {
      "text/plain": [
       "0"
      ]
     },
     "execution_count": 112,
     "metadata": {},
     "output_type": "execute_result"
    }
   ],
   "source": [
    "# no error command ran successfully\n",
    "run_command(\"ls\")"
   ]
  },
  {
   "cell_type": "code",
   "execution_count": 114,
   "metadata": {},
   "outputs": [
    {
     "name": "stdout",
     "output_type": "stream",
     "text": [
      "ls: cannot access asdas: No such file or directory\n",
      "\n"
     ]
    },
    {
     "data": {
      "text/plain": [
       "2"
      ]
     },
     "execution_count": 114,
     "metadata": {},
     "output_type": "execute_result"
    }
   ],
   "source": [
    "# optionally write stderr logs\n",
    "run_command(\"ls asdas\", logfn=\"stdouterr.log\")"
   ]
  },
  {
   "cell_type": "code",
   "execution_count": 117,
   "metadata": {},
   "outputs": [
    {
     "data": {
      "text/plain": [
       "[{'time': '09/17/2019, 21:29:35',\n",
       "  'stderr': 'ls: cannot access asdas: No such file or directory\\n',\n",
       "  'stdout': ''}]"
      ]
     },
     "execution_count": 117,
     "metadata": {},
     "output_type": "execute_result"
    }
   ],
   "source": [
    "json.loads(open(\"./stdouterr.log\").read())"
   ]
  },
  {
   "cell_type": "code",
   "execution_count": 119,
   "metadata": {},
   "outputs": [
    {
     "name": "stdout",
     "output_type": "stream",
     "text": [
      "total 488\n",
      "drwxrwxr-x. 7 turgutluk turgutluk   4096 Sep 17 21:30 .\n",
      "drwxrwxr-x. 5 turgutluk turgutluk   4096 Sep 15 19:46 ..\n",
      "-rw-rw-r--. 1 turgutluk turgutluk 135347 Sep 13 22:47 00_test.ipynb\n",
      "-rw-rw-r--. 1 turgutluk turgutluk  10770 Sep 17 21:30 01_script.ipynb\n",
      "-rw-rw-r--. 1 turgutluk turgutluk  58279 Sep 15 19:59 02_scheduler.ipynb\n",
      "-rw-rw-r--. 1 turgutluk turgutluk  32200 Sep 17 20:37 03_callbacks.ipynb\n",
      "-rw-r--r--. 1 turgutluk turgutluk 159815 Sep 17 20:45 10_segmentation_dataset.ipynb\n",
      "-rw-rw-r--. 1 turgutluk turgutluk   2657 Sep 13 22:27 11_segmentation_losses.ipynb\n",
      "-rw-rw-r--. 1 turgutluk turgutluk   5016 Sep 14 16:48 12_segmentation_metrics.ipynb\n",
      "drwxrwxr-x. 4 turgutluk turgutluk   4096 Sep 17 20:56 experiment_export\n",
      "drwxrwxr-x. 2 turgutluk turgutluk   4096 Sep 13 22:46 images\n",
      "drwxrwxr-x. 2 turgutluk turgutluk   4096 Sep 15 20:21 .ipynb_checkpoints\n",
      "-rw-rw-r--. 1 turgutluk turgutluk    895 Sep 13 17:38 lib.pkl\n",
      "drwxrwxr-x. 7 turgutluk turgutluk   4096 Sep 15 20:25 local\n",
      "drwxrwxr-x. 2 turgutluk turgutluk   4096 Sep 15 20:28 models\n",
      "-rw-r--r--. 1 turgutluk turgutluk  28649 Sep 17 21:09 segmentation_training.ipynb\n",
      "-rw-rw-r--. 1 turgutluk turgutluk   5979 Sep 17 20:56 segmentation_training.py\n",
      "-rw-rw-r--. 1 turgutluk turgutluk    114 Sep 17 21:29 stdouterr.log\n",
      "-rw-r--r--. 1 turgutluk turgutluk   1165 Sep 11 22:34 test_training.sh\n",
      "\n"
     ]
    },
    {
     "data": {
      "text/plain": [
       "0"
      ]
     },
     "execution_count": 119,
     "metadata": {},
     "output_type": "execute_result"
    }
   ],
   "source": [
    "# optionally write stderr logs\n",
    "run_command(\"ls -la\", logfn=\"stdouterr.log\")"
   ]
  },
  {
   "cell_type": "code",
   "execution_count": 120,
   "metadata": {},
   "outputs": [
    {
     "data": {
      "text/plain": [
       "[{'time': '09/17/2019, 21:29:35',\n",
       "  'stderr': 'ls: cannot access asdas: No such file or directory\\n',\n",
       "  'stdout': ''},\n",
       " {'time': '09/17/2019, 21:30:37',\n",
       "  'stderr': '',\n",
       "  'stdout': 'total 488\\ndrwxrwxr-x. 7 turgutluk turgutluk   4096 Sep 17 21:30 .\\ndrwxrwxr-x. 5 turgutluk turgutluk   4096 Sep 15 19:46 ..\\n-rw-rw-r--. 1 turgutluk turgutluk 135347 Sep 13 22:47 00_test.ipynb\\n-rw-rw-r--. 1 turgutluk turgutluk  10770 Sep 17 21:30 01_script.ipynb\\n-rw-rw-r--. 1 turgutluk turgutluk  58279 Sep 15 19:59 02_scheduler.ipynb\\n-rw-rw-r--. 1 turgutluk turgutluk  32200 Sep 17 20:37 03_callbacks.ipynb\\n-rw-r--r--. 1 turgutluk turgutluk 159815 Sep 17 20:45 10_segmentation_dataset.ipynb\\n-rw-rw-r--. 1 turgutluk turgutluk   2657 Sep 13 22:27 11_segmentation_losses.ipynb\\n-rw-rw-r--. 1 turgutluk turgutluk   5016 Sep 14 16:48 12_segmentation_metrics.ipynb\\ndrwxrwxr-x. 4 turgutluk turgutluk   4096 Sep 17 20:56 experiment_export\\ndrwxrwxr-x. 2 turgutluk turgutluk   4096 Sep 13 22:46 images\\ndrwxrwxr-x. 2 turgutluk turgutluk   4096 Sep 15 20:21 .ipynb_checkpoints\\n-rw-rw-r--. 1 turgutluk turgutluk    895 Sep 13 17:38 lib.pkl\\ndrwxrwxr-x. 7 turgutluk turgutluk   4096 Sep 15 20:25 local\\ndrwxrwxr-x. 2 turgutluk turgutluk   4096 Sep 15 20:28 models\\n-rw-r--r--. 1 turgutluk turgutluk  28649 Sep 17 21:09 segmentation_training.ipynb\\n-rw-rw-r--. 1 turgutluk turgutluk   5979 Sep 17 20:56 segmentation_training.py\\n-rw-rw-r--. 1 turgutluk turgutluk    114 Sep 17 21:29 stdouterr.log\\n-rw-r--r--. 1 turgutluk turgutluk   1165 Sep 11 22:34 test_training.sh\\n'}]"
      ]
     },
     "execution_count": 120,
     "metadata": {},
     "output_type": "execute_result"
    }
   ],
   "source": [
    "json.loads(open(\"./stdouterr.log\").read())"
   ]
  },
  {
   "cell_type": "code",
   "execution_count": 121,
   "metadata": {},
   "outputs": [],
   "source": [
    "import os; os.remove('./stdouterr.log')"
   ]
  },
  {
   "cell_type": "code",
   "execution_count": 38,
   "metadata": {},
   "outputs": [
    {
     "name": "stdout",
     "output_type": "stream",
     "text": [
      "Converted 01_script.ipynb.\n"
     ]
    }
   ],
   "source": [
    "from local.notebook.export import notebook2script\n",
    "notebook2script(\"01_script.ipynb\")"
   ]
  },
  {
   "cell_type": "code",
   "execution_count": null,
   "metadata": {},
   "outputs": [],
   "source": []
  }
 ],
 "metadata": {
  "kernelspec": {
   "display_name": "Python 3",
   "language": "python",
   "name": "python3"
  },
  "language_info": {
   "codemirror_mode": {
    "name": "ipython",
    "version": 3
   },
   "file_extension": ".py",
   "mimetype": "text/x-python",
   "name": "python",
   "nbconvert_exporter": "python",
   "pygments_lexer": "ipython3",
   "version": "3.7.2"
  }
 },
 "nbformat": 4,
 "nbformat_minor": 2
}
