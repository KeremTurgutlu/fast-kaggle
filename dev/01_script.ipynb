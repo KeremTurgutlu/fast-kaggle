{
 "cells": [
  {
   "cell_type": "code",
   "execution_count": 1,
   "metadata": {},
   "outputs": [
    {
     "data": {
      "application/javascript": [
       "IPython.notebook.set_autosave_interval(60000)"
      ]
     },
     "metadata": {},
     "output_type": "display_data"
    },
    {
     "name": "stdout",
     "output_type": "stream",
     "text": [
      "Autosaving every 60 seconds\n",
      "1.0.58.dev0\n"
     ]
    }
   ],
   "source": [
    "%autosave 60\n",
    "import fastai; print(fastai.__version__)"
   ]
  },
  {
   "cell_type": "code",
   "execution_count": 2,
   "metadata": {},
   "outputs": [],
   "source": [
    "#default_exp script"
   ]
  },
  {
   "cell_type": "code",
   "execution_count": 3,
   "metadata": {},
   "outputs": [],
   "source": [
    "#export\n",
    "import subprocess\n",
    "import shlex\n",
    "import datetime\n",
    "from fastai.core import Path\n",
    "import json"
   ]
  },
  {
   "cell_type": "code",
   "execution_count": 4,
   "metadata": {},
   "outputs": [],
   "source": [
    "#export\n",
    "def _now(): return datetime.datetime.now().strftime(\"%m/%d/%Y, %H:%M:%S\")\n",
    "\n",
    "def _add_dict_to_json(fn, d):\n",
    "    \"Adds a dictionary to json-like file or creates one\"\n",
    "    assert type(d) == dict\n",
    "    path = Path(fn)\n",
    "    if path.exists(): l = json.loads(path.open().read())\n",
    "    else: l = []    \n",
    "    l.append(d)\n",
    "    with open(fn, \"w\") as f: f.write(json.dumps(l))\n",
    "        \n",
    "def run_command(command, logfn=None):\n",
    "    \"Run shell command as an external process, optionally write logs to logfn\"\n",
    "    if type(command) == str: command = shlex.split(command)\n",
    "    elif type(command) == list: command = command\n",
    "    else: raise AssertionError(\"Command should be string or list\")\n",
    "    process = subprocess.Popen(command, stdout=subprocess.PIPE, stderr=subprocess.PIPE)\n",
    "    stdout = []\n",
    "    start_time = _now()\n",
    "    while True:\n",
    "        output = process.stdout.readline()\n",
    "        if output == b'' and process.poll() is not None: break\n",
    "        if output: \n",
    "            _out = output.decode(); print(_out.strip())\n",
    "            stdout.append(_out)\n",
    "    end_time = _now()\n",
    "    rc = process.poll()\n",
    "    _, stderr =  process.communicate()\n",
    "    err = stderr.decode(); print(err)\n",
    "    out = \"\".join(stdout)\n",
    "    if logfn:\n",
    "        d = {\"start_time\": start_time, \"end_time\": end_time, \n",
    "             \"command\": command, \"stderr\":err, \"stdout\":out}\n",
    "        _add_dict_to_json(logfn, d)\n",
    "    return rc"
   ]
  },
  {
   "cell_type": "markdown",
   "metadata": {},
   "source": [
    "## `run_command`"
   ]
  },
  {
   "cell_type": "code",
   "execution_count": 5,
   "metadata": {},
   "outputs": [
    {
     "name": "stdout",
     "output_type": "stream",
     "text": [
      "ls: cannot access asdas: No such file or directory\n",
      "\n"
     ]
    },
    {
     "data": {
      "text/plain": [
       "2"
      ]
     },
     "execution_count": 5,
     "metadata": {},
     "output_type": "execute_result"
    }
   ],
   "source": [
    "# error message printed after return_code=2\n",
    "run_command(\"ls asdas\")"
   ]
  },
  {
   "cell_type": "code",
   "execution_count": 6,
   "metadata": {},
   "outputs": [
    {
     "name": "stdout",
     "output_type": "stream",
     "text": [
      "00_test.ipynb\n",
      "01_script.ipynb\n",
      "02_scheduler.ipynb\n",
      "03_callbacks.ipynb\n",
      "04_optimizers_optimizers.ipynb\n",
      "10_segmentation_dataset.ipynb\n",
      "11b_segmentation_losses_binary.ipynb\n",
      "11_segmentation_losses_mulitlabel.ipynb\n",
      "12_segmentation_metrics.ipynb\n",
      "13_segmentation_models.ipynb\n",
      "14_segmentation_postprocess.ipynb\n",
      "15_segmentation_utils.ipynb\n",
      "experiment_export\n",
      "images\n",
      "lib.pkl\n",
      "local\n",
      "segmentation_training.ipynb\n",
      "segmentation_training.py\n",
      "\n"
     ]
    },
    {
     "data": {
      "text/plain": [
       "0"
      ]
     },
     "execution_count": 6,
     "metadata": {},
     "output_type": "execute_result"
    }
   ],
   "source": [
    "# no error command ran successfully\n",
    "run_command(\"ls\")"
   ]
  },
  {
   "cell_type": "code",
   "execution_count": 7,
   "metadata": {},
   "outputs": [
    {
     "name": "stdout",
     "output_type": "stream",
     "text": [
      "ls: cannot access asdas: No such file or directory\n",
      "\n"
     ]
    },
    {
     "data": {
      "text/plain": [
       "2"
      ]
     },
     "execution_count": 7,
     "metadata": {},
     "output_type": "execute_result"
    }
   ],
   "source": [
    "# optionally write stderr logs\n",
    "run_command(\"ls asdas\", logfn=\"stdouterr.log\")"
   ]
  },
  {
   "cell_type": "code",
   "execution_count": 8,
   "metadata": {},
   "outputs": [
    {
     "data": {
      "text/plain": [
       "[{'start_time': '10/12/2019, 23:18:32',\n",
       "  'end_time': '10/12/2019, 23:18:32',\n",
       "  'command': ['ls', 'asdas'],\n",
       "  'stderr': 'ls: cannot access asdas: No such file or directory\\n',\n",
       "  'stdout': ''}]"
      ]
     },
     "execution_count": 8,
     "metadata": {},
     "output_type": "execute_result"
    }
   ],
   "source": [
    "json.loads(open(\"./stdouterr.log\").read())"
   ]
  },
  {
   "cell_type": "code",
   "execution_count": 9,
   "metadata": {},
   "outputs": [
    {
     "name": "stdout",
     "output_type": "stream",
     "text": [
      "total 580\n",
      "drwxrwxr-x. 6 turgutluk turgutluk   4096 Oct 12 23:18 .\n",
      "drwxrwxr-x. 9 turgutluk turgutluk   4096 Oct 12 23:14 ..\n",
      "-rw-rw-r--. 1 turgutluk turgutluk 135665 Oct  1 21:50 00_test.ipynb\n",
      "-rw-rw-r--. 1 turgutluk turgutluk  10581 Oct 12 23:18 01_script.ipynb\n",
      "-rw-rw-r--. 1 turgutluk turgutluk  58258 Oct  1 21:50 02_scheduler.ipynb\n",
      "-rw-rw-r--. 1 turgutluk turgutluk  28034 Oct  1 21:50 03_callbacks.ipynb\n",
      "-rw-rw-r--. 1 turgutluk turgutluk  17012 Oct 12 23:02 04_optimizers_optimizers.ipynb\n",
      "-rw-rw-r--. 1 turgutluk turgutluk 158414 Oct 12 16:55 10_segmentation_dataset.ipynb\n",
      "-rw-rw-r--. 1 turgutluk turgutluk  28085 Oct  1 21:50 11b_segmentation_losses_binary.ipynb\n",
      "-rw-rw-r--. 1 turgutluk turgutluk  16244 Oct 12 16:55 11_segmentation_losses_mulitlabel.ipynb\n",
      "-rw-rw-r--. 1 turgutluk turgutluk  10877 Oct 12 16:55 12_segmentation_metrics.ipynb\n",
      "-rw-rw-r--. 1 turgutluk turgutluk  39680 Oct 12 16:55 13_segmentation_models.ipynb\n",
      "-rw-rw-r--. 1 turgutluk turgutluk   3768 Oct 12 16:55 14_segmentation_postprocess.ipynb\n",
      "-rw-rw-r--. 1 turgutluk turgutluk   4330 Oct 12 16:55 15_segmentation_utils.ipynb\n",
      "drwxrwxr-x. 4 turgutluk turgutluk   4096 Oct 12 23:15 experiment_export\n",
      "drwxrwxr-x. 2 turgutluk turgutluk   4096 Oct  1 21:50 images\n",
      "drwxrwxr-x. 2 turgutluk turgutluk   4096 Oct 12 15:20 .ipynb_checkpoints\n",
      "-rw-rw-r--. 1 turgutluk turgutluk    895 Oct  1 21:50 lib.pkl\n",
      "drwxrwxr-x. 7 turgutluk turgutluk   4096 Oct  1 21:50 local\n",
      "-rw-rw-r--. 1 turgutluk turgutluk  17975 Oct 12 23:17 segmentation_training.ipynb\n",
      "-rw-rw-r--. 1 turgutluk turgutluk   5878 Oct 12 23:09 segmentation_training.py\n",
      "-rw-rw-r--. 1 turgutluk turgutluk    184 Oct 12 23:18 stdouterr.log\n",
      "\n"
     ]
    },
    {
     "data": {
      "text/plain": [
       "0"
      ]
     },
     "execution_count": 9,
     "metadata": {},
     "output_type": "execute_result"
    }
   ],
   "source": [
    "# optionally write stderr logs\n",
    "run_command(\"ls -la\", logfn=\"/tmp/stdouterr.log\")"
   ]
  },
  {
   "cell_type": "code",
   "execution_count": 10,
   "metadata": {},
   "outputs": [
    {
     "data": {
      "text/plain": [
       "[{'start_time': '10/12/2019, 23:18:43',\n",
       "  'end_time': '10/12/2019, 23:18:43',\n",
       "  'command': ['ls', '-la'],\n",
       "  'stderr': '',\n",
       "  'stdout': 'total 580\\ndrwxrwxr-x. 6 turgutluk turgutluk   4096 Oct 12 23:18 .\\ndrwxrwxr-x. 9 turgutluk turgutluk   4096 Oct 12 23:14 ..\\n-rw-rw-r--. 1 turgutluk turgutluk 135665 Oct  1 21:50 00_test.ipynb\\n-rw-rw-r--. 1 turgutluk turgutluk  10581 Oct 12 23:18 01_script.ipynb\\n-rw-rw-r--. 1 turgutluk turgutluk  58258 Oct  1 21:50 02_scheduler.ipynb\\n-rw-rw-r--. 1 turgutluk turgutluk  28034 Oct  1 21:50 03_callbacks.ipynb\\n-rw-rw-r--. 1 turgutluk turgutluk  17012 Oct 12 23:02 04_optimizers_optimizers.ipynb\\n-rw-rw-r--. 1 turgutluk turgutluk 158414 Oct 12 16:55 10_segmentation_dataset.ipynb\\n-rw-rw-r--. 1 turgutluk turgutluk  28085 Oct  1 21:50 11b_segmentation_losses_binary.ipynb\\n-rw-rw-r--. 1 turgutluk turgutluk  16244 Oct 12 16:55 11_segmentation_losses_mulitlabel.ipynb\\n-rw-rw-r--. 1 turgutluk turgutluk  10877 Oct 12 16:55 12_segmentation_metrics.ipynb\\n-rw-rw-r--. 1 turgutluk turgutluk  39680 Oct 12 16:55 13_segmentation_models.ipynb\\n-rw-rw-r--. 1 turgutluk turgutluk   3768 Oct 12 16:55 14_segmentation_postprocess.ipynb\\n-rw-rw-r--. 1 turgutluk turgutluk   4330 Oct 12 16:55 15_segmentation_utils.ipynb\\ndrwxrwxr-x. 4 turgutluk turgutluk   4096 Oct 12 23:15 experiment_export\\ndrwxrwxr-x. 2 turgutluk turgutluk   4096 Oct  1 21:50 images\\ndrwxrwxr-x. 2 turgutluk turgutluk   4096 Oct 12 15:20 .ipynb_checkpoints\\n-rw-rw-r--. 1 turgutluk turgutluk    895 Oct  1 21:50 lib.pkl\\ndrwxrwxr-x. 7 turgutluk turgutluk   4096 Oct  1 21:50 local\\n-rw-rw-r--. 1 turgutluk turgutluk  17975 Oct 12 23:17 segmentation_training.ipynb\\n-rw-rw-r--. 1 turgutluk turgutluk   5878 Oct 12 23:09 segmentation_training.py\\n-rw-rw-r--. 1 turgutluk turgutluk    184 Oct 12 23:18 stdouterr.log\\n'}]"
      ]
     },
     "execution_count": 10,
     "metadata": {},
     "output_type": "execute_result"
    }
   ],
   "source": [
    "json.loads(open(\"/tmp/stdouterr.log\").read())"
   ]
  },
  {
   "cell_type": "markdown",
   "metadata": {},
   "source": [
    "### export"
   ]
  },
  {
   "cell_type": "code",
   "execution_count": 11,
   "metadata": {},
   "outputs": [
    {
     "name": "stdout",
     "output_type": "stream",
     "text": [
      "Converted 01_script.ipynb.\n"
     ]
    }
   ],
   "source": [
    "from local.notebook.export import notebook2script\n",
    "notebook2script(\"01_script.ipynb\")"
   ]
  },
  {
   "cell_type": "markdown",
   "metadata": {},
   "source": [
    "### fin"
   ]
  }
 ],
 "metadata": {
  "kernelspec": {
   "display_name": "Python 3",
   "language": "python",
   "name": "python3"
  },
  "language_info": {
   "codemirror_mode": {
    "name": "ipython",
    "version": 3
   },
   "file_extension": ".py",
   "mimetype": "text/x-python",
   "name": "python",
   "nbconvert_exporter": "python",
   "pygments_lexer": "ipython3",
   "version": "3.7.2"
  }
 },
 "nbformat": 4,
 "nbformat_minor": 2
}
