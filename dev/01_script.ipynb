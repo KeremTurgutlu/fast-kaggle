{
 "cells": [
  {
   "cell_type": "code",
   "execution_count": 4,
   "metadata": {},
   "outputs": [
    {
     "data": {
      "application/javascript": [
       "IPython.notebook.set_autosave_interval(60000)"
      ]
     },
     "metadata": {},
     "output_type": "display_data"
    },
    {
     "name": "stdout",
     "output_type": "stream",
     "text": [
      "Autosaving every 60 seconds\n",
      "1.0.58.dev0\n"
     ]
    }
   ],
   "source": [
    "%autosave 60\n",
    "import fastai; print(fastai.__version__)"
   ]
  },
  {
   "cell_type": "code",
   "execution_count": 5,
   "metadata": {},
   "outputs": [],
   "source": [
    "#default_exp script"
   ]
  },
  {
   "cell_type": "code",
   "execution_count": 6,
   "metadata": {},
   "outputs": [],
   "source": [
    "#export\n",
    "import subprocess\n",
    "import shlex\n",
    "import datetime"
   ]
  },
  {
   "cell_type": "code",
   "execution_count": 42,
   "metadata": {},
   "outputs": [],
   "source": [
    "#export\n",
    "def run_command(command, write_stderr=False):\n",
    "    \"Run shell command as an external process\"\n",
    "    if type(command) == str: command = shlex.split(command)\n",
    "    elif type(command) == list: command = command\n",
    "    else: raise AssertionError(\"Command should be string or list\")\n",
    "    process = subprocess.Popen(command, stdout=subprocess.PIPE, stderr=subprocess.PIPE)\n",
    "    while True:\n",
    "        output = process.stdout.readline()\n",
    "        if output == b'' and process.poll() is not None: break\n",
    "        if output: print (output.decode().strip())\n",
    "    rc = process.poll()\n",
    "    if rc != 0:\n",
    "        stdout, stderr =  process.communicate()\n",
    "        err = stderr.decode(); print(err)\n",
    "        with open(\"./stderr.log\", \"a\") as f:\n",
    "            now = datetime.datetime.now().strftime(\"%m/%d/%Y, %H:%M:%S\")\n",
    "            f.write(f\"\\n\\n\\nAPPENDED NEW ERROR at: {now}\\n\")\n",
    "            f.write(f\"COMMAND: {command}\\n\")\n",
    "            f.write(err)\n",
    "        return rc, stderr.decode()"
   ]
  },
  {
   "cell_type": "markdown",
   "metadata": {},
   "source": [
    "## `run_command`"
   ]
  },
  {
   "cell_type": "code",
   "execution_count": 43,
   "metadata": {},
   "outputs": [
    {
     "name": "stdout",
     "output_type": "stream",
     "text": [
      "ls: cannot access asdas: No such file or directory\n",
      "\n"
     ]
    },
    {
     "data": {
      "text/plain": [
       "(2, 'ls: cannot access asdas: No such file or directory\\n')"
      ]
     },
     "execution_count": 43,
     "metadata": {},
     "output_type": "execute_result"
    }
   ],
   "source": [
    "# error message printed after return_code=2\n",
    "run_command(\"ls asdas\")"
   ]
  },
  {
   "cell_type": "code",
   "execution_count": 44,
   "metadata": {},
   "outputs": [
    {
     "name": "stdout",
     "output_type": "stream",
     "text": [
      "00_testing_notebook_export.ipynb\n",
      "00_test.ipynb\n",
      "01_script.ipynb\n",
      "02_scheduler.ipynb\n",
      "03_callbacks.ipynb\n",
      "10_segmentation_dataset.ipynb\n",
      "11_segmentation_losses.ipynb\n",
      "12_segmentation_metrics.ipynb\n",
      "experiment_export\n",
      "images\n",
      "lib.pkl\n",
      "local\n",
      "models\n",
      "segmentation_training.ipynb\n",
      "segmentation_training.py\n",
      "stderr.log\n",
      "test_training.sh\n"
     ]
    }
   ],
   "source": [
    "# no error command ran successfully\n",
    "run_command(\"ls\")"
   ]
  },
  {
   "cell_type": "code",
   "execution_count": 59,
   "metadata": {},
   "outputs": [
    {
     "name": "stdout",
     "output_type": "stream",
     "text": [
      "ls: cannot access asdas: No such file or directory\n",
      "\n"
     ]
    },
    {
     "data": {
      "text/plain": [
       "(2, 'ls: cannot access asdas: No such file or directory\\n')"
      ]
     },
     "execution_count": 59,
     "metadata": {},
     "output_type": "execute_result"
    }
   ],
   "source": [
    "# optionally write stderr logs\n",
    "run_command(\"ls asdas\", write_stderr=True)"
   ]
  },
  {
   "cell_type": "code",
   "execution_count": 61,
   "metadata": {},
   "outputs": [
    {
     "name": "stdout",
     "output_type": "stream",
     "text": [
      "Converted 01_script.ipynb.\n"
     ]
    }
   ],
   "source": [
    "from local.notebook.export import notebook2script\n",
    "notebook2script(\"01_script.ipynb\")"
   ]
  }
 ],
 "metadata": {
  "kernelspec": {
   "display_name": "Python 3",
   "language": "python",
   "name": "python3"
  },
  "language_info": {
   "codemirror_mode": {
    "name": "ipython",
    "version": 3
   },
   "file_extension": ".py",
   "mimetype": "text/x-python",
   "name": "python",
   "nbconvert_exporter": "python",
   "pygments_lexer": "ipython3",
   "version": "3.7.2"
  }
 },
 "nbformat": 4,
 "nbformat_minor": 2
}
