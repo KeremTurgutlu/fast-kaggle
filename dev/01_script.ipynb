{
 "cells": [
  {
   "cell_type": "code",
   "execution_count": 1,
   "metadata": {},
   "outputs": [
    {
     "data": {
      "application/javascript": [
       "IPython.notebook.set_autosave_interval(60000)"
      ]
     },
     "metadata": {},
     "output_type": "display_data"
    },
    {
     "name": "stdout",
     "output_type": "stream",
     "text": [
      "Autosaving every 60 seconds\n",
      "1.0.58.dev0\n"
     ]
    }
   ],
   "source": [
    "%autosave 60\n",
    "import fastai; print(fastai.__version__)"
   ]
  },
  {
   "cell_type": "code",
   "execution_count": 2,
   "metadata": {},
   "outputs": [],
   "source": [
    "#default_exp script"
   ]
  },
  {
   "cell_type": "code",
   "execution_count": 3,
   "metadata": {},
   "outputs": [],
   "source": [
    "#export\n",
    "import subprocess\n",
    "import shlex\n",
    "import datetime"
   ]
  },
  {
   "cell_type": "code",
   "execution_count": 4,
   "metadata": {},
   "outputs": [],
   "source": [
    "#export\n",
    "def run_command(command, stderr_fn=None):\n",
    "    \"Run shell command as an external process, optionally write err to stderr_fn\"\n",
    "    if type(command) == str: command = shlex.split(command)\n",
    "    elif type(command) == list: command = command\n",
    "    else: raise AssertionError(\"Command should be string or list\")\n",
    "    process = subprocess.Popen(command, stdout=subprocess.PIPE, stderr=subprocess.PIPE)\n",
    "    while True:\n",
    "        output = process.stdout.readline()\n",
    "        if output == b'' and process.poll() is not None: break\n",
    "        if output: print (output.decode().strip())\n",
    "    rc = process.poll()\n",
    "    stdout, stderr =  process.communicate()\n",
    "    out = stdout.decode(); print(out)\n",
    "    err = stderr.decode(); print(err)\n",
    "#     if rc != 0:\n",
    "    if stderr_fn:\n",
    "        with open(stderr_fn, \"a\") as f:\n",
    "            now = datetime.datetime.now().strftime(\"%m/%d/%Y, %H:%M:%S\")\n",
    "            f.write(f\"\\n\\n\\nAPPENDED NEW ERROR at: {now}\\n\")\n",
    "            f.write(f\"COMMAND: {command}\\n\")\n",
    "            f.write(f\"STDERR: {err}\")\n",
    "            f.write(f\"STDOUT: {out}\")\n",
    "    return rc"
   ]
  },
  {
   "cell_type": "markdown",
   "metadata": {},
   "source": [
    "## `run_command`"
   ]
  },
  {
   "cell_type": "code",
   "execution_count": 5,
   "metadata": {},
   "outputs": [
    {
     "name": "stdout",
     "output_type": "stream",
     "text": [
      "\n",
      "ls: cannot access asdas: No such file or directory\n",
      "\n"
     ]
    },
    {
     "data": {
      "text/plain": [
       "2"
      ]
     },
     "execution_count": 5,
     "metadata": {},
     "output_type": "execute_result"
    }
   ],
   "source": [
    "# error message printed after return_code=2\n",
    "run_command(\"ls asdas\")"
   ]
  },
  {
   "cell_type": "code",
   "execution_count": 6,
   "metadata": {},
   "outputs": [
    {
     "name": "stdout",
     "output_type": "stream",
     "text": [
      "00_test.ipynb\n",
      "01_script.ipynb\n",
      "02_scheduler.ipynb\n",
      "03_callbacks.ipynb\n",
      "10_segmentation_dataset.ipynb\n",
      "11_segmentation_losses.ipynb\n",
      "12_segmentation_metrics.ipynb\n",
      "experiment_export\n",
      "images\n",
      "lib.pkl\n",
      "local\n",
      "models\n",
      "segmentation_training.ipynb\n",
      "segmentation_training.py\n",
      "test_training.sh\n",
      "\n",
      "\n"
     ]
    },
    {
     "data": {
      "text/plain": [
       "0"
      ]
     },
     "execution_count": 6,
     "metadata": {},
     "output_type": "execute_result"
    }
   ],
   "source": [
    "# no error command ran successfully\n",
    "run_command(\"ls\")"
   ]
  },
  {
   "cell_type": "code",
   "execution_count": 7,
   "metadata": {},
   "outputs": [
    {
     "name": "stdout",
     "output_type": "stream",
     "text": [
      "\n",
      "ls: cannot access asdas: No such file or directory\n",
      "\n"
     ]
    },
    {
     "data": {
      "text/plain": [
       "2"
      ]
     },
     "execution_count": 7,
     "metadata": {},
     "output_type": "execute_result"
    }
   ],
   "source": [
    "# optionally write stderr logs\n",
    "run_command(\"ls asdas\", stderr_fn=\"stderr.log\")"
   ]
  },
  {
   "cell_type": "code",
   "execution_count": 8,
   "metadata": {},
   "outputs": [
    {
     "name": "stdout",
     "output_type": "stream",
     "text": [
      "\n",
      "\n",
      "\n",
      "APPENDED NEW ERROR at: 09/15/2019, 21:30:38\n",
      "COMMAND: ['ls', 'asdas']\n",
      "STDERR: ls: cannot access asdas: No such file or directory\n",
      "STDOUT: \n"
     ]
    }
   ],
   "source": [
    "print(open(\"./stderr.log\").read())"
   ]
  },
  {
   "cell_type": "code",
   "execution_count": 9,
   "metadata": {},
   "outputs": [],
   "source": [
    "import os\n",
    "os.remove('./stderr.log')"
   ]
  },
  {
   "cell_type": "code",
   "execution_count": 10,
   "metadata": {},
   "outputs": [
    {
     "name": "stdout",
     "output_type": "stream",
     "text": [
      "Converted 01_script.ipynb.\n"
     ]
    }
   ],
   "source": [
    "from local.notebook.export import notebook2script\n",
    "notebook2script(\"01_script.ipynb\")"
   ]
  },
  {
   "cell_type": "code",
   "execution_count": null,
   "metadata": {},
   "outputs": [],
   "source": []
  }
 ],
 "metadata": {
  "kernelspec": {
   "display_name": "Python 3",
   "language": "python",
   "name": "python3"
  },
  "language_info": {
   "codemirror_mode": {
    "name": "ipython",
    "version": 3
   },
   "file_extension": ".py",
   "mimetype": "text/x-python",
   "name": "python",
   "nbconvert_exporter": "python",
   "pygments_lexer": "ipython3",
   "version": "3.7.2"
  }
 },
 "nbformat": 4,
 "nbformat_minor": 2
}
