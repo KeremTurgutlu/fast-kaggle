{
 "cells": [
  {
   "cell_type": "code",
   "execution_count": 1,
   "metadata": {},
   "outputs": [],
   "source": [
    "import fastai; fastai.__version__\n",
    "from fastai.vision import *"
   ]
  },
  {
   "cell_type": "code",
   "execution_count": 2,
   "metadata": {},
   "outputs": [],
   "source": [
    "import sys; sys.path.append(\"../dev\")\n",
    "from local.script import run_command"
   ]
  },
  {
   "cell_type": "code",
   "execution_count": 6,
   "metadata": {},
   "outputs": [
    {
     "name": "stdout",
     "output_type": "stream",
     "text": [
      "To use this log_lamb_rs, please run 'pip install tensorboardx'. Also you must have Tensorboard running to see results\n",
      "To use this log_lamb_rs, please run 'pip install tensorboardx'. Also you must have Tensorboard running to see results\n",
      "To use this log_lamb_rs, please run 'pip install tensorboardx'. Also you must have Tensorboard running to see results\n",
      "To use this log_lamb_rs, please run 'pip install tensorboardx'. Also you must have Tensorboard running to see results\n",
      "Print args here:\n",
      "Training with arch: <function resnet34 at 0x7f0889ed1730>\n",
      "Tracking metric: <function foreground_acc at 0x7f088a4e0ae8>\n",
      "Training with loss: FlattenedLoss of CrossEntropyLoss()\n",
      "Starting training with max_lr: 0.003\n",
      "Training with transfer learning\n",
      "epoch     train_loss  valid_loss  foreground_acc  time\n",
      "Total time: 00:12\n",
      "0         66.468239   2.059617    0.430138        00:12\n",
      "Total time: 00:12\n",
      "Better model found at epoch 0 with foreground_acc value: 0.43013817071914673.\n",
      "Total time: 00:12\n",
      "Total time: 00:12\n",
      "epoch     train_loss  valid_loss  foreground_acc  time\n",
      "Better model found at epoch 0 with foreground_acc value: 0.6015478372573853.\n",
      "Total time: 00:08\n",
      "0         1.645654    1.328560    0.601548        00:08\n",
      "Better model found at epoch 0 with foreground_acc value: 0.6015478372573853.\n",
      "Better model found at epoch 0 with foreground_acc value: 0.6015478372573853.\n",
      "Total time: 00:08\n",
      "Better model found at epoch 0 with foreground_acc value: 0.6015478372573853.\n",
      "Total time: 00:08\n",
      "Total time: 00:09\n",
      "epoch     train_loss  valid_loss  foreground_acc  time\n",
      "Better model found at epoch 0 with foreground_acc value: 0.709452748298645.\n",
      "0         1.192476    1.095905    0.709453        00:08\n",
      "Total time: 00:09\n",
      "Better model found at epoch 0 with foreground_acc value: 0.709452748298645.\n",
      "Better model found at epoch 0 with foreground_acc value: 0.709452748298645.\n",
      "Total time: 00:09\n",
      "Better model found at epoch 0 with foreground_acc value: 0.709452748298645.\n",
      "Total time: 00:09\n",
      "Total time: 00:09\n",
      "Exporting model to: ./experiment_exports/experiment1\n",
      "\n"
     ]
    },
    {
     "data": {
      "text/plain": [
       "'Success'"
      ]
     },
     "execution_count": 6,
     "metadata": {},
     "output_type": "execute_result"
    }
   ],
   "source": [
    "run_command(f\"\"\"\n",
    "python {Path(fastai.__file__).parent}/launch.py \n",
    "--gpus=0123 /home/turgutluk/git/fast-kaggle/dev/segmentation_training.py \\\n",
    "--PATH=/home/turgutluk/.fastai/data/camvid \\\n",
    "--IMAGES=images \\\n",
    "--MASKS=labels \\\n",
    "--CODES=codes.txt \\\n",
    "--TRAIN=train.txt \\\n",
    "--VALID=valid.txt \\\n",
    "--TEST=test.txt \\\n",
    "--bs=4 \\\n",
    "--size=112 \\\n",
    "--imagenet_pretrained=1 \\\n",
    "--max_lr=3e-3 \\\n",
    "--model_name=mybestmodel \\\n",
    "--epochs=1 \\\n",
    "--tracking_metric=foreground_acc \\\n",
    "--void_name=Void \\\n",
    "--loss_function=xentropy \\\n",
    "--opt=radam\n",
    "--EXPORT_PATH=./experiment_exports/experiment1\n",
    "\"\"\")"
   ]
  },
  {
   "cell_type": "code",
   "execution_count": null,
   "metadata": {},
   "outputs": [],
   "source": []
  },
  {
   "cell_type": "code",
   "execution_count": null,
   "metadata": {},
   "outputs": [],
   "source": []
  },
  {
   "cell_type": "code",
   "execution_count": null,
   "metadata": {},
   "outputs": [],
   "source": []
  },
  {
   "cell_type": "code",
   "execution_count": null,
   "metadata": {},
   "outputs": [],
   "source": []
  },
  {
   "cell_type": "code",
   "execution_count": null,
   "metadata": {},
   "outputs": [],
   "source": []
  },
  {
   "cell_type": "code",
   "execution_count": null,
   "metadata": {},
   "outputs": [],
   "source": []
  },
  {
   "cell_type": "code",
   "execution_count": null,
   "metadata": {},
   "outputs": [],
   "source": []
  },
  {
   "cell_type": "code",
   "execution_count": null,
   "metadata": {},
   "outputs": [],
   "source": []
  },
  {
   "cell_type": "code",
   "execution_count": null,
   "metadata": {},
   "outputs": [],
   "source": []
  },
  {
   "cell_type": "code",
   "execution_count": null,
   "metadata": {},
   "outputs": [],
   "source": []
  },
  {
   "cell_type": "code",
   "execution_count": null,
   "metadata": {},
   "outputs": [],
   "source": []
  },
  {
   "cell_type": "code",
   "execution_count": null,
   "metadata": {},
   "outputs": [],
   "source": []
  }
 ],
 "metadata": {
  "kernelspec": {
   "display_name": "Python 3",
   "language": "python",
   "name": "python3"
  },
  "language_info": {
   "codemirror_mode": {
    "name": "ipython",
    "version": 3
   },
   "file_extension": ".py",
   "mimetype": "text/x-python",
   "name": "python",
   "nbconvert_exporter": "python",
   "pygments_lexer": "ipython3",
   "version": "3.7.2"
  }
 },
 "nbformat": 4,
 "nbformat_minor": 2
}
