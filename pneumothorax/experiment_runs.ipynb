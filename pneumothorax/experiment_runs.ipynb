{
 "cells": [
  {
   "cell_type": "code",
   "execution_count": 6,
   "metadata": {},
   "outputs": [],
   "source": [
    "import fastai; fastai.__version__\n",
    "from fastai.vision import *"
   ]
  },
  {
   "cell_type": "code",
   "execution_count": 7,
   "metadata": {},
   "outputs": [],
   "source": [
    "import sys; sys.path.append(\"../dev\")\n",
    "from local.script import run_command"
   ]
  },
  {
   "cell_type": "markdown",
   "metadata": {},
   "source": [
    "### experiment runs"
   ]
  },
  {
   "cell_type": "code",
   "execution_count": 8,
   "metadata": {},
   "outputs": [],
   "source": [
    "PATH = Path(\"/home/turgutluk/data/siim_acr_pneu/\")\n",
    "IMAGES, MASKS, CODES, TRAIN, VALID, TEST = \\\n",
    "    \"train/images_1024\", \"train/masks_1024\", \"codes.txt\", \"train.txt\", 0.1, \"test.txt\""
   ]
  },
  {
   "cell_type": "code",
   "execution_count": 9,
   "metadata": {},
   "outputs": [],
   "source": [
    "bs = 1\n",
    "size = 1024\n",
    "epochs = 1\n",
    "VALID = 0.1\n",
    "sample_size = 100"
   ]
  },
  {
   "cell_type": "code",
   "execution_count": null,
   "metadata": {
    "scrolled": false
   },
   "outputs": [
    {
     "name": "stdout",
     "output_type": "stream",
     "text": [
      "To use this log_lamb_rs, please run 'pip install tensorboardx'. Also you must have Tensorboard running to see results\n",
      "To use this log_lamb_rs, please run 'pip install tensorboardx'. Also you must have Tensorboard running to see results\n",
      "To use this log_lamb_rs, please run 'pip install tensorboardx'. Also you must have Tensorboard running to see results\n",
      "To use this log_lamb_rs, please run 'pip install tensorboardx'. Also you must have Tensorboard running to see results\n",
      "To use this log_lamb_rs, please run 'pip install tensorboardx'. Also you must have Tensorboard running to see results\n",
      "To use this log_lamb_rs, please run 'pip install tensorboardx'. Also you must have Tensorboard running to see results\n",
      "To use this log_lamb_rs, please run 'pip install tensorboardx'. Also you must have Tensorboard running to see results\n",
      "Print args here:\n",
      "Training with arch: <function resnet34 at 0x7f89640b61e0>\n",
      "Tracking metric: <function dice at 0x7f886c79b840>\n",
      "Training with loss: FlattenedLoss of CrossEntropyLoss()\n",
      "Starting training with max_lr: 0.003\n",
      "Training with transfer learning\n",
      "Initializing self.best\n",
      "Initializing self.best\n",
      "epoch     train_loss  valid_loss  dice      time\n",
      "Initializing self.best\n",
      "Initializing self.best\n",
      "Initializing self.best\n",
      "Initializing self.best\n",
      "Initializing self.best\n",
      "Total time: 00:23\n",
      "Total time: 00:23\n",
      "Total time: 00:23\n",
      "Total time: 00:23\n",
      "0         0.175501    0.000258    0.571429  00:23\n",
      "Better model found at epoch 0 with dice value: 0.5714285969734192.\n",
      "Total time: 00:23\n",
      "Total time: 00:23\n",
      "Total time: 00:24\n",
      "epoch     train_loss  valid_loss  dice      time\n",
      "Total time: 00:11\n",
      "Total time: 00:11\n",
      "0         0.005567    0.024526    0.642857  00:11\n",
      "Total time: 00:11\n",
      "Better model found at epoch 0 with dice value: 0.6428571939468384.\n",
      "Total time: 00:11\n",
      "Total time: 00:11\n",
      "Total time: 00:11\n",
      "Total time: 00:12\n",
      "epoch     train_loss  valid_loss  dice      time\n",
      "Total time: 00:12\n",
      "Total time: 00:12\n",
      "Total time: 00:12\n",
      "Total time: 00:11\n",
      "0         0.009058    0.000007    0.642857  00:10\n",
      "Total time: 00:10\n",
      "Total time: 00:11\n",
      "Generating Raw Predictions for Valid...\n",
      "Total time: 00:12\n",
      "Generating Raw Predictions for Test...\n"
     ]
    }
   ],
   "source": [
    "run_command(f\"\"\"\n",
    "python {Path(fastai.__file__).parent}/launch.py \n",
    "--gpus=0123457 /home/turgutluk/git/fast-kaggle/dev/segmentation_training.py \\\n",
    "--PATH={PATH} \\\n",
    "--IMAGES={IMAGES} \\\n",
    "--MASKS={MASKS} \\\n",
    "--CODES={CODES} \\\n",
    "--TRAIN={TRAIN} \\\n",
    "--VALID={VALID} \\\n",
    "--TEST={TEST} \\\n",
    "--bs={bs} \\\n",
    "--size={size} \\\n",
    "--sample_size={sample_size} \\\n",
    "--imagenet_pretrained=1 \\\n",
    "--max_lr=3e-3 \\\n",
    "--model_name=bestmodel \\\n",
    "--epochs={epochs} \\\n",
    "--tracking_metric=dice \\\n",
    "--void_name=Void \\\n",
    "--loss_function=xentropy \\\n",
    "--opt=radam\n",
    "--EXPORT_PATH=./experiment_exports/experiment1\n",
    "\"\"\")"
   ]
  },
  {
   "cell_type": "markdown",
   "metadata": {},
   "source": [
    "### res"
   ]
  },
  {
   "cell_type": "code",
   "execution_count": 20,
   "metadata": {},
   "outputs": [],
   "source": [
    "from local.segmentation.metrics import *"
   ]
  },
  {
   "cell_type": "code",
   "execution_count": 5,
   "metadata": {
    "scrolled": true
   },
   "outputs": [
    {
     "data": {
      "text/plain": [
       "[PosixPath('experiment_exports/experiment1/tmp'),\n",
       " PosixPath('experiment_exports/experiment1/Test_raw_preds.pkl'),\n",
       " PosixPath('experiment_exports/experiment1/Valid_raw_preds.pkl'),\n",
       " PosixPath('experiment_exports/experiment1/models'),\n",
       " PosixPath('experiment_exports/experiment1/mybestmodel_export.pkl')]"
      ]
     },
     "execution_count": 5,
     "metadata": {},
     "output_type": "execute_result"
    }
   ],
   "source": [
    "export_path = Path(\"./experiment_exports/experiment1/\"); export_path.ls()"
   ]
  }
 ],
 "metadata": {
  "kernelspec": {
   "display_name": "Python 3",
   "language": "python",
   "name": "python3"
  },
  "language_info": {
   "codemirror_mode": {
    "name": "ipython",
    "version": 3
   },
   "file_extension": ".py",
   "mimetype": "text/x-python",
   "name": "python",
   "nbconvert_exporter": "python",
   "pygments_lexer": "ipython3",
   "version": "3.7.2"
  }
 },
 "nbformat": 4,
 "nbformat_minor": 2
}
