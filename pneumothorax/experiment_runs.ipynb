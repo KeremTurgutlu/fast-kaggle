{
 "cells": [
  {
   "cell_type": "code",
   "execution_count": 1,
   "metadata": {},
   "outputs": [],
   "source": [
    "import fastai; fastai.__version__\n",
    "from fastai.vision import *"
   ]
  },
  {
   "cell_type": "code",
   "execution_count": 2,
   "metadata": {},
   "outputs": [],
   "source": [
    "import sys; sys.path.append(\"../dev\")\n",
    "from local.script import run_command"
   ]
  },
  {
   "cell_type": "markdown",
   "metadata": {},
   "source": [
    "### experiment runs"
   ]
  },
  {
   "cell_type": "code",
   "execution_count": 3,
   "metadata": {},
   "outputs": [],
   "source": [
    "PATH = Path(\"/home/turgutluk/data/siim_acr_pneu/\")\n",
    "IMAGES, MASKS, CODES, TRAIN, VALID, TEST = \\\n",
    "    \"train/images_1024\", \"train/masks_1024\", \"codes.txt\", \"train.txt\", 0.1, \"test.txt\""
   ]
  },
  {
   "cell_type": "code",
   "execution_count": 4,
   "metadata": {},
   "outputs": [],
   "source": [
    "bs = 1\n",
    "size = 1024\n",
    "epochs = 1\n",
    "VALID = 0.4\n",
    "sample_size = None"
   ]
  },
  {
   "cell_type": "code",
   "execution_count": 5,
   "metadata": {
    "scrolled": false
   },
   "outputs": [
    {
     "name": "stdout",
     "output_type": "stream",
     "text": [
      "To use this log_lamb_rs, please run 'pip install tensorboardx'. Also you must have Tensorboard running to see results\n",
      "To use this log_lamb_rs, please run 'pip install tensorboardx'. Also you must have Tensorboard running to see results\n",
      "To use this log_lamb_rs, please run 'pip install tensorboardx'. Also you must have Tensorboard running to see results\n",
      "To use this log_lamb_rs, please run 'pip install tensorboardx'. Also you must have Tensorboard running to see results\n",
      "To use this log_lamb_rs, please run 'pip install tensorboardx'. Also you must have Tensorboard running to see results\n",
      "To use this log_lamb_rs, please run 'pip install tensorboardx'. Also you must have Tensorboard running to see results\n",
      "To use this log_lamb_rs, please run 'pip install tensorboardx'. Also you must have Tensorboard running to see results\n",
      "Print args here:\n",
      "Training with arch: <function resnet34 at 0x7f1b422841e0>\n",
      "Tracking metric: <function dice at 0x7f1a4a96a840>\n",
      "Training with loss: FlattenedLoss of CrossEntropyLoss()\n",
      "Starting training with max_lr: 0.003\n",
      "Training with transfer learning\n",
      "Initializing self.best\n",
      "Initializing self.best\n",
      "Initializing self.best\n",
      "Initializing self.best\n",
      "Initializing self.best\n",
      "epoch     train_loss  valid_loss  dice      time\n",
      "Initializing self.best\n",
      "Initializing self.best\n",
      "0         0.693027    0.235217    0.000000  00:16\n",
      "Better model found at epoch 0 with dice value: 0.0.\n",
      "Total time: 00:16\n",
      "Total time: 00:16\n",
      "Total time: 00:16\n",
      "Total time: 00:16\n",
      "Total time: 00:16\n",
      "Total time: 00:16\n",
      "Total time: 00:17\n",
      "epoch     train_loss  valid_loss  dice      time\n",
      "0         0.233204    0.242117    0.000000  00:05\n",
      "Total time: 00:05\n",
      "Total time: 00:06\n",
      "Total time: 00:06\n",
      "Total time: 00:06\n",
      "Total time: 00:06\n",
      "Total time: 00:06\n",
      "epoch     train_loss  valid_loss  dice      time\n",
      "Total time: 00:06\n",
      "Total time: 00:05\n",
      "Total time: 00:05\n",
      "Total time: 00:05\n",
      "0         0.190274    0.244826    0.000006  00:05\n",
      "Better model found at epoch 0 with dice value: 5.749379852204584e-06.\n",
      "Total time: 00:05\n",
      "Total time: 00:05\n",
      "Total time: 00:05\n",
      "Total time: 00:07\n",
      "Generating Raw Predictions for Valid...\n",
      "Done.\n",
      "Generating Raw Predictions for Test...\n",
      "Done.\n",
      "Exporting model to: ./experiment_exports/experiment1\n",
      "\n"
     ]
    },
    {
     "data": {
      "text/plain": [
       "0"
      ]
     },
     "execution_count": 5,
     "metadata": {},
     "output_type": "execute_result"
    }
   ],
   "source": [
    "run_command(f\"\"\"\n",
    "python {Path(fastai.__file__).parent}/launch.py \n",
    "--gpus=0123457 /home/turgutluk/git/fast-kaggle/dev/segmentation_training.py \\\n",
    "--PATH={PATH} \\\n",
    "--IMAGES={IMAGES} \\\n",
    "--MASKS={MASKS} \\\n",
    "--CODES={CODES} \\\n",
    "--TRAIN={TRAIN} \\\n",
    "--VALID={VALID} \\\n",
    "--TEST={TEST} \\\n",
    "--bs={bs} \\\n",
    "--size={size} \\\n",
    "--sample_size={sample_size} \\\n",
    "--imagenet_pretrained=1 \\\n",
    "--max_lr=3e-3 \\\n",
    "--model_name=bestmodel \\\n",
    "--epochs={epochs} \\\n",
    "--tracking_metric=dice \\\n",
    "--void_name=Void \\\n",
    "--loss_function=xentropy \\\n",
    "--opt=radam\n",
    "--EXPORT_PATH=./experiment_exports/experiment1\n",
    "\"\"\", logfn=\"./experiment_exports/experiment1/cli.log\")"
   ]
  },
  {
   "cell_type": "markdown",
   "metadata": {},
   "source": [
    "### res"
   ]
  },
  {
   "cell_type": "code",
   "execution_count": 6,
   "metadata": {},
   "outputs": [],
   "source": [
    "from local.segmentation.metrics import *"
   ]
  },
  {
   "cell_type": "code",
   "execution_count": 7,
   "metadata": {
    "scrolled": true
   },
   "outputs": [
    {
     "data": {
      "text/plain": [
       "[PosixPath('experiment_exports/experiment1/training_log.csv'),\n",
       " PosixPath('experiment_exports/experiment1/bestmodel_export.pkl'),\n",
       " PosixPath('experiment_exports/experiment1/cli.log'),\n",
       " PosixPath('experiment_exports/experiment1/tmp'),\n",
       " PosixPath('experiment_exports/experiment1/Test_raw_preds.pkl'),\n",
       " PosixPath('experiment_exports/experiment1/Valid_raw_preds.pkl'),\n",
       " PosixPath('experiment_exports/experiment1/models')]"
      ]
     },
     "execution_count": 7,
     "metadata": {},
     "output_type": "execute_result"
    }
   ],
   "source": [
    "export_path = Path(\"./experiment_exports/experiment1/\"); export_path.ls()"
   ]
  },
  {
   "cell_type": "code",
   "execution_count": 11,
   "metadata": {},
   "outputs": [],
   "source": [
    "log = json.loads(open(\"./experiment_exports/experiment1/cli.log\").read())"
   ]
  },
  {
   "cell_type": "code",
   "execution_count": 18,
   "metadata": {},
   "outputs": [
    {
     "name": "stdout",
     "output_type": "stream",
     "text": [
      "['python', '/home/turgutluk/fastai/fastai/launch.py', '--gpus=0123457', '/home/turgutluk/git/fast-kaggle/dev/segmentation_training.py', '--PATH=/home/turgutluk/data/siim_acr_pneu', '--IMAGES=train/images_1024', '--MASKS=train/masks_1024', '--CODES=codes.txt', '--TRAIN=train.txt', '--VALID=0.4', '--TEST=test.txt', '--bs=1', '--size=1024', '--sample_size=20', '--imagenet_pretrained=1', '--max_lr=3e-3', '--model_name=bestmodel', '--epochs=1', '--tracking_metric=dice', '--void_name=Void', '--loss_function=xentropy', '--opt=radam', '--EXPORT_PATH=./experiment_exports/experiment1']\n"
     ]
    }
   ],
   "source": [
    "print(log[0]['command'])"
   ]
  },
  {
   "cell_type": "code",
   "execution_count": 13,
   "metadata": {},
   "outputs": [],
   "source": [
    "res = torch.load('experiment_exports/experiment1/Test_raw_preds.pkl')"
   ]
  },
  {
   "cell_type": "code",
   "execution_count": 16,
   "metadata": {},
   "outputs": [
    {
     "data": {
      "text/plain": [
       "dict_keys(['fnames', 'preds', 'targs'])"
      ]
     },
     "execution_count": 16,
     "metadata": {},
     "output_type": "execute_result"
    }
   ],
   "source": [
    "res.keys()"
   ]
  },
  {
   "cell_type": "code",
   "execution_count": 17,
   "metadata": {},
   "outputs": [
    {
     "data": {
      "text/plain": [
       "torch.Size([3205, 2, 1024, 1024])"
      ]
     },
     "execution_count": 17,
     "metadata": {},
     "output_type": "execute_result"
    }
   ],
   "source": [
    "res['preds'].shape"
   ]
  },
  {
   "cell_type": "code",
   "execution_count": null,
   "metadata": {},
   "outputs": [],
   "source": [
    "ImageSegment(res['preds'].argmax(1)[0]).show()"
   ]
  },
  {
   "cell_type": "code",
   "execution_count": null,
   "metadata": {},
   "outputs": [],
   "source": []
  }
 ],
 "metadata": {
  "kernelspec": {
   "display_name": "Python 3",
   "language": "python",
   "name": "python3"
  },
  "language_info": {
   "codemirror_mode": {
    "name": "ipython",
    "version": 3
   },
   "file_extension": ".py",
   "mimetype": "text/x-python",
   "name": "python",
   "nbconvert_exporter": "python",
   "pygments_lexer": "ipython3",
   "version": "3.7.2"
  }
 },
 "nbformat": 4,
 "nbformat_minor": 2
}
